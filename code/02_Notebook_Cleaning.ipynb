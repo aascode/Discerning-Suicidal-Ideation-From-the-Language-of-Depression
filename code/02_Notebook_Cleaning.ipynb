{
 "cells": [
  {
   "cell_type": "code",
   "execution_count": 55,
   "metadata": {},
   "outputs": [],
   "source": [
    "# Imports\n",
    "import pandas as pd"
   ]
  },
  {
   "cell_type": "code",
   "execution_count": 56,
   "metadata": {},
   "outputs": [],
   "source": [
    "# Read in the data csv's with only the 6-Reddit Params identified as useful for NLP\n",
    "suicide_OG = pd.read_csv('../data/suicide_watch_6.csv')\n",
    "depression_OG = pd.read_csv('../data/depression_6.csv')"
   ]
  },
  {
   "cell_type": "code",
   "execution_count": 57,
   "metadata": {},
   "outputs": [],
   "source": [
    "# Column names associated with 6 Reddit Parameters identified as useful for NLP\n",
    "reddit_params = ['subreddit','author','selftext', 'title', 'num_comments', 'created_utc']"
   ]
  },
  {
   "cell_type": "markdown",
   "metadata": {},
   "source": [
    "## EDA\n",
    "\n",
    "### A.) r/suicide_watch Data"
   ]
  },
  {
   "cell_type": "code",
   "execution_count": 58,
   "metadata": {},
   "outputs": [],
   "source": [
    "# Keep an unclean copy for future reference\n",
    "suicide_df = suicide_OG.copy()"
   ]
  },
  {
   "cell_type": "code",
   "execution_count": 59,
   "metadata": {},
   "outputs": [
    {
     "data": {
      "text/plain": [
       "SuicideWatch    100100\n",
       "Name: subreddit, dtype: int64"
      ]
     },
     "execution_count": 59,
     "metadata": {},
     "output_type": "execute_result"
    }
   ],
   "source": [
    "# Every single entry has a properly labeled tag for the subreddit: 'SuicideWatch'\n",
    "suicide_df.subreddit.value_counts()"
   ]
  },
  {
   "cell_type": "code",
   "execution_count": 60,
   "metadata": {},
   "outputs": [],
   "source": [
    "# Reassign for simplicity\n",
    "suicide_df['subreddit'] = 1"
   ]
  },
  {
   "cell_type": "code",
   "execution_count": 106,
   "metadata": {},
   "outputs": [
    {
     "data": {
      "text/plain": [
       "subreddit        int64\n",
       "author          object\n",
       "selftext        object\n",
       "title           object\n",
       "num_comments     int64\n",
       "created_utc      int64\n",
       "dtype: object"
      ]
     },
     "execution_count": 106,
     "metadata": {},
     "output_type": "execute_result"
    }
   ],
   "source": [
    "# Check for proper data types, all looks correct\n",
    "suicide_df.dtypes"
   ]
  },
  {
   "cell_type": "code",
   "execution_count": 62,
   "metadata": {},
   "outputs": [
    {
     "data": {
      "text/plain": [
       "subreddit          0\n",
       "author             0\n",
       "selftext        6249\n",
       "title              2\n",
       "num_comments       0\n",
       "created_utc        0\n",
       "dtype: int64"
      ]
     },
     "execution_count": 62,
     "metadata": {},
     "output_type": "execute_result"
    }
   ],
   "source": [
    "# Notice 2-titles are null and 6,249-'selftext' entries are null\n",
    "suicide_df.isnull().sum()"
   ]
  },
  {
   "cell_type": "code",
   "execution_count": 63,
   "metadata": {},
   "outputs": [
    {
     "data": {
      "text/plain": [
       "63974    Nobody really cares unless you have a reason o...\n",
       "75035    I’ve been feeling pretty empty these past few ...\n",
       "Name: selftext, dtype: object"
      ]
     },
     "execution_count": 63,
     "metadata": {},
     "output_type": "execute_result"
    }
   ],
   "source": [
    "# After a closer look at null 'title' entries, the 'selftext' data are worth keeping\n",
    "suicide_df[suicide_df['title'].isnull()==True].selftext"
   ]
  },
  {
   "cell_type": "code",
   "execution_count": 64,
   "metadata": {},
   "outputs": [
    {
     "data": {
      "text/plain": [
       "83446"
      ]
     },
     "execution_count": 64,
     "metadata": {},
     "output_type": "execute_result"
    }
   ],
   "source": [
    "# 6,093 [removed] 'selftext' entries\n",
    "# 2,628 [deleted] 'selftext' entries\n",
    "\n",
    "# 83,446 + 619 = 84,065 unique 'selftext' entries\n",
    "suicide_df.selftext.value_counts()[618:].sum()"
   ]
  },
  {
   "cell_type": "code",
   "execution_count": 65,
   "metadata": {},
   "outputs": [
    {
     "data": {
      "text/plain": [
       ".                        310\n",
       "Help                     272\n",
       "I want to die            194\n",
       "I need help              153\n",
       "Goodbye                  105\n",
       "I'm done                  98\n",
       "I’m done                  91\n",
       "help                      88\n",
       "Please help me            70\n",
       "I want to kill myself     66\n",
       "Name: title, dtype: int64"
      ]
     },
     "execution_count": 65,
     "metadata": {},
     "output_type": "execute_result"
    }
   ],
   "source": [
    "# There are 86,389 unique titles \n",
    "# Consider how to ID duplicates to drop\n",
    "suicide_df.title.value_counts()[:10]"
   ]
  },
  {
   "cell_type": "code",
   "execution_count": 66,
   "metadata": {},
   "outputs": [
    {
     "data": {
      "text/plain": [
       "[deleted]             3077\n",
       "NightAir_              133\n",
       "cornrain               121\n",
       "darkpols368            102\n",
       "Throwawayiguess457     102\n",
       "                      ... \n",
       "peacoatbuttons           1\n",
       "Ril_Ruq                  1\n",
       "GaetanoCim               1\n",
       "anononder                1\n",
       "Tomahawk598              1\n",
       "Name: author, Length: 54682, dtype: int64"
      ]
     },
     "execution_count": 66,
     "metadata": {},
     "output_type": "execute_result"
    }
   ],
   "source": [
    "# There are 54,682 unique authors contributing\n",
    "# There are 3,077 author names [deleted]\n",
    "suicide_df.author.value_counts()"
   ]
  },
  {
   "cell_type": "code",
   "execution_count": 67,
   "metadata": {},
   "outputs": [
    {
     "data": {
      "text/plain": [
       "0    24.89\n",
       "1    20.68\n",
       "2    14.40\n",
       "3     9.18\n",
       "4     6.57\n",
       "Name: num_comments, dtype: float64"
      ]
     },
     "execution_count": 67,
     "metadata": {},
     "output_type": "execute_result"
    }
   ],
   "source": [
    "# 24.89% have zero comments\n",
    "# ~60% have 2 comments or less\n",
    "round(suicide_df.num_comments.value_counts(normalize=True)[:5]*100,2)"
   ]
  },
  {
   "cell_type": "markdown",
   "metadata": {},
   "source": [
    "***SUMMARY OF EDA FINDINGS***\n",
    "\n",
    "1. selftext\n",
    "    * 6,249 NaN\n",
    "    * 6,093 '[removed]'\n",
    "    * 2,628 '[deleted]'\n",
    "    * 619 w/ at least 1 duplicate\n",
    "2. title\n",
    "    * 2 NaN\n",
    "    * 86,389 unique\n",
    "3. author\n",
    "    * 3,077 '[deleted]'\n",
    "    * 54,682 unique"
   ]
  },
  {
   "cell_type": "markdown",
   "metadata": {},
   "source": [
    "## Cleaning Data\n",
    "\n",
    "### A.) r/suicide_watch"
   ]
  },
  {
   "cell_type": "code",
   "execution_count": 68,
   "metadata": {},
   "outputs": [
    {
     "data": {
      "text/plain": [
       "subreddit       0\n",
       "author          0\n",
       "selftext        0\n",
       "title           0\n",
       "num_comments    0\n",
       "created_utc     0\n",
       "dtype: int64"
      ]
     },
     "execution_count": 68,
     "metadata": {},
     "output_type": "execute_result"
    }
   ],
   "source": [
    "# Drop all 6,249 submissions with null 'selftext'\n",
    "suicide_df.dropna(inplace=True)\n",
    "suicide_df.isnull().sum()"
   ]
  },
  {
   "cell_type": "code",
   "execution_count": 69,
   "metadata": {},
   "outputs": [],
   "source": [
    "# ID indexes where selftext entries equal to either [deleted] or [removed]\n",
    "drop_rows = suicide_df[(suicide_df.selftext == '[deleted]') | \n",
    "                              (suicide_df.selftext == '[removed]')\n",
    "                             ].index.tolist()\n",
    "\n",
    "# Drop all 6,093-'[removed]' & 2,628-'[deleted]' selftext data\n",
    "suicide_df.drop(drop_rows,inplace=True)"
   ]
  },
  {
   "cell_type": "code",
   "execution_count": 70,
   "metadata": {},
   "outputs": [],
   "source": [
    "# Comments are not included in this analysis so,\n",
    "# posts where selftext AND title are duplicates should be dropped\n",
    "suicide_df.drop_duplicates(subset=['title','selftext'], \n",
    "                           keep='last', \n",
    "                           inplace=True, \n",
    "                           ignore_index=True)"
   ]
  },
  {
   "cell_type": "code",
   "execution_count": 71,
   "metadata": {},
   "outputs": [],
   "source": [
    "# The indices have no meaning so lets clean it up\n",
    "suicide_df.reset_index(drop=True, inplace=True)"
   ]
  },
  {
   "cell_type": "code",
   "execution_count": 72,
   "metadata": {},
   "outputs": [],
   "source": [
    "# Notice only 4 selftext/title duplicates were removed in cleaning\n",
    "suicide_df.selftext.value_counts()[615:];"
   ]
  },
  {
   "cell_type": "code",
   "execution_count": 73,
   "metadata": {},
   "outputs": [
    {
     "data": {
      "text/plain": [
       ".                                                                                                                                                                                                                                      26\n",
       "Please                                                                                                                                                                                                                                 18\n",
       "Title                                                                                                                                                                                                                                  17\n",
       "please                                                                                                                                                                                                                                 12\n",
       "...                                                                                                                                                                                                                                    10\n",
       "That’s all                                                                                                                                                                                                                              9\n",
       "Title says it all.                                                                                                                                                                                                                      8\n",
       ":(                                                                                                                                                                                                                                      8\n",
       "I’m a fucking weirdo I’m a creep I just hate myself I mean I just think I deserve a bullet in my head because I really am a creep I think tonight should be my last night I’m just sorry to everyone I’ve ever disappointed or hurt     8\n",
       "Help                                                                                                                                                                                                                                    7\n",
       "Name: selftext, dtype: int64"
      ]
     },
     "execution_count": 73,
     "metadata": {},
     "output_type": "execute_result"
    }
   ],
   "source": [
    "# Notice that we still have 73,325 unique title entries after cleaning\n",
    "suicide_df.selftext.value_counts()[:10]"
   ]
  },
  {
   "cell_type": "code",
   "execution_count": 74,
   "metadata": {},
   "outputs": [
    {
     "data": {
      "text/plain": [
       "71"
      ]
     },
     "execution_count": 74,
     "metadata": {},
     "output_type": "execute_result"
    }
   ],
   "source": [
    "# NOTE: I did not directly drop [deleted] authors, but now there are over 3,000 fewer\n",
    "len(suicide_df[suicide_df['author']=='[deleted]'])"
   ]
  },
  {
   "cell_type": "code",
   "execution_count": 75,
   "metadata": {},
   "outputs": [
    {
     "data": {
      "text/plain": [
       "1    21.72\n",
       "0    20.64\n",
       "2    15.07\n",
       "3     9.80\n",
       "4     6.98\n",
       "Name: num_comments, dtype: float64"
      ]
     },
     "execution_count": 75,
     "metadata": {},
     "output_type": "execute_result"
    }
   ],
   "source": [
    "# 20.64% have zero comments\n",
    "# 57.43% have 2 comments or less\n",
    "round(suicide_df.num_comments.value_counts(normalize=True)[:5]*100,2)"
   ]
  },
  {
   "cell_type": "markdown",
   "metadata": {},
   "source": [
    "## EDA\n",
    "\n",
    "### B.) r/depression Data"
   ]
  },
  {
   "cell_type": "code",
   "execution_count": 76,
   "metadata": {},
   "outputs": [],
   "source": [
    "# Keep an unclean copy for future reference\n",
    "depression_df = depression_OG.copy()"
   ]
  },
  {
   "cell_type": "code",
   "execution_count": 77,
   "metadata": {},
   "outputs": [
    {
     "data": {
      "text/plain": [
       "depression    100100\n",
       "Name: subreddit, dtype: int64"
      ]
     },
     "execution_count": 77,
     "metadata": {},
     "output_type": "execute_result"
    }
   ],
   "source": [
    "# Every single entry has a properly labeled tag for the subreddit: 'depression'\n",
    "depression_df.subreddit.value_counts()"
   ]
  },
  {
   "cell_type": "code",
   "execution_count": 78,
   "metadata": {},
   "outputs": [],
   "source": [
    "# Reassign for simplicity\n",
    "depression_df['subreddit'] = 0"
   ]
  },
  {
   "cell_type": "code",
   "execution_count": 79,
   "metadata": {},
   "outputs": [
    {
     "data": {
      "text/plain": [
       "subreddit        int64\n",
       "author          object\n",
       "selftext        object\n",
       "title           object\n",
       "num_comments     int64\n",
       "created_utc      int64\n",
       "dtype: object"
      ]
     },
     "execution_count": 79,
     "metadata": {},
     "output_type": "execute_result"
    }
   ],
   "source": [
    "# Check for proper data types, all looks correct\n",
    "depression_df.dtypes"
   ]
  },
  {
   "cell_type": "code",
   "execution_count": 80,
   "metadata": {},
   "outputs": [
    {
     "data": {
      "text/plain": [
       "subreddit          0\n",
       "author             0\n",
       "selftext        1309\n",
       "title              0\n",
       "num_comments       0\n",
       "created_utc        0\n",
       "dtype: int64"
      ]
     },
     "execution_count": 80,
     "metadata": {},
     "output_type": "execute_result"
    }
   ],
   "source": [
    "# Notice 1,309 entries in 'selftext' are null\n",
    "depression_df.isnull().sum()"
   ]
  },
  {
   "cell_type": "code",
   "execution_count": 81,
   "metadata": {},
   "outputs": [
    {
     "data": {
      "text/plain": [
       "81542"
      ]
     },
     "execution_count": 81,
     "metadata": {},
     "output_type": "execute_result"
    }
   ],
   "source": [
    "# 14,189 [removed] selftext\n",
    "# 2,163 [deleted] selftext\n",
    "\n",
    "# 81,542 + 410 = 81,951 unique 'selftext' entries\n",
    "depression_df.selftext.value_counts()[409:].sum()"
   ]
  },
  {
   "cell_type": "code",
   "execution_count": 82,
   "metadata": {},
   "outputs": [
    {
     "data": {
      "text/plain": [
       "Help                                                                      160\n",
       "I need help                                                               109\n",
       ".                                                                         106\n",
       "AIs from AI Dungeon 2 to sexy to funny and one based wholly on Reddit!     91\n",
       "I hate myself                                                              80\n",
       "I want to die                                                              77\n",
       "...                                                                        69\n",
       "I don't know what to do                                                    63\n",
       "Depression                                                                 61\n",
       "Am I depressed?                                                            61\n",
       "Name: title, dtype: int64"
      ]
     },
     "execution_count": 82,
     "metadata": {},
     "output_type": "execute_result"
    }
   ],
   "source": [
    "# There are 89,999 unique titles \n",
    "# Consider how to ID duplicates to drop\n",
    "depression_df.title.value_counts()[:10]"
   ]
  },
  {
   "cell_type": "code",
   "execution_count": 83,
   "metadata": {},
   "outputs": [
    {
     "data": {
      "text/plain": [
       "[deleted]           3004\n",
       "HypeToHype           122\n",
       "h3xadecimal2          91\n",
       "lifeishard99          78\n",
       "_ChilledVibez         77\n",
       "                    ... \n",
       "gothiccheesepuff       1\n",
       "anand-damani           1\n",
       "God_Is_Pizza           1\n",
       "feonixrizen            1\n",
       "vhr6190                1\n",
       "Name: author, Length: 59130, dtype: int64"
      ]
     },
     "execution_count": 83,
     "metadata": {},
     "output_type": "execute_result"
    }
   ],
   "source": [
    "# There are 59,130 unique authors contributing\n",
    "# There are 3,004 author names [deleted]\n",
    "depression_df.author.value_counts()"
   ]
  },
  {
   "cell_type": "code",
   "execution_count": 84,
   "metadata": {},
   "outputs": [
    {
     "data": {
      "text/plain": [
       "0    43.52\n",
       "1    16.68\n",
       "2    11.91\n",
       "3     7.11\n",
       "4     5.12\n",
       "Name: num_comments, dtype: float64"
      ]
     },
     "execution_count": 84,
     "metadata": {},
     "output_type": "execute_result"
    }
   ],
   "source": [
    "# 43.52% have zero comments\n",
    "# ~72% have 2 comments or less\n",
    "round(depression_df.num_comments.value_counts(normalize=True)[:5]*100,2)"
   ]
  },
  {
   "cell_type": "markdown",
   "metadata": {},
   "source": [
    "## Cleaning Data\n",
    "\n",
    "### B.) r/depression"
   ]
  },
  {
   "cell_type": "code",
   "execution_count": 85,
   "metadata": {},
   "outputs": [
    {
     "data": {
      "text/plain": [
       "subreddit       0\n",
       "author          0\n",
       "selftext        0\n",
       "title           0\n",
       "num_comments    0\n",
       "created_utc     0\n",
       "dtype: int64"
      ]
     },
     "execution_count": 85,
     "metadata": {},
     "output_type": "execute_result"
    }
   ],
   "source": [
    "# Drop all 1,309 submissions with null 'selftext'\n",
    "depression_df.dropna(inplace=True)\n",
    "depression_df.isnull().sum()"
   ]
  },
  {
   "cell_type": "code",
   "execution_count": 86,
   "metadata": {},
   "outputs": [],
   "source": [
    "# ID indexes where selftext entries equal to either [deleted] or [removed]\n",
    "drop_rows = depression_df[(depression_df.selftext == '[deleted]') | \n",
    "                              (depression_df.selftext == '[removed]')\n",
    "                             ].index.tolist()\n",
    "\n",
    "# Drop all 14,189-'[removed]' & 2,163-'[deleted]' selftext data\n",
    "depression_df.drop(drop_rows,inplace=True)"
   ]
  },
  {
   "cell_type": "code",
   "execution_count": 87,
   "metadata": {},
   "outputs": [],
   "source": [
    "# Comments are not included in this analysis so,\n",
    "# posts with duplicate selftext AND title submissions should be dropped\n",
    "depression_df.drop_duplicates(subset=['title','selftext'], \n",
    "                           keep='last', \n",
    "                           inplace=True, \n",
    "                           ignore_index=True)"
   ]
  },
  {
   "cell_type": "code",
   "execution_count": 88,
   "metadata": {},
   "outputs": [],
   "source": [
    "# The indices have no meaning so lets clean it up\n",
    "depression_df.reset_index(drop=True, inplace=True)"
   ]
  },
  {
   "cell_type": "code",
   "execution_count": 89,
   "metadata": {},
   "outputs": [],
   "source": [
    "# Notice 194 selftext/title duplicates were removed in cleaning\n",
    "# We still have 81,949 unique selftext entries\n",
    "depression_df.selftext.value_counts()[215:];"
   ]
  },
  {
   "cell_type": "code",
   "execution_count": 90,
   "metadata": {},
   "outputs": [
    {
     "data": {
      "text/plain": [
       "Help                                                                                               145\n",
       "I need help                                                                                         98\n",
       ".                                                                                                   93\n",
       "I hate myself                                                                                       68\n",
       "...                                                                                                 67\n",
       "                                                                                                  ... \n",
       "I’m just done                                                                                        1\n",
       "I've forgotten what it's like to be a functioning person. I'm watching myself from the outside.      1\n",
       "How do I deal with those damn voices?                                                                1\n",
       "Recently diagnosed; kind of makes sense                                                              1\n",
       "How to end it                                                                                        1\n",
       "Name: title, Length: 74111, dtype: int64"
      ]
     },
     "execution_count": 90,
     "metadata": {},
     "output_type": "execute_result"
    }
   ],
   "source": [
    "# 74,111 unique title submissions remain after cleaning\n",
    "depression_df.title.value_counts()"
   ]
  },
  {
   "cell_type": "code",
   "execution_count": 91,
   "metadata": {},
   "outputs": [
    {
     "data": {
      "text/plain": [
       "26"
      ]
     },
     "execution_count": 91,
     "metadata": {},
     "output_type": "execute_result"
    }
   ],
   "source": [
    "# NOTE: I did not directly drop [deleted] authors, but now there are nearly 3,000 fewer\n",
    "len(depression_df[depression_df['author']=='[deleted]'])"
   ]
  },
  {
   "cell_type": "code",
   "execution_count": 92,
   "metadata": {},
   "outputs": [
    {
     "data": {
      "text/plain": [
       "HypeToHype              117\n",
       "lifeishard99             64\n",
       "SniperNoSwiper           61\n",
       "TehDarkLorde             59\n",
       "Random_Doggo_            58\n",
       "                       ... \n",
       "thebigsadlol              1\n",
       "IsAnyoneThereTonight      1\n",
       "Ambrus6421                1\n",
       "invertedme                1\n",
       "etherious14               1\n",
       "Name: author, Length: 52522, dtype: int64"
      ]
     },
     "execution_count": 92,
     "metadata": {},
     "output_type": "execute_result"
    }
   ],
   "source": [
    "depression_df.author.value_counts()"
   ]
  },
  {
   "cell_type": "code",
   "execution_count": 93,
   "metadata": {},
   "outputs": [
    {
     "data": {
      "text/plain": [
       "0    35.50\n",
       "1    18.61\n",
       "2    13.50\n",
       "3     8.21\n",
       "4     5.92\n",
       "Name: num_comments, dtype: float64"
      ]
     },
     "execution_count": 93,
     "metadata": {},
     "output_type": "execute_result"
    }
   ],
   "source": [
    "# 35.5% have zero comments\n",
    "# 67.61% have 2 comments or less\n",
    "round(depression_df.num_comments.value_counts(normalize=True)[:5]*100,2)"
   ]
  },
  {
   "cell_type": "markdown",
   "metadata": {},
   "source": [
    "***OVERVIEW OF EDA AND CLEANING***\n",
    "\n",
    "1. suicide_watch: selftext\n",
    "    * 6,249 NaN         --> 0 (after cleaning)\n",
    "    * 6,093 '[removed]' --> 0 (after cleaning)\n",
    "    * 2,628 '[deleted]' --> 0 (after cleaning)\n",
    "    * 619 with more than 1 duplicate --> 615 (after cleaning)\n",
    "    * 84,064 --> 84, 060 (after cleaning)\n",
    "2. suicide_watch: title\n",
    "    * 2 NaN --> 0 (after cleaning)\n",
    "    * 86,389 unique --> 73,325 (after cleaning)\n",
    "3. suicide_watch: author\n",
    "    * 3,077 '[deleted]' --> 71(after cleaning)\n",
    "    * 54,682 unique --> 50,469(after cleaning)\n",
    "4. suicide_watch: comments\n",
    "    * ~25% have 0 comments --> ~21%(after cleaning)\n",
    "    * ~60% have 2 comments or less --> ~57% (after cleaning)\n",
    "---\n",
    "\n",
    "1. depression: selftext\n",
    "    * 1,309 NaN          --> 0 (after cleaning)\n",
    "    * 14,189 '[removed]' --> 0 (after cleaning)\n",
    "    * 2,163 '[deleted]'  --> 0 (after cleaning)\n",
    "    * 410 w/ at least 1 duplicate --> 216 (after cleaning)\n",
    "    * 81,951 unique submissions --> 81,949 (after cleaning)\n",
    "2. depression: title\n",
    "    * 2 NaN   --> 0 (after cleaning)\n",
    "    * 89,999 unique --> 74,111 (after cleaning)\n",
    "3. depression: author\n",
    "    * 3,004 '[deleted]' --> 26(after cleaning)\n",
    "    * 59,130 unique     --> 52,522(after cleaning)\n",
    "4. depression: comments\n",
    "    * ~43.5% have 0 comments --> ~35.5%(after cleaning)\n",
    "    * ~72% have 2 comments or less --> ~67% (after cleaning)"
   ]
  },
  {
   "cell_type": "markdown",
   "metadata": {},
   "source": [
    "***Check for outliers, short submissions that are meaningless***"
   ]
  },
  {
   "cell_type": "code",
   "execution_count": 94,
   "metadata": {},
   "outputs": [
    {
     "name": "stdout",
     "output_type": "stream",
     "text": [
      "[32, 568, 652, 3374, 3699, 4597, 5384, 7833, 9296, 9510, 9656, 10837, 10849, 11776, 12108, 13138, 13614, 15401, 15920, 16533, 17962, 19559, 20022, 20378, 24406, 25039, 25080, 26016, 26251, 30317, 31309, 34433, 37223, 38500, 41713, 42074, 46489, 47512, 48446, 54171, 55021, 55131, 55182, 58548, 58854, 58856, 59703, 60097, 61708, 62631, 63020, 63677, 64563, 65187, 66745, 67908, 69734, 71086, 71266, 72629, 73454, 73545, 78584, 78956, 79357, 79951, 80854, 81272, 81941, 83595]\n"
     ]
    },
    {
     "data": {
      "text/html": [
       "<div>\n",
       "<style scoped>\n",
       "    .dataframe tbody tr th:only-of-type {\n",
       "        vertical-align: middle;\n",
       "    }\n",
       "\n",
       "    .dataframe tbody tr th {\n",
       "        vertical-align: top;\n",
       "    }\n",
       "\n",
       "    .dataframe thead th {\n",
       "        text-align: right;\n",
       "    }\n",
       "</style>\n",
       "<table border=\"1\" class=\"dataframe\">\n",
       "  <thead>\n",
       "    <tr style=\"text-align: right;\">\n",
       "      <th></th>\n",
       "      <th>subreddit</th>\n",
       "      <th>author</th>\n",
       "      <th>selftext</th>\n",
       "      <th>title</th>\n",
       "      <th>num_comments</th>\n",
       "      <th>created_utc</th>\n",
       "    </tr>\n",
       "  </thead>\n",
       "  <tbody>\n",
       "    <tr>\n",
       "      <th>652</th>\n",
       "      <td>1</td>\n",
       "      <td>TensionOdd</td>\n",
       "      <td>他妈的</td>\n",
       "      <td>有点儿想死</td>\n",
       "      <td>0</td>\n",
       "      <td>1602750659</td>\n",
       "    </tr>\n",
       "    <tr>\n",
       "      <th>20022</th>\n",
       "      <td>1</td>\n",
       "      <td>Daddydick-nuts</td>\n",
       "      <td>...</td>\n",
       "      <td>...</td>\n",
       "      <td>1</td>\n",
       "      <td>1598510950</td>\n",
       "    </tr>\n",
       "    <tr>\n",
       "      <th>25039</th>\n",
       "      <td>1</td>\n",
       "      <td>DuppyChubbySuppyBup</td>\n",
       "      <td>ttt</td>\n",
       "      <td>ttttttt</td>\n",
       "      <td>0</td>\n",
       "      <td>1597407155</td>\n",
       "    </tr>\n",
       "    <tr>\n",
       "      <th>26251</th>\n",
       "      <td>1</td>\n",
       "      <td>DontCallDaCops</td>\n",
       "      <td>Testing.</td>\n",
       "      <td>Testing.</td>\n",
       "      <td>1</td>\n",
       "      <td>1597146561</td>\n",
       "    </tr>\n",
       "    <tr>\n",
       "      <th>31309</th>\n",
       "      <td>1</td>\n",
       "      <td>hi2020xx</td>\n",
       "      <td>.</td>\n",
       "      <td>Hi</td>\n",
       "      <td>2</td>\n",
       "      <td>1596055753</td>\n",
       "    </tr>\n",
       "    <tr>\n",
       "      <th>37223</th>\n",
       "      <td>1</td>\n",
       "      <td>you-should-kys</td>\n",
       "      <td>ok</td>\n",
       "      <td>ok</td>\n",
       "      <td>5</td>\n",
       "      <td>1594653313</td>\n",
       "    </tr>\n",
       "    <tr>\n",
       "      <th>38500</th>\n",
       "      <td>1</td>\n",
       "      <td>jnat7715</td>\n",
       "      <td>Bust</td>\n",
       "      <td>Nut</td>\n",
       "      <td>0</td>\n",
       "      <td>1594388487</td>\n",
       "    </tr>\n",
       "    <tr>\n",
       "      <th>54171</th>\n",
       "      <td>1</td>\n",
       "      <td>p_1000selfterminate</td>\n",
       "      <td>Xkd</td>\n",
       "      <td>Ehajdj</td>\n",
       "      <td>0</td>\n",
       "      <td>1590870419</td>\n",
       "    </tr>\n",
       "    <tr>\n",
       "      <th>55021</th>\n",
       "      <td>1</td>\n",
       "      <td>ZestycloseChest9</td>\n",
       "      <td>Aas</td>\n",
       "      <td>Hh</td>\n",
       "      <td>0</td>\n",
       "      <td>1590676597</td>\n",
       "    </tr>\n",
       "    <tr>\n",
       "      <th>58548</th>\n",
       "      <td>1</td>\n",
       "      <td>willnebrickhead</td>\n",
       "      <td>dcdcdcd</td>\n",
       "      <td>dcdc</td>\n",
       "      <td>0</td>\n",
       "      <td>1589889415</td>\n",
       "    </tr>\n",
       "    <tr>\n",
       "      <th>58854</th>\n",
       "      <td>1</td>\n",
       "      <td>pop_marvelous</td>\n",
       "      <td>Cc</td>\n",
       "      <td>Vv</td>\n",
       "      <td>0</td>\n",
       "      <td>1589826953</td>\n",
       "    </tr>\n",
       "    <tr>\n",
       "      <th>58856</th>\n",
       "      <td>1</td>\n",
       "      <td>Hyma_Navuduri</td>\n",
       "      <td>Cc</td>\n",
       "      <td>Ff</td>\n",
       "      <td>0</td>\n",
       "      <td>1589826664</td>\n",
       "    </tr>\n",
       "    <tr>\n",
       "      <th>61708</th>\n",
       "      <td>1</td>\n",
       "      <td>uniquestarr</td>\n",
       "      <td>Y</td>\n",
       "      <td>H</td>\n",
       "      <td>0</td>\n",
       "      <td>1589179559</td>\n",
       "    </tr>\n",
       "    <tr>\n",
       "      <th>64563</th>\n",
       "      <td>1</td>\n",
       "      <td>itypewannadie</td>\n",
       "      <td>pp</td>\n",
       "      <td>lol</td>\n",
       "      <td>0</td>\n",
       "      <td>1588515839</td>\n",
       "    </tr>\n",
       "    <tr>\n",
       "      <th>65187</th>\n",
       "      <td>1</td>\n",
       "      <td>getmesomehopeplz</td>\n",
       "      <td>test</td>\n",
       "      <td>test</td>\n",
       "      <td>0</td>\n",
       "      <td>1588377940</td>\n",
       "    </tr>\n",
       "    <tr>\n",
       "      <th>71086</th>\n",
       "      <td>1</td>\n",
       "      <td>[deleted]</td>\n",
       "      <td>.</td>\n",
       "      <td>...</td>\n",
       "      <td>6</td>\n",
       "      <td>1586910407</td>\n",
       "    </tr>\n",
       "    <tr>\n",
       "      <th>80854</th>\n",
       "      <td>1</td>\n",
       "      <td>Gogolo_KR</td>\n",
       "      <td>.</td>\n",
       "      <td>.</td>\n",
       "      <td>0</td>\n",
       "      <td>1584336010</td>\n",
       "    </tr>\n",
       "    <tr>\n",
       "      <th>83595</th>\n",
       "      <td>1</td>\n",
       "      <td>screamsintaki</td>\n",
       "      <td>hi</td>\n",
       "      <td>hi</td>\n",
       "      <td>4</td>\n",
       "      <td>1583641332</td>\n",
       "    </tr>\n",
       "  </tbody>\n",
       "</table>\n",
       "</div>"
      ],
      "text/plain": [
       "       subreddit               author  selftext     title  num_comments  \\\n",
       "652            1           TensionOdd       他妈的     有点儿想死             0   \n",
       "20022          1       Daddydick-nuts       ...       ...             1   \n",
       "25039          1  DuppyChubbySuppyBup       ttt   ttttttt             0   \n",
       "26251          1       DontCallDaCops  Testing.  Testing.             1   \n",
       "31309          1             hi2020xx         .        Hi             2   \n",
       "37223          1       you-should-kys        ok        ok             5   \n",
       "38500          1             jnat7715      Bust       Nut             0   \n",
       "54171          1  p_1000selfterminate       Xkd    Ehajdj             0   \n",
       "55021          1     ZestycloseChest9       Aas        Hh             0   \n",
       "58548          1      willnebrickhead   dcdcdcd      dcdc             0   \n",
       "58854          1        pop_marvelous        Cc        Vv             0   \n",
       "58856          1        Hyma_Navuduri        Cc        Ff             0   \n",
       "61708          1          uniquestarr         Y         H             0   \n",
       "64563          1        itypewannadie        pp       lol             0   \n",
       "65187          1     getmesomehopeplz      test      test             0   \n",
       "71086          1            [deleted]         .       ...             6   \n",
       "80854          1            Gogolo_KR         .         .             0   \n",
       "83595          1        screamsintaki        hi        hi             4   \n",
       "\n",
       "       created_utc  \n",
       "652     1602750659  \n",
       "20022   1598510950  \n",
       "25039   1597407155  \n",
       "26251   1597146561  \n",
       "31309   1596055753  \n",
       "37223   1594653313  \n",
       "38500   1594388487  \n",
       "54171   1590870419  \n",
       "55021   1590676597  \n",
       "58548   1589889415  \n",
       "58854   1589826953  \n",
       "58856   1589826664  \n",
       "61708   1589179559  \n",
       "64563   1588515839  \n",
       "65187   1588377940  \n",
       "71086   1586910407  \n",
       "80854   1584336010  \n",
       "83595   1583641332  "
      ]
     },
     "execution_count": 94,
     "metadata": {},
     "output_type": "execute_result"
    }
   ],
   "source": [
    "# Look for issues with short submissions\n",
    "short_subs = []\n",
    "for i in range(len(suicide_df)):\n",
    "    if (len(suicide_df.selftext[i])<10) & (len(suicide_df.title[i])<10):\n",
    "        short_subs.append(i)\n",
    "        \n",
    "# Display for manual inspection\n",
    "print(short_subs)\n",
    "\n",
    "# Double check that the correct rows were identified as jibberish before dropping below\n",
    "suicide_df.iloc[[652, 20022, 25039, 26251, 31309, 37223, 38500, 54171, 55021, 58548, 58854, 58856, 61708, 64563, 65187, 71086, 80854, 83595]]"
   ]
  },
  {
   "cell_type": "code",
   "execution_count": 95,
   "metadata": {},
   "outputs": [],
   "source": [
    "# These are the rows identified as jibberish submissions by manual inspection above\n",
    "suicide_df.drop([652, 20022, 25039, 26251, 31309, 37223, 38500, 54171, 55021, 58548, 58854, 58856, 61708, 64563, 65187, 71086, 80854, 83595],inplace=True)\n",
    "# Drop the jibberish submissions and reset the index since it has no meaning\n",
    "suicide_df.reset_index(drop=True, inplace=True)"
   ]
  },
  {
   "cell_type": "code",
   "execution_count": 96,
   "metadata": {},
   "outputs": [
    {
     "name": "stdout",
     "output_type": "stream",
     "text": [
      "[17140, 44494, 45340, 45472, 49930, 53777, 54039, 54791, 55010, 57157, 57469, 60014, 61470, 61786, 62253, 62838, 63570, 63648, 66005, 66347, 66792, 67040, 69093, 69820, 70202, 71916, 75623, 76258, 77601, 78597, 82090]\n"
     ]
    },
    {
     "data": {
      "text/html": [
       "<div>\n",
       "<style scoped>\n",
       "    .dataframe tbody tr th:only-of-type {\n",
       "        vertical-align: middle;\n",
       "    }\n",
       "\n",
       "    .dataframe tbody tr th {\n",
       "        vertical-align: top;\n",
       "    }\n",
       "\n",
       "    .dataframe thead th {\n",
       "        text-align: right;\n",
       "    }\n",
       "</style>\n",
       "<table border=\"1\" class=\"dataframe\">\n",
       "  <thead>\n",
       "    <tr style=\"text-align: right;\">\n",
       "      <th></th>\n",
       "      <th>subreddit</th>\n",
       "      <th>author</th>\n",
       "      <th>selftext</th>\n",
       "      <th>title</th>\n",
       "      <th>num_comments</th>\n",
       "      <th>created_utc</th>\n",
       "    </tr>\n",
       "  </thead>\n",
       "  <tbody>\n",
       "    <tr>\n",
       "      <th>17140</th>\n",
       "      <td>0</td>\n",
       "      <td>guisardwizard</td>\n",
       "      <td>thats it.</td>\n",
       "      <td>I cant explain... why cant I explain how much ...</td>\n",
       "      <td>2</td>\n",
       "      <td>1599999138</td>\n",
       "    </tr>\n",
       "    <tr>\n",
       "      <th>44494</th>\n",
       "      <td>0</td>\n",
       "      <td>porcodio25</td>\n",
       "      <td>Ty</td>\n",
       "      <td>Yo how many floors do I have to jump from to d...</td>\n",
       "      <td>4</td>\n",
       "      <td>1595388451</td>\n",
       "    </tr>\n",
       "    <tr>\n",
       "      <th>45340</th>\n",
       "      <td>0</td>\n",
       "      <td>AHawk1987</td>\n",
       "      <td>Why</td>\n",
       "      <td>Life is a chore</td>\n",
       "      <td>0</td>\n",
       "      <td>1595243681</td>\n",
       "    </tr>\n",
       "    <tr>\n",
       "      <th>45472</th>\n",
       "      <td>0</td>\n",
       "      <td>zaynpt666</td>\n",
       "      <td>pain</td>\n",
       "      <td>pain</td>\n",
       "      <td>0</td>\n",
       "      <td>1595221307</td>\n",
       "    </tr>\n",
       "    <tr>\n",
       "      <th>49930</th>\n",
       "      <td>0</td>\n",
       "      <td>ComedyTragedy01</td>\n",
       "      <td>.</td>\n",
       "      <td>Why'd I do that?</td>\n",
       "      <td>1</td>\n",
       "      <td>1594495881</td>\n",
       "    </tr>\n",
       "    <tr>\n",
       "      <th>53777</th>\n",
       "      <td>0</td>\n",
       "      <td>HazelSkyCat</td>\n",
       "      <td>Title.</td>\n",
       "      <td>Lonely</td>\n",
       "      <td>0</td>\n",
       "      <td>1593928872</td>\n",
       "    </tr>\n",
       "    <tr>\n",
       "      <th>54039</th>\n",
       "      <td>0</td>\n",
       "      <td>thethrowawayguy82</td>\n",
       "      <td>please</td>\n",
       "      <td>when does it end</td>\n",
       "      <td>2</td>\n",
       "      <td>1593901716</td>\n",
       "    </tr>\n",
       "    <tr>\n",
       "      <th>54791</th>\n",
       "      <td>0</td>\n",
       "      <td>brothersinchrist2020</td>\n",
       "      <td>Wtf</td>\n",
       "      <td>My agoraphobia has gone from being too afraid ...</td>\n",
       "      <td>1</td>\n",
       "      <td>1593791457</td>\n",
       "    </tr>\n",
       "    <tr>\n",
       "      <th>55010</th>\n",
       "      <td>0</td>\n",
       "      <td>stonerchik25</td>\n",
       "      <td>☹</td>\n",
       "      <td>It's happening</td>\n",
       "      <td>0</td>\n",
       "      <td>1593755225</td>\n",
       "    </tr>\n",
       "    <tr>\n",
       "      <th>57157</th>\n",
       "      <td>0</td>\n",
       "      <td>porraSV</td>\n",
       "      <td>The title</td>\n",
       "      <td>I’m so tired that I want cease to exist.</td>\n",
       "      <td>2</td>\n",
       "      <td>1593442368</td>\n",
       "    </tr>\n",
       "    <tr>\n",
       "      <th>57469</th>\n",
       "      <td>0</td>\n",
       "      <td>panderamon</td>\n",
       "      <td>TYIA❤️</td>\n",
       "      <td>After stopping abilify did your weight go back...</td>\n",
       "      <td>1</td>\n",
       "      <td>1593395030</td>\n",
       "    </tr>\n",
       "    <tr>\n",
       "      <th>60014</th>\n",
       "      <td>0</td>\n",
       "      <td>WindEarthWater</td>\n",
       "      <td>Thats it</td>\n",
       "      <td>Cum in my ass</td>\n",
       "      <td>0</td>\n",
       "      <td>1592986327</td>\n",
       "    </tr>\n",
       "    <tr>\n",
       "      <th>61470</th>\n",
       "      <td>0</td>\n",
       "      <td>dubiCL</td>\n",
       "      <td>That</td>\n",
       "      <td>If college dosen't work this second time, im p...</td>\n",
       "      <td>1</td>\n",
       "      <td>1592779462</td>\n",
       "    </tr>\n",
       "    <tr>\n",
       "      <th>61786</th>\n",
       "      <td>0</td>\n",
       "      <td>Breach01</td>\n",
       "      <td>My</td>\n",
       "      <td>I have read so many of ur post!! Makes me sad ...</td>\n",
       "      <td>0</td>\n",
       "      <td>1592731030</td>\n",
       "    </tr>\n",
       "    <tr>\n",
       "      <th>62253</th>\n",
       "      <td>0</td>\n",
       "      <td>disonozaur</td>\n",
       "      <td>bruh</td>\n",
       "      <td>my life be like</td>\n",
       "      <td>0</td>\n",
       "      <td>1592661652</td>\n",
       "    </tr>\n",
       "    <tr>\n",
       "      <th>62838</th>\n",
       "      <td>0</td>\n",
       "      <td>SniperNoSwiper</td>\n",
       "      <td>thats all</td>\n",
       "      <td>Death is my 'light' at the end of the tunnel</td>\n",
       "      <td>2</td>\n",
       "      <td>1592582494</td>\n",
       "    </tr>\n",
       "    <tr>\n",
       "      <th>63570</th>\n",
       "      <td>0</td>\n",
       "      <td>kms69shrek</td>\n",
       "      <td>lovely</td>\n",
       "      <td>WHEN THEY SAY “TREAT OTHERS HOW YOU WANNA BE T...</td>\n",
       "      <td>3</td>\n",
       "      <td>1592468699</td>\n",
       "    </tr>\n",
       "    <tr>\n",
       "      <th>63648</th>\n",
       "      <td>0</td>\n",
       "      <td>Cuuuuuuuuunts</td>\n",
       "      <td>en.</td>\n",
       "      <td>Why are all gorgeous women such cruel, stupid ...</td>\n",
       "      <td>0</td>\n",
       "      <td>1592458328</td>\n",
       "    </tr>\n",
       "    <tr>\n",
       "      <th>66005</th>\n",
       "      <td>0</td>\n",
       "      <td>Throwawaythotx</td>\n",
       "      <td>.</td>\n",
       "      <td>I feel like shit all the time and want to die</td>\n",
       "      <td>3</td>\n",
       "      <td>1592142037</td>\n",
       "    </tr>\n",
       "    <tr>\n",
       "      <th>66347</th>\n",
       "      <td>0</td>\n",
       "      <td>Appropriate_Peanut_2</td>\n",
       "      <td>...</td>\n",
       "      <td>Just writing about my feelings to not keep it ...</td>\n",
       "      <td>0</td>\n",
       "      <td>1592090037</td>\n",
       "    </tr>\n",
       "    <tr>\n",
       "      <th>66792</th>\n",
       "      <td>0</td>\n",
       "      <td>unsurehowtofeel88</td>\n",
       "      <td>Sigh</td>\n",
       "      <td>Why can't I move on In my life I want to but I...</td>\n",
       "      <td>0</td>\n",
       "      <td>1592011310</td>\n",
       "    </tr>\n",
       "    <tr>\n",
       "      <th>67040</th>\n",
       "      <td>0</td>\n",
       "      <td>belgiumsfry</td>\n",
       "      <td>please</td>\n",
       "      <td>how do i find help</td>\n",
       "      <td>6</td>\n",
       "      <td>1591971704</td>\n",
       "    </tr>\n",
       "    <tr>\n",
       "      <th>69093</th>\n",
       "      <td>0</td>\n",
       "      <td>watergreygum</td>\n",
       "      <td>.</td>\n",
       "      <td>Don't know what to do</td>\n",
       "      <td>2</td>\n",
       "      <td>1591607969</td>\n",
       "    </tr>\n",
       "    <tr>\n",
       "      <th>69820</th>\n",
       "      <td>0</td>\n",
       "      <td>ellelove0666</td>\n",
       "      <td>.</td>\n",
       "      <td>Why do I always feel disconnected...?</td>\n",
       "      <td>0</td>\n",
       "      <td>1591505602</td>\n",
       "    </tr>\n",
       "    <tr>\n",
       "      <th>70202</th>\n",
       "      <td>0</td>\n",
       "      <td>watercatmeow</td>\n",
       "      <td>Literally</td>\n",
       "      <td>I’ve got nothing really to say tbh</td>\n",
       "      <td>0</td>\n",
       "      <td>1591455057</td>\n",
       "    </tr>\n",
       "    <tr>\n",
       "      <th>71916</th>\n",
       "      <td>0</td>\n",
       "      <td>IamJarJarB1nks</td>\n",
       "      <td>:(</td>\n",
       "      <td>Depression sure loves to kick in during the la...</td>\n",
       "      <td>0</td>\n",
       "      <td>1591178264</td>\n",
       "    </tr>\n",
       "    <tr>\n",
       "      <th>75623</th>\n",
       "      <td>0</td>\n",
       "      <td>hoegindas</td>\n",
       "      <td>j</td>\n",
       "      <td>j</td>\n",
       "      <td>0</td>\n",
       "      <td>1590570658</td>\n",
       "    </tr>\n",
       "    <tr>\n",
       "      <th>76258</th>\n",
       "      <td>0</td>\n",
       "      <td>dragonsky</td>\n",
       "      <td>:(</td>\n",
       "      <td>:)</td>\n",
       "      <td>1</td>\n",
       "      <td>1590475780</td>\n",
       "    </tr>\n",
       "    <tr>\n",
       "      <th>77601</th>\n",
       "      <td>0</td>\n",
       "      <td>GJG4157</td>\n",
       "      <td>That’s it</td>\n",
       "      <td>I’m tired of being alone</td>\n",
       "      <td>2</td>\n",
       "      <td>1590294076</td>\n",
       "    </tr>\n",
       "    <tr>\n",
       "      <th>78597</th>\n",
       "      <td>0</td>\n",
       "      <td>CigsAndNightSkies</td>\n",
       "      <td>Fuck life</td>\n",
       "      <td>I hate my fucking life. Fuck life fuck life fu...</td>\n",
       "      <td>1</td>\n",
       "      <td>1590138672</td>\n",
       "    </tr>\n",
       "    <tr>\n",
       "      <th>82090</th>\n",
       "      <td>0</td>\n",
       "      <td>Kiwi_2003</td>\n",
       "      <td>…</td>\n",
       "      <td>Hi. Is this normal if you have thoughts of wan...</td>\n",
       "      <td>0</td>\n",
       "      <td>1589624347</td>\n",
       "    </tr>\n",
       "  </tbody>\n",
       "</table>\n",
       "</div>"
      ],
      "text/plain": [
       "       subreddit                author   selftext  \\\n",
       "17140          0         guisardwizard  thats it.   \n",
       "44494          0            porcodio25         Ty   \n",
       "45340          0             AHawk1987        Why   \n",
       "45472          0             zaynpt666       pain   \n",
       "49930          0       ComedyTragedy01          .   \n",
       "53777          0           HazelSkyCat     Title.   \n",
       "54039          0     thethrowawayguy82     please   \n",
       "54791          0  brothersinchrist2020        Wtf   \n",
       "55010          0          stonerchik25          ☹   \n",
       "57157          0               porraSV  The title   \n",
       "57469          0            panderamon     TYIA❤️   \n",
       "60014          0        WindEarthWater   Thats it   \n",
       "61470          0                dubiCL       That   \n",
       "61786          0              Breach01         My   \n",
       "62253          0            disonozaur       bruh   \n",
       "62838          0        SniperNoSwiper  thats all   \n",
       "63570          0            kms69shrek     lovely   \n",
       "63648          0         Cuuuuuuuuunts        en.   \n",
       "66005          0        Throwawaythotx          .   \n",
       "66347          0  Appropriate_Peanut_2        ...   \n",
       "66792          0     unsurehowtofeel88       Sigh   \n",
       "67040          0           belgiumsfry     please   \n",
       "69093          0          watergreygum          .   \n",
       "69820          0          ellelove0666          .   \n",
       "70202          0          watercatmeow  Literally   \n",
       "71916          0        IamJarJarB1nks         :(   \n",
       "75623          0             hoegindas          j   \n",
       "76258          0             dragonsky         :(   \n",
       "77601          0               GJG4157  That’s it   \n",
       "78597          0     CigsAndNightSkies  Fuck life   \n",
       "82090          0             Kiwi_2003          …   \n",
       "\n",
       "                                                   title  num_comments  \\\n",
       "17140  I cant explain... why cant I explain how much ...             2   \n",
       "44494  Yo how many floors do I have to jump from to d...             4   \n",
       "45340                                    Life is a chore             0   \n",
       "45472                                               pain             0   \n",
       "49930                                   Why'd I do that?             1   \n",
       "53777                                             Lonely             0   \n",
       "54039                                   when does it end             2   \n",
       "54791  My agoraphobia has gone from being too afraid ...             1   \n",
       "55010                                     It's happening             0   \n",
       "57157           I’m so tired that I want cease to exist.             2   \n",
       "57469  After stopping abilify did your weight go back...             1   \n",
       "60014                                      Cum in my ass             0   \n",
       "61470  If college dosen't work this second time, im p...             1   \n",
       "61786  I have read so many of ur post!! Makes me sad ...             0   \n",
       "62253                                    my life be like             0   \n",
       "62838       Death is my 'light' at the end of the tunnel             2   \n",
       "63570  WHEN THEY SAY “TREAT OTHERS HOW YOU WANNA BE T...             3   \n",
       "63648  Why are all gorgeous women such cruel, stupid ...             0   \n",
       "66005      I feel like shit all the time and want to die             3   \n",
       "66347  Just writing about my feelings to not keep it ...             0   \n",
       "66792  Why can't I move on In my life I want to but I...             0   \n",
       "67040                                 how do i find help             6   \n",
       "69093                              Don't know what to do             2   \n",
       "69820              Why do I always feel disconnected...?             0   \n",
       "70202                 I’ve got nothing really to say tbh             0   \n",
       "71916  Depression sure loves to kick in during the la...             0   \n",
       "75623                                                  j             0   \n",
       "76258                                                 :)             1   \n",
       "77601                           I’m tired of being alone             2   \n",
       "78597  I hate my fucking life. Fuck life fuck life fu...             1   \n",
       "82090  Hi. Is this normal if you have thoughts of wan...             0   \n",
       "\n",
       "       created_utc  \n",
       "17140   1599999138  \n",
       "44494   1595388451  \n",
       "45340   1595243681  \n",
       "45472   1595221307  \n",
       "49930   1594495881  \n",
       "53777   1593928872  \n",
       "54039   1593901716  \n",
       "54791   1593791457  \n",
       "55010   1593755225  \n",
       "57157   1593442368  \n",
       "57469   1593395030  \n",
       "60014   1592986327  \n",
       "61470   1592779462  \n",
       "61786   1592731030  \n",
       "62253   1592661652  \n",
       "62838   1592582494  \n",
       "63570   1592468699  \n",
       "63648   1592458328  \n",
       "66005   1592142037  \n",
       "66347   1592090037  \n",
       "66792   1592011310  \n",
       "67040   1591971704  \n",
       "69093   1591607969  \n",
       "69820   1591505602  \n",
       "70202   1591455057  \n",
       "71916   1591178264  \n",
       "75623   1590570658  \n",
       "76258   1590475780  \n",
       "77601   1590294076  \n",
       "78597   1590138672  \n",
       "82090   1589624347  "
      ]
     },
     "execution_count": 96,
     "metadata": {},
     "output_type": "execute_result"
    }
   ],
   "source": [
    "# Look for issues with short submissions\n",
    "short_subs = []\n",
    "for i in range(len(depression_df)):\n",
    "    if (len(depression_df.selftext[i])<10):\n",
    "        short_subs.append(i)\n",
    "        \n",
    "# Display for manual inspection\n",
    "print(short_subs)\n",
    "\n",
    "# Double check that the correct rows were identified as jibberish before dropping below\n",
    "depression_df.iloc[short_subs]"
   ]
  },
  {
   "cell_type": "code",
   "execution_count": 97,
   "metadata": {},
   "outputs": [],
   "source": [
    "# Only one submission identified as jibberish by inspection of shortest data above\n",
    "depression_df.drop([75623],inplace=True)\n",
    "# Drop the jibberish submissions and reset the index since it has no meaning\n",
    "depression_df.reset_index(drop=True, inplace=True)"
   ]
  },
  {
   "cell_type": "code",
   "execution_count": 98,
   "metadata": {},
   "outputs": [],
   "source": [
    "# Saving my cleaned up Data for NLP\n",
    "suicide_clean = suicide_df.copy()\n",
    "depression_clean = depression_df.copy()"
   ]
  },
  {
   "cell_type": "code",
   "execution_count": 99,
   "metadata": {},
   "outputs": [],
   "source": [
    "# Concatenate the Subreddit DataFrames\n",
    "subreddits = pd.concat([suicide_clean,depression_clean], ignore_index=True)"
   ]
  },
  {
   "cell_type": "code",
   "execution_count": 100,
   "metadata": {},
   "outputs": [
    {
     "name": "stderr",
     "output_type": "stream",
     "text": [
      "<ipython-input-100-94b8f11d45d9>:4: SettingWithCopyWarning: \n",
      "A value is trying to be set on a copy of a slice from a DataFrame\n",
      "\n",
      "See the caveats in the documentation: https://pandas.pydata.org/pandas-docs/stable/user_guide/indexing.html#returning-a-view-versus-a-copy\n",
      "  subreddits['submission_text'][i] = subreddits.title[i]+ '. ' + subreddits.selftext[i]\n"
     ]
    }
   ],
   "source": [
    "# For NLP I want to have one Series so 'title' & 'selftext' should be joined\n",
    "subreddits['submission_text'] = None\n",
    "for i in range(len(subreddits)):\n",
    "    subreddits['submission_text'][i] = subreddits.title[i]+ '. ' + subreddits.selftext[i]"
   ]
  },
  {
   "cell_type": "code",
   "execution_count": 105,
   "metadata": {},
   "outputs": [
    {
     "data": {
      "text/html": [
       "<div>\n",
       "<style scoped>\n",
       "    .dataframe tbody tr th:only-of-type {\n",
       "        vertical-align: middle;\n",
       "    }\n",
       "\n",
       "    .dataframe tbody tr th {\n",
       "        vertical-align: top;\n",
       "    }\n",
       "\n",
       "    .dataframe thead th {\n",
       "        text-align: right;\n",
       "    }\n",
       "</style>\n",
       "<table border=\"1\" class=\"dataframe\">\n",
       "  <thead>\n",
       "    <tr style=\"text-align: right;\">\n",
       "      <th></th>\n",
       "      <th>subreddit</th>\n",
       "      <th>author</th>\n",
       "      <th>selftext</th>\n",
       "      <th>title</th>\n",
       "      <th>num_comments</th>\n",
       "      <th>created_utc</th>\n",
       "      <th>submission_text</th>\n",
       "    </tr>\n",
       "  </thead>\n",
       "  <tbody>\n",
       "    <tr>\n",
       "      <th>0</th>\n",
       "      <td>1</td>\n",
       "      <td>Kurt-without-Nirvana</td>\n",
       "      <td>Yeah, I moved as a last chance. My friend has ...</td>\n",
       "      <td>I'm going to hang myself in a few hours - I ho...</td>\n",
       "      <td>0</td>\n",
       "      <td>1602897591</td>\n",
       "      <td>I'm going to hang myself in a few hours - I ho...</td>\n",
       "    </tr>\n",
       "    <tr>\n",
       "      <th>1</th>\n",
       "      <td>1</td>\n",
       "      <td>exhaustedwith_life</td>\n",
       "      <td>He's dead, stopped taking his dialysis and die...</td>\n",
       "      <td>my dad had a twitter account i didnt know about</td>\n",
       "      <td>0</td>\n",
       "      <td>1602897402</td>\n",
       "      <td>my dad had a twitter account i didnt know abou...</td>\n",
       "    </tr>\n",
       "    <tr>\n",
       "      <th>2</th>\n",
       "      <td>1</td>\n",
       "      <td>dentistsitned</td>\n",
       "      <td>I feel so anxious every moment I’m still here ...</td>\n",
       "      <td>Worthless</td>\n",
       "      <td>0</td>\n",
       "      <td>1602897149</td>\n",
       "      <td>Worthless. I feel so anxious every moment I’m ...</td>\n",
       "    </tr>\n",
       "    <tr>\n",
       "      <th>3</th>\n",
       "      <td>1</td>\n",
       "      <td>thatsmileonyourface</td>\n",
       "      <td>i remember the first time grabbing a knife out...</td>\n",
       "      <td>birthday hooray. happy 10 years of suicidal th...</td>\n",
       "      <td>0</td>\n",
       "      <td>1602896928</td>\n",
       "      <td>birthday hooray. happy 10 years of suicidal th...</td>\n",
       "    </tr>\n",
       "    <tr>\n",
       "      <th>4</th>\n",
       "      <td>1</td>\n",
       "      <td>Plecofish</td>\n",
       "      <td>Just tried to slit my wrists again but I knew ...</td>\n",
       "      <td>What counts as a suicide attempt?</td>\n",
       "      <td>0</td>\n",
       "      <td>1602896898</td>\n",
       "      <td>What counts as a suicide attempt?. Just tried ...</td>\n",
       "    </tr>\n",
       "  </tbody>\n",
       "</table>\n",
       "</div>"
      ],
      "text/plain": [
       "   subreddit                author  \\\n",
       "0          1  Kurt-without-Nirvana   \n",
       "1          1    exhaustedwith_life   \n",
       "2          1         dentistsitned   \n",
       "3          1   thatsmileonyourface   \n",
       "4          1             Plecofish   \n",
       "\n",
       "                                            selftext  \\\n",
       "0  Yeah, I moved as a last chance. My friend has ...   \n",
       "1  He's dead, stopped taking his dialysis and die...   \n",
       "2  I feel so anxious every moment I’m still here ...   \n",
       "3  i remember the first time grabbing a knife out...   \n",
       "4  Just tried to slit my wrists again but I knew ...   \n",
       "\n",
       "                                               title  num_comments  \\\n",
       "0  I'm going to hang myself in a few hours - I ho...             0   \n",
       "1    my dad had a twitter account i didnt know about             0   \n",
       "2                                          Worthless             0   \n",
       "3  birthday hooray. happy 10 years of suicidal th...             0   \n",
       "4                  What counts as a suicide attempt?             0   \n",
       "\n",
       "   created_utc                                    submission_text  \n",
       "0   1602897591  I'm going to hang myself in a few hours - I ho...  \n",
       "1   1602897402  my dad had a twitter account i didnt know abou...  \n",
       "2   1602897149  Worthless. I feel so anxious every moment I’m ...  \n",
       "3   1602896928  birthday hooray. happy 10 years of suicidal th...  \n",
       "4   1602896898  What counts as a suicide attempt?. Just tried ...  "
      ]
     },
     "execution_count": 105,
     "metadata": {},
     "output_type": "execute_result"
    }
   ],
   "source": [
    "# Check that all is copacetic\n",
    "subreddits.head()"
   ]
  },
  {
   "cell_type": "code",
   "execution_count": 102,
   "metadata": {},
   "outputs": [
    {
     "data": {
      "text/plain": [
       "subreddit          0\n",
       "author             0\n",
       "selftext           0\n",
       "title              0\n",
       "num_comments       0\n",
       "created_utc        0\n",
       "submission_text    0\n",
       "dtype: int64"
      ]
     },
     "execution_count": 102,
     "metadata": {},
     "output_type": "execute_result"
    }
   ],
   "source": [
    "# Check for NaNs from concat\n",
    "subreddits.isnull().sum()"
   ]
  },
  {
   "cell_type": "code",
   "execution_count": 103,
   "metadata": {},
   "outputs": [],
   "source": [
    "subreddits_clean = subreddits[['subreddit','submission_text']]"
   ]
  },
  {
   "cell_type": "code",
   "execution_count": 104,
   "metadata": {},
   "outputs": [],
   "source": [
    "# Save only columns with useful data for NLP classification modeling and analysis\n",
    "suicide_clean.to_csv('../data/suicide_clean.csv',index=False)\n",
    "depression_clean.to_csv('../data/depression_clean.csv',index=False)\n",
    "subreddits_clean.to_csv('../data/subreddits_clean.csv',index=False)"
   ]
  },
  {
   "cell_type": "code",
   "execution_count": null,
   "metadata": {},
   "outputs": [],
   "source": []
  }
 ],
 "metadata": {
  "kernelspec": {
   "display_name": "Python 3",
   "language": "python",
   "name": "python3"
  },
  "language_info": {
   "codemirror_mode": {
    "name": "ipython",
    "version": 3
   },
   "file_extension": ".py",
   "mimetype": "text/x-python",
   "name": "python",
   "nbconvert_exporter": "python",
   "pygments_lexer": "ipython3",
   "version": "3.8.3"
  }
 },
 "nbformat": 4,
 "nbformat_minor": 4
}
