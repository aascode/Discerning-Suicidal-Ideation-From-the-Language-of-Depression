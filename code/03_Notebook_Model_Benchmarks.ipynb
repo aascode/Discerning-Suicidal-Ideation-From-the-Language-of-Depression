{
 "cells": [
  {
   "cell_type": "code",
   "execution_count": 187,
   "metadata": {},
   "outputs": [],
   "source": [
    "# Imports\n",
    "import pandas as pd\n",
    "import numpy as np\n",
    "import matplotlib.pyplot as plt\n",
    "\n",
    "from sklearn.model_selection import train_test_split, cross_val_score, GridSearchCV\n",
    "from sklearn.pipeline import Pipeline\n",
    "from sklearn.naive_bayes import MultinomialNB\n",
    "\n",
    "# Import CountVectorizer and TFIDFVectorizer from feature_extraction.text\n",
    "from sklearn.feature_extraction.text import CountVectorizer, TfidfVectorizer"
   ]
  },
  {
   "cell_type": "code",
   "execution_count": 188,
   "metadata": {},
   "outputs": [],
   "source": [
    "# Set-up DataFrame for NLP\n",
    "subreddits = pd.read_csv('../data/subreddits_clean.csv')"
   ]
  },
  {
   "cell_type": "code",
   "execution_count": 189,
   "metadata": {},
   "outputs": [],
   "source": [
    "#Set-up X- and y-variables\n",
    "# NOTE: cvec needs a vector(Series), not a matrix(DataFrame)\n",
    "X = subreddits['submission_text']\n",
    "y = subreddits['subreddit']"
   ]
  },
  {
   "cell_type": "code",
   "execution_count": 234,
   "metadata": {},
   "outputs": [],
   "source": [
    "# Split the data into the training and testing sets.\n",
    "Xa_train, Xa_test, ya_train, ya_test = train_test_split(X,\n",
    "                                                    y,\n",
    "                                                    stratify=y,\n",
    "                                                    random_state=86)"
   ]
  },
  {
   "cell_type": "code",
   "execution_count": 190,
   "metadata": {},
   "outputs": [],
   "source": [
    "# To streamline process of stop word identification a random subset of the data, more manageable in size, is introduced here\n",
    "a = list(np.sort(np.random.choice(list(subreddits.index), size=20000)))\n",
    "subreddits_a = subreddits.loc[a,['submission_text','subreddit']]\n",
    "\n",
    "Xa = subreddits_a['submission_text']\n",
    "ya = subreddits_a['subreddit']\n",
    "\n",
    "# Split the data into the training and testing sets.\n",
    "Xa_train, Xa_test, ya_train, ya_test = train_test_split(Xa,\n",
    "                                                    ya,\n",
    "                                                    stratify=ya,\n",
    "                                                    random_state=86)"
   ]
  },
  {
   "cell_type": "markdown",
   "metadata": {},
   "source": [
    "## Model Preparation\n",
    "\n",
    "##### Establish a baseline accuracy (predicting the plurality class)"
   ]
  },
  {
   "cell_type": "code",
   "execution_count": 236,
   "metadata": {},
   "outputs": [
    {
     "data": {
      "text/plain": [
       "1    0.507354\n",
       "0    0.492646\n",
       "Name: subreddit, dtype: float64"
      ]
     },
     "execution_count": 236,
     "metadata": {},
     "output_type": "execute_result"
    }
   ],
   "source": [
    "# The Null Model is about 50/50\n",
    "ya_train.value_counts(normalize=True)"
   ]
  },
  {
   "cell_type": "code",
   "execution_count": 237,
   "metadata": {},
   "outputs": [
    {
     "name": "stderr",
     "output_type": "stream",
     "text": [
      "[Parallel(n_jobs=-2)]: Using backend LokyBackend with 11 concurrent workers.\n",
      "[Parallel(n_jobs=-2)]: Done   2 out of   5 | elapsed:   32.1s remaining:   48.2s\n",
      "[Parallel(n_jobs=-2)]: Done   5 out of   5 | elapsed:   32.7s finished\n",
      "[Parallel(n_jobs=-2)]: Using backend LokyBackend with 11 concurrent workers.\n",
      "[Parallel(n_jobs=-2)]: Done   2 out of   5 | elapsed:   34.6s remaining:   51.9s\n"
     ]
    },
    {
     "name": "stdout",
     "output_type": "stream",
     "text": [
      "Cross-Val Scores:\n",
      "\tCount-V = 70.654%\n",
      "\tTF-IDF  = 70.341%\n"
     ]
    },
    {
     "name": "stderr",
     "output_type": "stream",
     "text": [
      "[Parallel(n_jobs=-2)]: Done   5 out of   5 | elapsed:   35.8s finished\n"
     ]
    }
   ],
   "source": [
    "# Pipeline 1 Set-Up: cvec\n",
    "\n",
    "# Stage 1. CountVectorizer (transformer)\n",
    "# Stage 2. Multinomial Naive Bayes (estimator)\n",
    "pipe_cvec = Pipeline([\n",
    "    ('cvec', CountVectorizer(max_features=500,\n",
    "                             stop_words = my_stop_words,\n",
    "                             ngram_range=(1,2),\n",
    "                             binary=True,\n",
    "                             max_df=1.0,\n",
    "                             min_df=2)),\n",
    "    ('nb', MultinomialNB())\n",
    "])\n",
    "\n",
    "# Pipeline 2 Set-Up: tvec\n",
    "# Stage 1. TF-IDF (transformer)\n",
    "# Stage 2. Multinomial Naive Bayes (estimator)\n",
    "pipe_tvec = Pipeline([\n",
    "    ('tvec', TfidfVectorizer(max_features=500,\n",
    "                             stop_words = my_stop_words,\n",
    "                             ngram_range=(1,2),\n",
    "                             binary=True,\n",
    "                             max_df=1.0,\n",
    "                             min_df=2)),\n",
    "    ('nb', MultinomialNB())\n",
    "])\n",
    "\n",
    "# Estimate Multinomial Naive Bayes performance, with each vectorizer, on unseen data\n",
    "cvec_cv_score = cross_val_score(pipe_cvec, Xa_train, ya_train, cv=5, n_jobs=-2, verbose=1).mean() \n",
    "tvec_cv_score = cross_val_score(pipe_tvec, Xa_train, ya_train, cv=5, n_jobs=-2, verbose=1).mean()\n",
    "\n",
    "# Display cross-val scores for easy comparison\n",
    "print(f'Cross-Val Scores:\\n\\tCount-V = {round(cvec_cv_score*100,3)}%\\n\\tTF-IDF  = {round(tvec_cv_score*100,3)}%')"
   ]
  },
  {
   "cell_type": "markdown",
   "metadata": {},
   "source": [
    "### RUN ONLY FOR SCORE:"
   ]
  },
  {
   "cell_type": "code",
   "execution_count": 238,
   "metadata": {},
   "outputs": [
    {
     "name": "stdout",
     "output_type": "stream",
     "text": [
      "Training Scores:\n",
      "\tCount-V = 70.742%\n",
      "\tTF-IDF  = 70.425%\n",
      "Test Scores:\n",
      "\tCount-V = 71.085%\n",
      "\tTF-IDF  = 70.607%\n"
     ]
    }
   ],
   "source": [
    "# Fit each pipeline with default parameters\n",
    "pipe_cvec.fit(Xa_train, ya_train)\n",
    "pipe_tvec.fit(Xa_train, ya_train)\n",
    "\n",
    "# Training scores\n",
    "cvec_train_score = pipe_cvec.score(Xa_train, ya_train)\n",
    "tvec_train_score = pipe_tvec.score(Xa_train, ya_train)\n",
    "\n",
    "# Test scores\n",
    "cvec_test_score = pipe_cvec.score(Xa_test, ya_test)\n",
    "tvec_test_score = pipe_tvec.score(Xa_test, ya_test)\n",
    "\n",
    "# Display scores for easy comparison of Vectorizors\n",
    "print(f'Training Scores:\\n\\tCount-V = {round(cvec_train_score*100,3)}%\\n\\tTF-IDF  = {round(tvec_train_score*100,3)}%')\n",
    "print(f'Test Scores:\\n\\tCount-V = {round(cvec_test_score*100,3)}%\\n\\tTF-IDF  = {round(tvec_test_score*100,3)}%')"
   ]
  },
  {
   "cell_type": "code",
   "execution_count": 239,
   "metadata": {},
   "outputs": [
    {
     "name": "stdout",
     "output_type": "stream",
     "text": [
      "(125100, 500) <class 'scipy.sparse.csr.csr_matrix'>\n",
      "(125100, 500) <class 'scipy.sparse.csr.csr_matrix'>\n"
     ]
    }
   ],
   "source": [
    "## Dvelopment of unique word-stop bank\n",
    "\n",
    "# Instantiate CVEC Transformer\n",
    "cvec_trans = CountVectorizer(max_features=500,\n",
    "                             stop_words = my_stop_words,\n",
    "                             ngram_range=(1,2),\n",
    "                             binary=True,\n",
    "                             max_df=1.0,\n",
    "                             min_df=2)\n",
    "\n",
    "# Instantiate TVEC Transformer\n",
    "tvec_trans = TfidfVectorizer(max_features=500,\n",
    "                             stop_words = my_stop_words,\n",
    "                             ngram_range=(1,2),\n",
    "                             binary=True,\n",
    "                             max_df=1.0,\n",
    "                             min_df=2)\n",
    "\n",
    "# Transform the train corpora to obtain SciPy sparse matrices\n",
    "X_train_cvec = cvec_trans.fit_transform(Xa_train)\n",
    "X_train_tvec = tvec_trans.fit_transform(Xa_train)\n",
    "\n",
    "# Convert train-data to Pandas DataFrame for easy visualization\n",
    "X_train_cvec_df = pd.DataFrame(X_train_cvec.todense(), \n",
    "                              columns=cvec_trans.get_feature_names())\n",
    "\n",
    "X_train_tvec_df = pd.DataFrame(X_train_tvec.todense(), \n",
    "                              columns=tvec_trans.get_feature_names())\n",
    "\n",
    "# Verify dimensions and shape\n",
    "print(X_train_cvec.shape, type(X_train_cvec))\n",
    "print(X_train_tvec.shape, type(X_train_tvec))"
   ]
  },
  {
   "cell_type": "markdown",
   "metadata": {},
   "source": [
    "##### STOP WORDS"
   ]
  },
  {
   "cell_type": "code",
   "execution_count": 280,
   "metadata": {},
   "outputs": [
    {
     "name": "stdout",
     "output_type": "stream",
     "text": [
      "<class 'pandas.core.frame.DataFrame'>\n",
      "RangeIndex: 125100 entries, 0 to 125099\n",
      "Columns: 500 entries, 10 to young\n",
      "dtypes: int64(500)\n",
      "memory usage: 477.2 MB\n"
     ]
    }
   ],
   "source": [
    "X_train_cvec_df.info()"
   ]
  },
  {
   "cell_type": "code",
   "execution_count": 242,
   "metadata": {},
   "outputs": [
    {
     "data": {
      "image/png": "[encoded data removed]",
      "text/plain": [
       "<Figure size 1440x936 with 1 Axes>"
      ]
     },
     "metadata": {
      "needs_background": "light"
     },
     "output_type": "display_data"
    }
   ],
   "source": [
    "# plot top occuring words\n",
    "X_train_cvec_df.sum().sort_values(ascending=False).head(40).plot(kind='barh',figsize=(20,13));\n",
    "plt.axvline(x=X_train_cvec_df.sum().sort_values().quantile(q=0.98),c='r');\n",
    "# sklearn's stopwords\n",
    "#print(CountVectorizer(stop_words = 'english').get_stop_words())"
   ]
  },
  {
   "cell_type": "code",
   "execution_count": 254,
   "metadata": {},
   "outputs": [
    {
     "name": "stdout",
     "output_type": "stream",
     "text": [
      "(125100, 500)\n"
     ]
    },
    {
     "data": {
      "text/plain": [
       "out          44666\n",
       "now          42902\n",
       "time         39230\n",
       "people       38542\n",
       "really       36549\n",
       "think        33838\n",
       "will         32783\n",
       "going        32345\n",
       "never        31835\n",
       "feel like    29656\n",
       "dtype: int64"
      ]
     },
     "execution_count": 254,
     "metadata": {},
     "output_type": "execute_result"
    }
   ],
   "source": [
    "print(X_train_cvec_df.shape)\n",
    "X_train_cvec_df.sum().sort_values(ascending=False)[10:20]"
   ]
  },
  {
   "cell_type": "code",
   "execution_count": 253,
   "metadata": {},
   "outputs": [
    {
     "name": "stdout",
     "output_type": "stream",
     "text": [
      "(125100, 500)\n"
     ]
    },
    {
     "data": {
      "text/plain": [
       "out          4274.318565\n",
       "now          4166.365573\n",
       "people       4058.072520\n",
       "time         3915.634586\n",
       "really       3868.861470\n",
       "will         3743.363912\n",
       "think        3717.970692\n",
       "going        3623.708671\n",
       "anymore      3487.452941\n",
       "feel like    3449.263547\n",
       "dtype: float64"
      ]
     },
     "execution_count": 253,
     "metadata": {},
     "output_type": "execute_result"
    }
   ],
   "source": [
    "print(X_train_tvec_df.shape)\n",
    "X_train_tvec_df.sum().sort_values(ascending=False)[10:20]"
   ]
  },
  {
   "cell_type": "code",
   "execution_count": 243,
   "metadata": {},
   "outputs": [
    {
     "data": {
      "image/png": "[encoded data removed]",
      "text/plain": [
       "<Figure size 1440x936 with 1 Axes>"
      ]
     },
     "metadata": {
      "needs_background": "light"
     },
     "output_type": "display_data"
    }
   ],
   "source": [
    "# plot top occuring words\n",
    "X_train_tvec_df.sum().sort_values(ascending=False).head(40).plot(kind='barh',figsize=(20,13));\n",
    "plt.axvline(x=X_train_tvec_df.sum().sort_values().quantile(q=0.98),c='r');\n",
    "# sklearn's stopwords\n",
    "#print(CountVectorizer(stop_words = 'english').get_stop_words())"
   ]
  },
  {
   "cell_type": "markdown",
   "metadata": {},
   "source": [
    "### Fig. 01  \n",
    "***Notice the 97th quantile (red line) is right on the boundary of introducing 'want to', the 2-gram with the highest document frequency. I like this to be my first guess for a cut-off max_df because n-grams are one of the few ways that this model will account for the contextual meaning typically present in language. There are uninteresting tokens, both more and less frequent, but tokens more frequently occurring in the data will be designated as Stop-Words for initial model tuning.***"
   ]
  },
  {
   "cell_type": "code",
   "execution_count": null,
   "metadata": {},
   "outputs": [],
   "source": [
    "# Verify No. of columns are max_features\n",
    "print(X_train.shape)"
   ]
  },
  {
   "cell_type": "code",
   "execution_count": null,
   "metadata": {},
   "outputs": [],
   "source": [
    "# Notice the 97th quantile is right on the boundary of introducing the most frequent 2-gram.\n",
    "print(X_train_df.sum().sort_values().quantile(q=0.964))\n",
    "X_train_df.sum().sort_values()[962:965]"
   ]
  },
  {
   "cell_type": "code",
   "execution_count": null,
   "metadata": {},
   "outputs": [],
   "source": [
    "# % of documents in X_train with 2-gram 'want to' \n",
    "round(X_train_df.sum().sort_values()[963:964]/X_train.shape[0],3)"
   ]
  },
  {
   "cell_type": "code",
   "execution_count": null,
   "metadata": {},
   "outputs": [],
   "source": [
    "# Inspect tokens in corpus\n",
    "cvec.get_feature_names()[800:900];"
   ]
  },
  {
   "cell_type": "code",
   "execution_count": null,
   "metadata": {},
   "outputs": [],
   "source": [
    "len(cvec.vocabulary_)"
   ]
  },
  {
   "cell_type": "code",
   "execution_count": null,
   "metadata": {},
   "outputs": [],
   "source": [
    "cvec.stop_words_;"
   ]
  },
  {
   "cell_type": "code",
   "execution_count": null,
   "metadata": {},
   "outputs": [],
   "source": [
    "cvec.vocabulary_;"
   ]
  },
  {
   "cell_type": "code",
   "execution_count": null,
   "metadata": {},
   "outputs": [],
   "source": [
    "cvec.get_feature_names();"
   ]
  },
  {
   "cell_type": "code",
   "execution_count": null,
   "metadata": {},
   "outputs": [],
   "source": [
    "# For my stop words I took the 10,000 most common words and found that 255 of them were in the CountVectorizer's list of 318 'english' stop-words.\n",
    "# I then went through those 255 and removed theh ones that did not seem approrpriate to keep. That list is my stop_words_removed.\n",
    "stops_cvec = list(CountVectorizer(stop_words = 'english').get_stop_words())\n",
    "print(f'No. of Stop Words in C-Vec: {len(stops_cvec)}')\n",
    "\n",
    "tops = X_train_cvec_df.sum().sort_values(ascending=False)[:10000].index.tolist()\n",
    "print(f'No. of Stop Words chosen: {len(tops)}')"
   ]
  },
  {
   "cell_type": "code",
   "execution_count": 271,
   "metadata": {},
   "outputs": [
    {
     "data": {
      "text/plain": [
       "10            0.0\n",
       "20            0.0\n",
       "able          0.0\n",
       "absolutely    0.0\n",
       "actually      0.0\n",
       "             ... \n",
       "year          0.0\n",
       "years         0.0\n",
       "years ago     0.0\n",
       "years old     0.0\n",
       "young         0.0\n",
       "Length: 500, dtype: float64"
      ]
     },
     "execution_count": 271,
     "metadata": {},
     "output_type": "execute_result"
    }
   ],
   "source": [
    "X_train_cvec_df[X_train_cvec_df.isnull()].sum()"
   ]
  },
  {
   "cell_type": "code",
   "execution_count": 338,
   "metadata": {},
   "outputs": [],
   "source": [
    "# Make a DataFrame to ID top words in each of the subreddits\n",
    "sub = pd.DataFrame(ya_train).reset_index()\n",
    "words_and_subreddits = pd.concat( [X_train_cvec_df, sub],axis=1)\n",
    "words_and_subreddits.drop(columns='index',inplace=True)"
   ]
  },
  {
   "cell_type": "code",
   "execution_count": 369,
   "metadata": {},
   "outputs": [
    {
     "name": "stdout",
     "output_type": "stream",
     "text": [
      "games\n",
      " Both: 499, Suicide Only: 1, Depression Only: 1\n",
      "['subreddit'] ['games']\n"
     ]
    }
   ],
   "source": [
    "# Look at the top 500 tokens in each subreddit\n",
    "suicide_top500 = list(words_and_subreddits[words_and_subreddits['subreddit']==1].sum().sort_values(ascending=False)[:500].index)\n",
    "depression_top500 = list(words_and_subreddits[words_and_subreddits['subreddit']==0].sum().sort_values(ascending=False)[:500].index)\n",
    "\n",
    "both = []\n",
    "suicide_only = []\n",
    "depression_only =[]\n",
    "for token in suicide_top500:\n",
    "    \n",
    "    if token in depression_top500:\n",
    "        both.append(token)\n",
    "    else:\n",
    "        suicide_only.append(token)\n",
    "for token in depression_top500:\n",
    "    if token not in suicide_top500:\n",
    "        depression_only.append(token)\n",
    "        print(token)\n",
    "print(f' Both: {len(both)}, Suicide Only: {len(suicide_only)}, Depression Only: {len(depression_only)}')\n",
    "print(suicide_only, depression_only)\n"
   ]
  },
  {
   "cell_type": "code",
   "execution_count": 363,
   "metadata": {},
   "outputs": [],
   "source": []
  },
  {
   "cell_type": "code",
   "execution_count": null,
   "metadata": {},
   "outputs": [],
   "source": [
    "text_and_subredditwords = []\n",
    "maybes =[]\n",
    "for word in tops:\n",
    "    if word in stops:\n",
    "        my_stop_words.append(word)\n",
    "    else:\n",
    "        maybes.append(word)\n",
    "len(my_stop_words)"
   ]
  },
  {
   "cell_type": "code",
   "execution_count": 227,
   "metadata": {},
   "outputs": [
    {
     "ename": "ValueError",
     "evalue": "list.remove(x): x not in list",
     "output_type": "error",
     "traceback": [
      "\u001b[1;31m---------------------------------------------------------------------------\u001b[0m",
      "\u001b[1;31mValueError\u001b[0m                                Traceback (most recent call last)",
      "\u001b[1;32m<ipython-input-227-e0f9ff495980>\u001b[0m in \u001b[0;36m<module>\u001b[1;34m\u001b[0m\n\u001b[0;32m      1\u001b[0m \u001b[1;32mfor\u001b[0m \u001b[0mword\u001b[0m \u001b[1;32min\u001b[0m \u001b[0mmy_stop_words_removed\u001b[0m\u001b[1;33m:\u001b[0m\u001b[1;33m\u001b[0m\u001b[1;33m\u001b[0m\u001b[0m\n\u001b[1;32m----> 2\u001b[1;33m     \u001b[0mmy_stop_words\u001b[0m\u001b[1;33m.\u001b[0m\u001b[0mremove\u001b[0m\u001b[1;33m(\u001b[0m\u001b[0mword\u001b[0m\u001b[1;33m)\u001b[0m\u001b[1;33m\u001b[0m\u001b[1;33m\u001b[0m\u001b[0m\n\u001b[0m",
      "\u001b[1;31mValueError\u001b[0m: list.remove(x): x not in list"
     ]
    }
   ],
   "source": [
    "for word in my_stop_words_removed:\n",
    "    my_stop_words.remove(word)"
   ]
  },
  {
   "cell_type": "code",
   "execution_count": 281,
   "metadata": {},
   "outputs": [],
   "source": [
    "list(my_stop_words);"
   ]
  },
  {
   "cell_type": "code",
   "execution_count": 283,
   "metadata": {},
   "outputs": [],
   "source": [
    "my_stop_words_removed;"
   ]
  },
  {
   "cell_type": "code",
   "execution_count": null,
   "metadata": {},
   "outputs": [],
   "source": [
    "print(len(my_stop_words))"
   ]
  },
  {
   "cell_type": "code",
   "execution_count": null,
   "metadata": {},
   "outputs": [],
   "source": [
    "%store -r my_stop_words\n",
    "len(my_stop_words)"
   ]
  },
  {
   "cell_type": "code",
   "execution_count": null,
   "metadata": {},
   "outputs": [],
   "source": [
    "\n",
    "for word in ['just', 'like', 'don','ve', 'things', 'in my', 'of my']:\n",
    "    my_stop_words.append(word)\n",
    "%store my_stop_words"
   ]
  },
  {
   "cell_type": "code",
   "execution_count": null,
   "metadata": {},
   "outputs": [],
   "source": [
    "# STOP WORDS\n",
    "\n",
    "# Convert training data to dataframe\n",
    "X2_train_df = pd.DataFrame(X2_train.todense(), \n",
    "                          columns=cvec2.get_feature_names())\n",
    "\n",
    "# plot top occuring words\n",
    "X2_train_df.sum().sort_values(ascending=False).head(40).plot(kind='barh',figsize=(10,13));\n",
    "plt.axvline(x=X2_train_df.sum().sort_values().quantile(q=0.964),c='r');\n",
    "# Let's look at sklearn's stopwords.\n",
    "#print(CountVectorizer(stop_words = 'english').get_stop_words())"
   ]
  }
 ],
 "metadata": {
  "kernelspec": {
   "display_name": "Python 3",
   "language": "python",
   "name": "python3"
  },
  "language_info": {
   "codemirror_mode": {
    "name": "ipython",
    "version": 3
   },
   "file_extension": ".py",
   "mimetype": "text/x-python",
   "name": "python",
   "nbconvert_exporter": "python",
   "pygments_lexer": "ipython3",
   "version": "3.8.3"
  }
 },
 "nbformat": 4,
 "nbformat_minor": 4
}
