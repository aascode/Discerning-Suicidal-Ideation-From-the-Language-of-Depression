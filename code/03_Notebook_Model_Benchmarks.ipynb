{
 "cells": [
  {
   "cell_type": "code",
   "execution_count": 8,
   "metadata": {},
   "outputs": [],
   "source": [
    "# Imports\n",
    "import pandas as pd\n",
    "import numpy as np\n",
    "import matplotlib.pyplot as plt\n",
    "\n",
    "from sklearn.model_selection import train_test_split, cross_val_score, GridSearchCV\n",
    "from sklearn.pipeline import Pipeline\n",
    "from sklearn.naive_bayes import MultinomialNB\n",
    "\n",
    "# Import CountVectorizer and TFIDFVectorizer from feature_extraction.text\n",
    "from sklearn.feature_extraction.text import CountVectorizer, TfidfVectorizer"
   ]
  },
  {
   "cell_type": "code",
   "execution_count": 237,
   "metadata": {},
   "outputs": [],
   "source": [
    "# Set-up DataFrame for NLP\n",
    "subreddits = pd.read_csv('../data/subreddits_clean.csv')"
   ]
  },
  {
   "cell_type": "code",
   "execution_count": 238,
   "metadata": {},
   "outputs": [],
   "source": [
    "#Set-up X- and y-variables\n",
    "# NOTE: cvec needs a vector(Series), not a matrix(DataFrame)\n",
    "X = subreddits['submission_text']\n",
    "y = subreddits['subreddit']"
   ]
  },
  {
   "cell_type": "code",
   "execution_count": 239,
   "metadata": {},
   "outputs": [],
   "source": [
    "# Split the data into the training and testing sets.\n",
    "X_train, X_test, y_train, y_test = train_test_split(X,\n",
    "                                                    y,\n",
    "                                                    stratify=y,\n",
    "                                                    random_state=86)"
   ]
  },
  {
   "cell_type": "code",
   "execution_count": 12,
   "metadata": {},
   "outputs": [
    {
     "data": {
      "text/plain": [
       "\"\\n# To streamline process of stop word identification a random subset of the data, more manageable in size, is introduced here\\na = list(np.sort(np.random.choice(list(subreddits.index), size=20000)))\\nsubreddits_a = subreddits.loc[a,['submission_text','subreddit']]\\n\\nXa = subreddits_a['submission_text']\\nya = subreddits_a['subreddit']\\n\\n# Split the data into the training and testing sets.\\nXa_train, Xa_test, ya_train, ya_test = train_test_split(Xa,\\n                                                    ya,\\n                                                    stratify=ya,\\n                                                    random_state=86)\\n\""
      ]
     },
     "execution_count": 12,
     "metadata": {},
     "output_type": "execute_result"
    }
   ],
   "source": [
    "'''\n",
    "# To streamline process of stop word identification a random subset of the data, more manageable in size, is introduced here\n",
    "a = list(np.sort(np.random.choice(list(subreddits.index), size=20000)))\n",
    "subreddits_a = subreddits.loc[a,['submission_text','subreddit']]\n",
    "\n",
    "Xa = subreddits_a['submission_text']\n",
    "ya = subreddits_a['subreddit']\n",
    "\n",
    "# Split the data into the training and testing sets.\n",
    "Xa_train, Xa_test, ya_train, ya_test = train_test_split(Xa,\n",
    "                                                    ya,\n",
    "                                                    stratify=ya,\n",
    "                                                    random_state=86)\n",
    "'''"
   ]
  },
  {
   "cell_type": "markdown",
   "metadata": {},
   "source": [
    "## Model Preparation\n",
    "\n",
    "##### Establish a baseline accuracy (predicting the plurality class)\n",
    "***r/depression: 0***<br>\n",
    "***r/suicide_watch: 1***\n"
   ]
  },
  {
   "cell_type": "code",
   "execution_count": 283,
   "metadata": {},
   "outputs": [
    {
     "name": "stdout",
     "output_type": "stream",
     "text": [
      "1    0.507\n",
      "0    0.493\n",
      "Name: subreddit, dtype: float64\n"
     ]
    }
   ],
   "source": [
    "# The Null Model is about 50/50\n",
    "print(f'{round(y_train.value_counts(normalize=True),3)}')"
   ]
  },
  {
   "cell_type": "code",
   "execution_count": 291,
   "metadata": {},
   "outputs": [
    {
     "name": "stdout",
     "output_type": "stream",
     "text": [
      "No. of documents in train corpus: 125,100\n",
      "No. of documents in validation corpus: 41,701\n"
     ]
    }
   ],
   "source": [
    "# No. of documents in the corpora\n",
    "print(f'No. of documents in train corpus: {len(X_train):,d}')\n",
    "print(f'No. of documents in validation corpus: {len(X_test):,d}')"
   ]
  },
  {
   "cell_type": "markdown",
   "metadata": {},
   "source": [
    "### Vectorize: CountVectorizer v. TF-IDF\n",
    "\n",
    "##### Estimator: Multinomial Naive Bayes"
   ]
  },
  {
   "cell_type": "code",
   "execution_count": 244,
   "metadata": {},
   "outputs": [
    {
     "name": "stderr",
     "output_type": "stream",
     "text": [
      "[Parallel(n_jobs=-2)]: Using backend LokyBackend with 11 concurrent workers.\n",
      "[Parallel(n_jobs=-2)]: Done   2 out of   5 | elapsed:   33.7s remaining:   50.5s\n",
      "[Parallel(n_jobs=-2)]: Done   5 out of   5 | elapsed:   35.1s finished\n",
      "[Parallel(n_jobs=-2)]: Using backend LokyBackend with 11 concurrent workers.\n",
      "[Parallel(n_jobs=-2)]: Done   2 out of   5 | elapsed:   35.5s remaining:   53.3s\n"
     ]
    },
    {
     "name": "stdout",
     "output_type": "stream",
     "text": [
      "Cross-Val Scores:\n",
      "\tCount-V = 72.539%\n",
      "\tTF-IDF  = 72.245%\n"
     ]
    },
    {
     "name": "stderr",
     "output_type": "stream",
     "text": [
      "[Parallel(n_jobs=-2)]: Done   5 out of   5 | elapsed:   36.8s finished\n"
     ]
    }
   ],
   "source": [
    "# Pipeline 1 Set-Up: cvec\n",
    "\n",
    "# Stage 1. CountVectorizer (transformer)\n",
    "# Stage 2. Multinomial Naive Bayes (estimator)\n",
    "pipe_cvec = Pipeline([\n",
    "    ('cvec', CountVectorizer(max_features=5000,\n",
    "                             stop_words = 'english',\n",
    "                             #stop_words = stop_words4,\n",
    "                             ngram_range=(1,2),\n",
    "                             binary=True,\n",
    "                             max_df=1.0,)),\n",
    "    ('nb', MultinomialNB())\n",
    "])\n",
    "\n",
    "# Pipeline 2 Set-Up: tvec\n",
    "# Stage 1. TF-IDF (transformer)\n",
    "# Stage 2. Multinomial Naive Bayes (estimator)\n",
    "pipe_tvec = Pipeline([\n",
    "    ('tvec', TfidfVectorizer(max_features=5000,\n",
    "                             sublinear_tf=True,\n",
    "                             stop_words = 'english',\n",
    "                             #stop_words = stop_words4,\n",
    "                             ngram_range=(1,2),\n",
    "                             binary=True,\n",
    "                             max_df=1.0)),\n",
    "    ('nb', MultinomialNB())\n",
    "])\n",
    "\n",
    "# Estimate Multinomial Naive Bayes performance, with each vectorizer, on unseen data\n",
    "cvec_cv_score = cross_val_score(pipe_cvec, X_train, y_train, cv=5, n_jobs=-2, verbose=1).mean() \n",
    "tvec_cv_score = cross_val_score(pipe_tvec, X_train, y_train, cv=5, n_jobs=-2, verbose=1).mean()\n",
    "\n",
    "# Display cross-val scores for easy comparison\n",
    "print(f'Cross-Val Scores:\\n\\tCount-V = {round(cvec_cv_score*100,3)}%\\n\\tTF-IDF  = {round(tvec_cv_score*100,3)}%')"
   ]
  },
  {
   "cell_type": "markdown",
   "metadata": {},
   "source": [
    "###### RUN ONLY FOR SCORE:"
   ]
  },
  {
   "cell_type": "code",
   "execution_count": 245,
   "metadata": {},
   "outputs": [
    {
     "name": "stdout",
     "output_type": "stream",
     "text": [
      "Training Scores:\n",
      "\tCount-V = 73.038%\n",
      "\tTF-IDF  = 72.927%\n",
      "Test Scores:\n",
      "\tCount-V = 72.862%\n",
      "\tTF-IDF  = 72.178%\n"
     ]
    }
   ],
   "source": [
    "# Fit each pipeline with default parameters\n",
    "pipe_cvec.fit(X_train, y_train)\n",
    "pipe_tvec.fit(X_train, y_train)\n",
    "\n",
    "# Training scores\n",
    "cvec_train_score = pipe_cvec.score(X_train, y_train)\n",
    "tvec_train_score = pipe_tvec.score(X_train, y_train)\n",
    "\n",
    "# Test scores\n",
    "cvec_test_score = pipe_cvec.score(X_test, y_test)\n",
    "tvec_test_score = pipe_tvec.score(X_test, y_test)\n",
    "\n",
    "# Display scores for easy comparison of Vectorizors\n",
    "print(f'Training Scores:\\n\\tCount-V = {round(cvec_train_score*100,3)}%\\n\\tTF-IDF  = {round(tvec_train_score*100,3)}%')\n",
    "print(f'Test Scores:\\n\\tCount-V = {round(cvec_test_score*100,3)}%\\n\\tTF-IDF  = {round(tvec_test_score*100,3)}%')"
   ]
  },
  {
   "cell_type": "code",
   "execution_count": 294,
   "metadata": {},
   "outputs": [
    {
     "name": "stdout",
     "output_type": "stream",
     "text": [
      "WORD COUNT:\n",
      "\tSuicide Watch data: 2,623,490\n",
      "\tDepression data:    2,668,373\n"
     ]
    }
   ],
   "source": [
    "# Notice the No. of words from each subreddit!\n",
    "print(f'WORD COUNT:\\n\\tSuicide Watch data: {sum(list(suicide_dict.values())):,d}\\n\\tDepression data:    {sum(list(depression_dict.values())):,d}')"
   ]
  },
  {
   "cell_type": "code",
   "execution_count": 246,
   "metadata": {},
   "outputs": [
    {
     "name": "stdout",
     "output_type": "stream",
     "text": [
      "(125100, 5000) <class 'scipy.sparse.csr.csr_matrix'>\n"
     ]
    }
   ],
   "source": [
    "## Explore tokenized features: Visualize\n",
    "\n",
    "# Instantiate CVEC Transformer\n",
    "cvec = CountVectorizer(max_features=5000,\n",
    "                             stop_words = 'english',\n",
    "                             ngram_range=(1,2),\n",
    "                             binary=True,\n",
    "                             max_df=1.0)\n",
    "\n",
    "# Transform the train corpus to obtain SciPy sparse matrices\n",
    "X_train_cvec = cvec_trans.fit_transform(Xa_train)\n",
    "\n",
    "# Convert train-data to Pandas DataFrame for easy visualization\n",
    "X_train_cvec_df = pd.DataFrame(X_train_cvec.todense(), \n",
    "                              columns=cvec_trans.get_feature_names())\n",
    "\n",
    "# Verify dimensions and dtype of vectorized object\n",
    "print(X_train_cvec.shape, type(X_train_cvec))"
   ]
  },
  {
   "cell_type": "markdown",
   "metadata": {},
   "source": [
    "##### Quantify tokenized difference in subreddits"
   ]
  },
  {
   "cell_type": "code",
   "execution_count": null,
   "metadata": {},
   "outputs": [],
   "source": [
    "# Make a DataFrame to ID top words in each of the subreddits\n",
    "sub = pd.DataFrame(y_train).reset_index()\n",
    "words_and_subreddits = pd.concat( [X_train_cvec_df, sub],axis=1)\n",
    "words_and_subreddits.drop(columns='index',inplace=True)"
   ]
  },
  {
   "cell_type": "code",
   "execution_count": null,
   "metadata": {},
   "outputs": [],
   "source": [
    "suicide_dict = \n",
    "    words_and_subreddits[words_and_subreddits['subreddit']==1].sum().to_dict();\n",
    "    \n",
    "depression_dict = \n",
    "    words_and_subreddits[words_and_subreddits['subreddit']==0].sum().to_dict();\n",
    "\n",
    "difference_dict = \n",
    "    {key: val_s-depression_dict[key] for key, val_s in suicide_dict.items() if key in depression_dict.keys()}\n",
    "    \n",
    "difference_df = \n",
    "    pd.DataFrame.from_dict(difference_dict, orient='index').drop(['subreddit'])\n",
    "    \n",
    "difference_df.sort_values(by=0, ascending=False).tail(20)"
   ]
  },
  {
   "cell_type": "code",
   "execution_count": 302,
   "metadata": {},
   "outputs": [
    {
     "data": {
      "text/html": [
       "<div>\n",
       "<style scoped>\n",
       "    .dataframe tbody tr th:only-of-type {\n",
       "        vertical-align: middle;\n",
       "    }\n",
       "\n",
       "    .dataframe tbody tr th {\n",
       "        vertical-align: top;\n",
       "    }\n",
       "\n",
       "    .dataframe thead th {\n",
       "        text-align: right;\n",
       "    }\n",
       "</style>\n",
       "<table border=\"1\" class=\"dataframe\">\n",
       "  <thead>\n",
       "    <tr style=\"text-align: right;\">\n",
       "      <th></th>\n",
       "      <th>0</th>\n",
       "    </tr>\n",
       "  </thead>\n",
       "  <tbody>\n",
       "    <tr>\n",
       "      <th>hard</th>\n",
       "      <td>-1864</td>\n",
       "    </tr>\n",
       "    <tr>\n",
       "      <th>lot</th>\n",
       "      <td>-1893</td>\n",
       "    </tr>\n",
       "    <tr>\n",
       "      <th>feels</th>\n",
       "      <td>-2014</td>\n",
       "    </tr>\n",
       "    <tr>\n",
       "      <th>bed</th>\n",
       "      <td>-2022</td>\n",
       "    </tr>\n",
       "    <tr>\n",
       "      <th>day</th>\n",
       "      <td>-2044</td>\n",
       "    </tr>\n",
       "    <tr>\n",
       "      <th>felt</th>\n",
       "      <td>-2051</td>\n",
       "    </tr>\n",
       "    <tr>\n",
       "      <th>started</th>\n",
       "      <td>-2178</td>\n",
       "    </tr>\n",
       "    <tr>\n",
       "      <th>sad</th>\n",
       "      <td>-2230</td>\n",
       "    </tr>\n",
       "    <tr>\n",
       "      <th>happy</th>\n",
       "      <td>-2390</td>\n",
       "    </tr>\n",
       "    <tr>\n",
       "      <th>work</th>\n",
       "      <td>-2392</td>\n",
       "    </tr>\n",
       "    <tr>\n",
       "      <th>anxiety</th>\n",
       "      <td>-2501</td>\n",
       "    </tr>\n",
       "    <tr>\n",
       "      <th>things</th>\n",
       "      <td>-2678</td>\n",
       "    </tr>\n",
       "    <tr>\n",
       "      <th>really</th>\n",
       "      <td>-2687</td>\n",
       "    </tr>\n",
       "    <tr>\n",
       "      <th>time</th>\n",
       "      <td>-2814</td>\n",
       "    </tr>\n",
       "    <tr>\n",
       "      <th>feeling</th>\n",
       "      <td>-4067</td>\n",
       "    </tr>\n",
       "    <tr>\n",
       "      <th>feel like</th>\n",
       "      <td>-4300</td>\n",
       "    </tr>\n",
       "    <tr>\n",
       "      <th>depressed</th>\n",
       "      <td>-5861</td>\n",
       "    </tr>\n",
       "    <tr>\n",
       "      <th>like</th>\n",
       "      <td>-6066</td>\n",
       "    </tr>\n",
       "    <tr>\n",
       "      <th>feel</th>\n",
       "      <td>-6736</td>\n",
       "    </tr>\n",
       "    <tr>\n",
       "      <th>depression</th>\n",
       "      <td>-11046</td>\n",
       "    </tr>\n",
       "  </tbody>\n",
       "</table>\n",
       "</div>"
      ],
      "text/plain": [
       "                0\n",
       "hard        -1864\n",
       "lot         -1893\n",
       "feels       -2014\n",
       "bed         -2022\n",
       "day         -2044\n",
       "felt        -2051\n",
       "started     -2178\n",
       "sad         -2230\n",
       "happy       -2390\n",
       "work        -2392\n",
       "anxiety     -2501\n",
       "things      -2678\n",
       "really      -2687\n",
       "time        -2814\n",
       "feeling     -4067\n",
       "feel like   -4300\n",
       "depressed   -5861\n",
       "like        -6066\n",
       "feel        -6736\n",
       "depression -11046"
      ]
     },
     "execution_count": 302,
     "metadata": {},
     "output_type": "execute_result"
    }
   ],
   "source": [
    "difference_df.sort_values(by=0, ascending=False).tail(20)"
   ]
  },
  {
   "cell_type": "code",
   "execution_count": 300,
   "metadata": {},
   "outputs": [
    {
     "data": {
      "image/png": "[encoded data removed]",
      "text/plain": [
       "<Figure size 720x576 with 1 Axes>"
      ]
     },
     "metadata": {
      "needs_background": "light"
     },
     "output_type": "display_data"
    }
   ],
   "source": [
    "difference_df.sort_values(by=0, ascending=False).tail(20).plot(kind='barh',figsize=(10,8));"
   ]
  },
  {
   "cell_type": "code",
   "execution_count": 347,
   "metadata": {},
   "outputs": [
    {
     "data": {
      "text/html": [
       "<div>\n",
       "<style scoped>\n",
       "    .dataframe tbody tr th:only-of-type {\n",
       "        vertical-align: middle;\n",
       "    }\n",
       "\n",
       "    .dataframe tbody tr th {\n",
       "        vertical-align: top;\n",
       "    }\n",
       "\n",
       "    .dataframe thead th {\n",
       "        text-align: right;\n",
       "    }\n",
       "</style>\n",
       "<table border=\"1\" class=\"dataframe\">\n",
       "  <thead>\n",
       "    <tr style=\"text-align: right;\">\n",
       "      <th></th>\n",
       "      <th>0</th>\n",
       "    </tr>\n",
       "  </thead>\n",
       "  <tbody>\n",
       "    <tr>\n",
       "      <th>die</th>\n",
       "      <td>8213</td>\n",
       "    </tr>\n",
       "    <tr>\n",
       "      <th>kill</th>\n",
       "      <td>7960</td>\n",
       "    </tr>\n",
       "    <tr>\n",
       "      <th>suicide</th>\n",
       "      <td>7308</td>\n",
       "    </tr>\n",
       "    <tr>\n",
       "      <th>end</th>\n",
       "      <td>4524</td>\n",
       "    </tr>\n",
       "    <tr>\n",
       "      <th>want</th>\n",
       "      <td>4429</td>\n",
       "    </tr>\n",
       "    <tr>\n",
       "      <th>...</th>\n",
       "      <td>...</td>\n",
       "    </tr>\n",
       "    <tr>\n",
       "      <th>feel like</th>\n",
       "      <td>-4300</td>\n",
       "    </tr>\n",
       "    <tr>\n",
       "      <th>depressed</th>\n",
       "      <td>-5861</td>\n",
       "    </tr>\n",
       "    <tr>\n",
       "      <th>like</th>\n",
       "      <td>-6066</td>\n",
       "    </tr>\n",
       "    <tr>\n",
       "      <th>feel</th>\n",
       "      <td>-6736</td>\n",
       "    </tr>\n",
       "    <tr>\n",
       "      <th>depression</th>\n",
       "      <td>-11046</td>\n",
       "    </tr>\n",
       "  </tbody>\n",
       "</table>\n",
       "<p>1000 rows × 1 columns</p>\n",
       "</div>"
      ],
      "text/plain": [
       "                0\n",
       "die          8213\n",
       "kill         7960\n",
       "suicide      7308\n",
       "end          4524\n",
       "want         4429\n",
       "...           ...\n",
       "feel like   -4300\n",
       "depressed   -5861\n",
       "like        -6066\n",
       "feel        -6736\n",
       "depression -11046\n",
       "\n",
       "[1000 rows x 1 columns]"
      ]
     },
     "execution_count": 347,
     "metadata": {},
     "output_type": "execute_result"
    }
   ],
   "source": [
    "difference_df.sort_values(by=0, ascending=False)"
   ]
  },
  {
   "cell_type": "code",
   "execution_count": 379,
   "metadata": {},
   "outputs": [
    {
     "data": {
      "text/plain": [
       "'C:\\\\Users\\\\bgrif\\\\Desktop\\\\dsi\\\\projects\\\\3project-Reddit-NLP-Classifier\\\\code'"
      ]
     },
     "execution_count": 379,
     "metadata": {},
     "output_type": "execute_result"
    }
   ],
   "source": [
    "%pwd"
   ]
  },
  {
   "cell_type": "code",
   "execution_count": 392,
   "metadata": {},
   "outputs": [
    {
     "data": {
      "image/png": "[encoded data removed]",
      "text/plain": [
       "<Figure size 576x432 with 1 Axes>"
      ]
     },
     "metadata": {
      "needs_background": "light"
     },
     "output_type": "display_data"
    }
   ],
   "source": [
    "import matplotlib.patches as mpatches\n",
    "\n",
    "sns.set_style()\n",
    "sns.set_context('talk')\n",
    "# Set up the matplotlib figure\n",
    "plt.figure(figsize=(8, 6))\n",
    "sns.barplot(x= difference_df.index,y=difference_df[0].sort_values(ascending=False), palette='icefire')\n",
    "\n",
    "plt.axhline(y=0, color=\"k\", clip_on=False)\n",
    "plt.ylabel(\"Suicide Terms Count - Depression Term Count\")\n",
    "plt.xticks([])\n",
    "plt.ylim(-4000,4000)\n",
    "\n",
    "# Finalize the plot\n",
    "sns.despine(bottom=True)\n",
    "plt.setp(f.axes, yticks=[])\n",
    "plt.tight_layout(h_pad=2)\n",
    "\n",
    "label_patch = [mpatches.Patch(color='PaleTurquoise', label='Top r/SuicideWatch Tokens'),\n",
    "               mpatches.Patch(color='Chocolate', label='Top r/Depression Tokens',size)]\n",
    "\n",
    "# https://stackoverflow.com/questions/13338550/typing-greek-letters-etc-in-python-plots\n",
    "plt.title(r'Change in Frequency: $\\Delta$f')\n",
    "plt.legend(handles=label_patch );\n",
    "plt.savefig('../images/frequency_difference.png',dpi=200, bbox_inches='tight');"
   ]
  },
  {
   "cell_type": "code",
   "execution_count": null,
   "metadata": {},
   "outputs": [],
   "source": []
  },
  {
   "cell_type": "code",
   "execution_count": 353,
   "metadata": {},
   "outputs": [
    {
     "ename": "NameError",
     "evalue": "name 'setp' is not defined",
     "output_type": "error",
     "traceback": [
      "\u001b[1;31m---------------------------------------------------------------------------\u001b[0m",
      "\u001b[1;31mNameError\u001b[0m                                 Traceback (most recent call last)",
      "\u001b[1;32m<ipython-input-353-2a3ccab24bd5>\u001b[0m in \u001b[0;36m<module>\u001b[1;34m\u001b[0m\n\u001b[1;32m----> 1\u001b[1;33m \u001b[0msetp\u001b[0m\u001b[1;33m(\u001b[0m\u001b[0mline\u001b[0m\u001b[1;33m)\u001b[0m\u001b[1;33m\u001b[0m\u001b[1;33m\u001b[0m\u001b[0m\n\u001b[0m",
      "\u001b[1;31mNameError\u001b[0m: name 'setp' is not defined"
     ]
    }
   ],
   "source": [
    "setp(line)"
   ]
  },
  {
   "cell_type": "code",
   "execution_count": 345,
   "metadata": {},
   "outputs": [
    {
     "ename": "AttributeError",
     "evalue": "module 'seaborn' has no attribute 'histplot'",
     "output_type": "error",
     "traceback": [
      "\u001b[1;31m---------------------------------------------------------------------------\u001b[0m",
      "\u001b[1;31mAttributeError\u001b[0m                            Traceback (most recent call last)",
      "\u001b[1;32m<ipython-input-345-a966de2e28f9>\u001b[0m in \u001b[0;36m<module>\u001b[1;34m\u001b[0m\n\u001b[0;32m      3\u001b[0m \u001b[0mg\u001b[0m\u001b[1;33m.\u001b[0m\u001b[0mmap_upper\u001b[0m\u001b[1;33m(\u001b[0m\u001b[0msns\u001b[0m\u001b[1;33m.\u001b[0m\u001b[0mdistplot\u001b[0m\u001b[1;33m)\u001b[0m\u001b[1;33m\u001b[0m\u001b[1;33m\u001b[0m\u001b[0m\n\u001b[0;32m      4\u001b[0m \u001b[0mg\u001b[0m\u001b[1;33m.\u001b[0m\u001b[0mmap_lower\u001b[0m\u001b[1;33m(\u001b[0m\u001b[0msns\u001b[0m\u001b[1;33m.\u001b[0m\u001b[0mkdeplot\u001b[0m\u001b[1;33m,\u001b[0m \u001b[0mfill\u001b[0m\u001b[1;33m=\u001b[0m\u001b[1;32mTrue\u001b[0m\u001b[1;33m)\u001b[0m\u001b[1;33m\u001b[0m\u001b[1;33m\u001b[0m\u001b[0m\n\u001b[1;32m----> 5\u001b[1;33m \u001b[0mg\u001b[0m\u001b[1;33m.\u001b[0m\u001b[0mmap_diag\u001b[0m\u001b[1;33m(\u001b[0m\u001b[0msns\u001b[0m\u001b[1;33m.\u001b[0m\u001b[0mhistplot\u001b[0m\u001b[1;33m,\u001b[0m \u001b[0mkde\u001b[0m\u001b[1;33m=\u001b[0m\u001b[1;32mTrue\u001b[0m\u001b[1;33m)\u001b[0m\u001b[1;33m\u001b[0m\u001b[1;33m\u001b[0m\u001b[0m\n\u001b[0m",
      "\u001b[1;31mAttributeError\u001b[0m: module 'seaborn' has no attribute 'histplot'"
     ]
    },
    {
     "data": {
      "image/png": "[encoded data removed]",
      "text/plain": [
       "<Figure size 180x180 with 1 Axes>"
      ]
     },
     "metadata": {
      "needs_background": "light"
     },
     "output_type": "display_data"
    }
   ],
   "source": [
    "import seaborn as sns\n",
    "g = sns.PairGrid(difference_df)\n",
    "g.map_upper(sns.distplot)\n",
    "g.map_lower(sns.kdeplot, fill=True)\n",
    "g.map_diag(sns.histplot, kde=True)"
   ]
  },
  {
   "cell_type": "code",
   "execution_count": 309,
   "metadata": {},
   "outputs": [
    {
     "data": {
      "text/plain": [
       "<seaborn.axisgrid.PairGrid at 0x1cd2af562e0>"
      ]
     },
     "execution_count": 309,
     "metadata": {},
     "output_type": "execute_result"
    },
    {
     "data": {
      "image/png": "[encoded data removed]",
      "text/plain": [
       "<Figure size 180x180 with 2 Axes>"
      ]
     },
     "metadata": {
      "needs_background": "light"
     },
     "output_type": "display_data"
    }
   ],
   "source": [
    "sns.pairplot(difference_df)"
   ]
  },
  {
   "cell_type": "code",
   "execution_count": 297,
   "metadata": {},
   "outputs": [
    {
     "data": {
      "image/png": "[encoded data removed]",
      "text/plain": [
       "<Figure size 720x576 with 1 Axes>"
      ]
     },
     "metadata": {
      "needs_background": "light"
     },
     "output_type": "display_data"
    }
   ],
   "source": [
    "# plot top occuring words\n",
    "X_train_cvec_df.sum().sort_values(ascending=False).head(10).plot(kind='barh',figsize=(10,8));\n",
    "#plt.axvline(x=X_train_cvec_df.sum().sort_values().quantile(q=0.98),c='r');"
   ]
  },
  {
   "cell_type": "markdown",
   "metadata": {},
   "source": [
    "### Fig. 01  \n",
    "***Notice the 97th quantile (red line) is right on the boundary of introducing 'want to', the 2-gram with the highest document frequency. I like this to be my first guess for a cut-off max_df because n-grams are one of the few ways that this model will account for the contextual meaning typically present in language. There are uninteresting tokens, both more and less frequent, but tokens more frequently occurring in the data will be designated as Stop-Words for initial model tuning.***"
   ]
  },
  {
   "cell_type": "code",
   "execution_count": 272,
   "metadata": {},
   "outputs": [
    {
     "name": "stdout",
     "output_type": "stream",
     "text": [
      "(125100, 5000)\n"
     ]
    },
    {
     "data": {
      "text/plain": [
       "just      80216\n",
       "like      63716\n",
       "don       62682\n",
       "feel      57464\n",
       "want      56185\n",
       "know      52773\n",
       "life      52549\n",
       "ve        44935\n",
       "time      39230\n",
       "people    38542\n",
       "dtype: int64"
      ]
     },
     "execution_count": 272,
     "metadata": {},
     "output_type": "execute_result"
    }
   ],
   "source": [
    "print(X_train_cvec_df.shape)\n",
    "X_train_cvec_df.sum().sort_values(ascending=False)[:10]"
   ]
  },
  {
   "cell_type": "code",
   "execution_count": 273,
   "metadata": {},
   "outputs": [
    {
     "ename": "NameError",
     "evalue": "name 'X_train_df' is not defined",
     "output_type": "error",
     "traceback": [
      "\u001b[1;31m---------------------------------------------------------------------------\u001b[0m",
      "\u001b[1;31mNameError\u001b[0m                                 Traceback (most recent call last)",
      "\u001b[1;32m<ipython-input-273-e32771d4d375>\u001b[0m in \u001b[0;36m<module>\u001b[1;34m\u001b[0m\n\u001b[0;32m      1\u001b[0m \u001b[1;31m# Notice the 97th quantile is right on the boundary of introducing the most frequent 2-gram.\u001b[0m\u001b[1;33m\u001b[0m\u001b[1;33m\u001b[0m\u001b[1;33m\u001b[0m\u001b[0m\n\u001b[1;32m----> 2\u001b[1;33m \u001b[0mprint\u001b[0m\u001b[1;33m(\u001b[0m\u001b[0mX_train_df\u001b[0m\u001b[1;33m.\u001b[0m\u001b[0msum\u001b[0m\u001b[1;33m(\u001b[0m\u001b[1;33m)\u001b[0m\u001b[1;33m.\u001b[0m\u001b[0msort_values\u001b[0m\u001b[1;33m(\u001b[0m\u001b[1;33m)\u001b[0m\u001b[1;33m.\u001b[0m\u001b[0mquantile\u001b[0m\u001b[1;33m(\u001b[0m\u001b[0mq\u001b[0m\u001b[1;33m=\u001b[0m\u001b[1;36m0.964\u001b[0m\u001b[1;33m)\u001b[0m\u001b[1;33m)\u001b[0m\u001b[1;33m\u001b[0m\u001b[1;33m\u001b[0m\u001b[0m\n\u001b[0m\u001b[0;32m      3\u001b[0m \u001b[0mX_train_df\u001b[0m\u001b[1;33m.\u001b[0m\u001b[0msum\u001b[0m\u001b[1;33m(\u001b[0m\u001b[1;33m)\u001b[0m\u001b[1;33m.\u001b[0m\u001b[0msort_values\u001b[0m\u001b[1;33m(\u001b[0m\u001b[1;33m)\u001b[0m\u001b[1;33m[\u001b[0m\u001b[1;36m962\u001b[0m\u001b[1;33m:\u001b[0m\u001b[1;36m965\u001b[0m\u001b[1;33m]\u001b[0m\u001b[1;33m\u001b[0m\u001b[1;33m\u001b[0m\u001b[0m\n",
      "\u001b[1;31mNameError\u001b[0m: name 'X_train_df' is not defined"
     ]
    }
   ],
   "source": [
    "# Notice the 97th quantile is right on the boundary of introducing the most frequent 2-gram.\n",
    "print(X_train_df.sum().sort_values().quantile(q=0.964))\n",
    "X_train_df.sum().sort_values()[962:965]"
   ]
  },
  {
   "cell_type": "code",
   "execution_count": 274,
   "metadata": {},
   "outputs": [
    {
     "ename": "NameError",
     "evalue": "name 'X_train_df' is not defined",
     "output_type": "error",
     "traceback": [
      "\u001b[1;31m---------------------------------------------------------------------------\u001b[0m",
      "\u001b[1;31mNameError\u001b[0m                                 Traceback (most recent call last)",
      "\u001b[1;32m<ipython-input-274-1c256850ac50>\u001b[0m in \u001b[0;36m<module>\u001b[1;34m\u001b[0m\n\u001b[0;32m      1\u001b[0m \u001b[1;31m# % of documents in X_train with 2-gram 'want to'\u001b[0m\u001b[1;33m\u001b[0m\u001b[1;33m\u001b[0m\u001b[1;33m\u001b[0m\u001b[0m\n\u001b[1;32m----> 2\u001b[1;33m \u001b[0mround\u001b[0m\u001b[1;33m(\u001b[0m\u001b[0mX_train_df\u001b[0m\u001b[1;33m.\u001b[0m\u001b[0msum\u001b[0m\u001b[1;33m(\u001b[0m\u001b[1;33m)\u001b[0m\u001b[1;33m.\u001b[0m\u001b[0msort_values\u001b[0m\u001b[1;33m(\u001b[0m\u001b[1;33m)\u001b[0m\u001b[1;33m[\u001b[0m\u001b[1;36m963\u001b[0m\u001b[1;33m:\u001b[0m\u001b[1;36m964\u001b[0m\u001b[1;33m]\u001b[0m\u001b[1;33m/\u001b[0m\u001b[0mX_train\u001b[0m\u001b[1;33m.\u001b[0m\u001b[0mshape\u001b[0m\u001b[1;33m[\u001b[0m\u001b[1;36m0\u001b[0m\u001b[1;33m]\u001b[0m\u001b[1;33m,\u001b[0m\u001b[1;36m3\u001b[0m\u001b[1;33m)\u001b[0m\u001b[1;33m\u001b[0m\u001b[1;33m\u001b[0m\u001b[0m\n\u001b[0m",
      "\u001b[1;31mNameError\u001b[0m: name 'X_train_df' is not defined"
     ]
    }
   ],
   "source": [
    "# % of documents in X_train with 2-gram 'want to' \n",
    "round(X_train_df.sum().sort_values()[963:964]/X_train.shape[0],3)"
   ]
  },
  {
   "cell_type": "code",
   "execution_count": null,
   "metadata": {},
   "outputs": [],
   "source": [
    "# Inspect tokens in corpus\n",
    "cvec.get_feature_names()[800:900];\n",
    "len(cvec.vocabulary_)\n",
    "cvec.stop_words_;\n",
    "cvec.vocabulary_;\n",
    "cvec.get_feature_names();"
   ]
  },
  {
   "cell_type": "code",
   "execution_count": 276,
   "metadata": {},
   "outputs": [
    {
     "name": "stdout",
     "output_type": "stream",
     "text": [
      "No. of Stop Words in C-Vec: 318\n",
      "No. of Stop Words chosen: 5000\n"
     ]
    }
   ],
   "source": [
    "# For my stop words I took the 10,000 most common words and found that 255 of them were in the CountVectorizer's list of 318 'english' stop-words.\n",
    "# I then went through those 255 and removed theh ones that did not seem approrpriate to keep. That list is my stop_words_removed.\n",
    "stops_cvec = list(CountVectorizer(stop_words = 'english').get_stop_words())\n",
    "print(f'No. of Stop Words in C-Vec: {len(stops_cvec)}')\n",
    "\n",
    "tops = X_train_cvec_df.sum().sort_values(ascending=False)[:5000].index.tolist()\n",
    "print(f'No. of Stop Words chosen: {len(tops)}')"
   ]
  },
  {
   "cell_type": "code",
   "execution_count": 277,
   "metadata": {},
   "outputs": [
    {
     "data": {
      "text/plain": [
       "000           0.0\n",
       "10            0.0\n",
       "10 minutes    0.0\n",
       "10 years      0.0\n",
       "100           0.0\n",
       "             ... \n",
       "youtube       0.0\n",
       "zero          0.0\n",
       "zoloft        0.0\n",
       "zombie        0.0\n",
       "zone          0.0\n",
       "Length: 5000, dtype: float64"
      ]
     },
     "execution_count": 277,
     "metadata": {},
     "output_type": "execute_result"
    }
   ],
   "source": [
    "X_train_cvec_df[X_train_cvec_df.isnull()].sum()"
   ]
  },
  {
   "cell_type": "code",
   "execution_count": 90,
   "metadata": {},
   "outputs": [
    {
     "name": "stdout",
     "output_type": "stream",
     "text": [
      " Both: 88, Suicide Only: 12, Depression Only: 12\n"
     ]
    }
   ],
   "source": [
    "# Look at the top 500 tokens in each subreddit\n",
    "suicide_top500 = list(words_and_subreddits[words_and_subreddits['subreddit']==1].sum().sort_values(ascending=False)[:100].index)\n",
    "depression_top500 = list(words_and_subreddits[words_and_subreddits['subreddit']==0].sum().sort_values(ascending=False)[:100].index)\n",
    "\n",
    "both = []\n",
    "suicide_only = []\n",
    "depression_only =[]\n",
    "for token in suicide_top500:\n",
    "    if token in depression_top500:\n",
    "        both.append(token)\n",
    "    else:\n",
    "        suicide_only.append(token)\n",
    "        \n",
    "for token in depression_top500:\n",
    "    if token not in suicide_top500:\n",
    "        depression_only.append(token)\n",
    "        \n",
    "print(f' Both: {len(both)}, Suicide Only: {len(suicide_only)}, Depression Only: {len(depression_only)}')"
   ]
  },
  {
   "cell_type": "code",
   "execution_count": 259,
   "metadata": {},
   "outputs": [],
   "source": [
    "difference_df.sort_values(by=0, ascending=False).iloc[261:486];"
   ]
  },
  {
   "cell_type": "code",
   "execution_count": 227,
   "metadata": {},
   "outputs": [
    {
     "data": {
      "text/plain": [
       "Index(['thought', 'miserable', 'soul', 'year old', 'days ago', 'know want',\n",
       "       'quarantine', 'pointless', 'know people', 'hoping', 'possible',\n",
       "       'wanted', '25', 'getting better', 'given', 'feel guilty', 'pressure',\n",
       "       'second', 'doctors', 'known', 'treat', 'reach', '22', 'order', 'simply',\n",
       "       'caring', 'gets', 'writing', 'maybe just', 'afford', 'age', 'asleep',\n",
       "       'really just', 'broken', 'dumb', '12', 'mistakes', 'right', 'hurts',\n",
       "       'water', 'nearly', 'oh', 'broke', 'want know', 'doubt', 'didn want',\n",
       "       'older', 'breaking', 'loving', 'answer'],\n",
       "      dtype='object')"
      ]
     },
     "execution_count": 227,
     "metadata": {},
     "output_type": "execute_result"
    }
   ],
   "source": [
    "difference_df.sort_values(by=0, ascending=False).iloc[350:400].index"
   ]
  },
  {
   "cell_type": "code",
   "execution_count": 278,
   "metadata": {},
   "outputs": [
    {
     "name": "stdout",
     "output_type": "stream",
     "text": [
      " Both: 439, Suicide Only: 61, Depression Only: 61\n"
     ]
    }
   ],
   "source": [
    "# Look at the second half of top 1000 tokens in each subreddit (aka [500:1000])\n",
    "suicide_500_1000 = \n",
    "    list(words_and_subreddits[words_and_subreddits['subreddit']==1].sum()\\\n",
    "         .sort_values(ascending=False)[500:1000].index)\n",
    "    \n",
    "depression_500_1000 = \n",
    "    list(words_and_subreddits[words_and_subreddits['subreddit']==0].sum()\\\n",
    "         .sort_values(ascending=False)[500:1000].index)\n",
    "\n",
    "both = []\n",
    "suicide_only = []\n",
    "depression_only =[]\n",
    "for token in suicide_500_1000:\n",
    "    if token in depression_500_1000:\n",
    "        both.append(token)\n",
    "    else:\n",
    "        suicide_only.append(token)\n",
    "        \n",
    "for token in depression_500_1000:\n",
    "    if token not in suicide_500_1000:\n",
    "        depression_only.append(token)\n",
    "        \n",
    "print(f' Both: {len(both)}, Suicide Only: {len(suicide_only)}, Depression Only: {len(depression_only)}')"
   ]
  },
  {
   "cell_type": "code",
   "execution_count": 69,
   "metadata": {},
   "outputs": [
    {
     "name": "stdout",
     "output_type": "stream",
     "text": [
      "No. of Stop Words in C-Vec: 318\n",
      "No. of top 500 Words in both subreddits: 439\n",
      "No. of top 500 Stop Words in both subreddits: 30\n",
      "No. of top 500 subject specific Stop Words appearing in both subreddits: 409\n"
     ]
    }
   ],
   "source": [
    "# After investigating stop words it became apparant that the best scores were with \n",
    "# CountVectorizers standard set of 'english' stop words\n",
    "STOPS = list(CountVectorizer(stop_words = 'english').get_stop_words())\n",
    "print(f'No. of Stop Words in C-Vec: {len(stops_cvec)}')\n",
    "\n",
    "print(f'No. of top 500 Words in both subreddits: {len(both)}')\n",
    "stop_words_in_both = []\n",
    "stop_words_in_both4 = []\n",
    "subject_stop_words = []\n",
    "for word in both:\n",
    "    if word in STOPS:\n",
    "        stop_words_in_both.append(word)\n",
    "    else:\n",
    "        subject_stop_words.append(word)\n",
    "print(f'No. of top 500 Stop Words in both subreddits: {len(stop_words_in_both)}')\n",
    "print(f'No. of top 500 subject specific Stop Words appearing in both subreddits: {len(subject_stop_words)}')"
   ]
  },
  {
   "cell_type": "markdown",
   "metadata": {},
   "source": [
    "### NOTE:\n",
    "\n",
    "No. of Stop Words in CountVectorizer: 318\n",
    "No. of top 500 Words in both subreddits: 460\n",
    "No. of top 500 Stop Words in both subreddits: 153\n",
    "No. of top 500 subject specific Stop Words appearing in both subreddits: 307"
   ]
  },
  {
   "cell_type": "code",
   "execution_count": null,
   "metadata": {},
   "outputs": [],
   "source": [
    "text_and_subredditwords = []\n",
    "maybes =[]\n",
    "for word in tops:\n",
    "    if word in stops:\n",
    "        my_stop_words.append(word)\n",
    "    else:\n",
    "        maybes.append(word)\n",
    "len(my_stop_words)"
   ]
  },
  {
   "cell_type": "code",
   "execution_count": null,
   "metadata": {},
   "outputs": [],
   "source": [
    "%store -r my_stop_words\n",
    "len(my_stop_words)"
   ]
  }
 ],
 "metadata": {
  "kernelspec": {
   "display_name": "Python 3",
   "language": "python",
   "name": "python3"
  },
  "language_info": {
   "codemirror_mode": {
    "name": "ipython",
    "version": 3
   },
   "file_extension": ".py",
   "mimetype": "text/x-python",
   "name": "python",
   "nbconvert_exporter": "python",
   "pygments_lexer": "ipython3",
   "version": "3.8.3"
  }
 },
 "nbformat": 4,
 "nbformat_minor": 4
}
