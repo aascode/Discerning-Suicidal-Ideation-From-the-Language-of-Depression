{
 "cells": [
  {
   "cell_type": "code",
   "execution_count": 96,
   "metadata": {},
   "outputs": [],
   "source": [
    "# Imports\n",
    "import pandas as pd\n",
    "import numpy as np\n",
    "import matplotlib.pyplot as plt\n",
    "\n",
    "from sklearn.model_selection import train_test_split, cross_val_score, GridSearchCV\n",
    "from sklearn.pipeline import Pipeline\n",
    "from sklearn.naive_bayes import MultinomialNB\n",
    "\n",
    "# Import CountVectorizer and TFIDFVectorizer from feature_extraction.text\n",
    "from sklearn.feature_extraction.text import CountVectorizer, TfidfVectorizer"
   ]
  },
  {
   "cell_type": "code",
   "execution_count": 36,
   "metadata": {},
   "outputs": [],
   "source": [
    "# Set-up DataFrame for NLP\n",
    "#suicide = pd.read_csv('../data/suicide_clean.csv')\n",
    "#depression = pd.read_csv('../data/depression_clean.csv')\n",
    "subreddits = pd.read_csv('../data/subreddits_clean.csv')"
   ]
  },
  {
   "cell_type": "code",
   "execution_count": 37,
   "metadata": {},
   "outputs": [],
   "source": [
    "#Set-up X- and y-variables\n",
    "# NOTE: cvec needs a vector(Series), not a matrix(DataFrame)\n",
    "X = subreddits['submission_text']\n",
    "y = subreddits['subreddit']"
   ]
  },
  {
   "cell_type": "code",
   "execution_count": 38,
   "metadata": {},
   "outputs": [],
   "source": [
    "# Split the data into the training and testing sets.\n",
    "X_train, X_test, y_train, y_test = train_test_split(X,\n",
    "                                                    y,\n",
    "                                                    stratify=y,\n",
    "                                                    random_state=86)\n",
    "# Split the data into the training and testing sets.\n",
    "#X2_train, X2_test, y2_train, y2_test = train_test_split(X,\n",
    "                                                    #y,\n",
    "                                                    #stratify=y,\n",
    "                                                    #random_state=86)"
   ]
  },
  {
   "cell_type": "code",
   "execution_count": 124,
   "metadata": {},
   "outputs": [],
   "source": [
    "a = list(np.sort(np.random.choice(list(subreddits.index), size=1000)))\n",
    "subreddits_a = subreddits.loc[a,['submission_text','subreddit']]\n",
    "\n",
    "Xa = subreddits_a['submission_text']\n",
    "ya = subreddits_a['subreddit']\n",
    "\n",
    "# Split the data into the training and testing sets.\n",
    "Xa_train, Xa_test, ya_train, ya_test = train_test_split(Xa,\n",
    "                                                    ya,\n",
    "                                                    stratify=ya,\n",
    "                                                    random_state=86)"
   ]
  },
  {
   "cell_type": "markdown",
   "metadata": {},
   "source": [
    "## Model Preparation\n",
    "\n",
    "##### Establish a baseline accuracy (predicting the plurality class)"
   ]
  },
  {
   "cell_type": "code",
   "execution_count": 39,
   "metadata": {},
   "outputs": [
    {
     "data": {
      "text/plain": [
       "1    0.50735\n",
       "0    0.49265\n",
       "Name: subreddit, dtype: float64"
      ]
     },
     "execution_count": 39,
     "metadata": {},
     "output_type": "execute_result"
    }
   ],
   "source": [
    "# The Null Model is about 50/50\n",
    "y_test.value_counts(normalize=True)"
   ]
  },
  {
   "cell_type": "code",
   "execution_count": 40,
   "metadata": {},
   "outputs": [],
   "source": [
    "# Instantiate a CountVectorizer with the default hyperparameters\n",
    "cvec = CountVectorizer(max_features=10000, ngram_range=(1,2), binary=True, max_df=1.0, min_df=2)\n",
    "#cvec2 = CountVectorizer(max_features=9000, ngram_range=(1,2), binary=True, max_df=0.375, min_df=3,stop_words='english')\n",
    "\n",
    "#stop_words=[]\n",
    "# Look at sklearn's stopwords.\n",
    "# print(CountVectorizer(stop_words = 'english').get_stop_words())"
   ]
  },
  {
   "cell_type": "code",
   "execution_count": 41,
   "metadata": {},
   "outputs": [
    {
     "data": {
      "text/plain": [
       "CountVectorizer(binary=True, max_features=10000, min_df=2, ngram_range=(1, 2))"
      ]
     },
     "execution_count": 41,
     "metadata": {},
     "output_type": "execute_result"
    }
   ],
   "source": [
    "# Fit the vectorizer on our corpus\n",
    "cvec.fit(X_train)\n",
    "#cvec2.fit(X2_train)"
   ]
  },
  {
   "cell_type": "code",
   "execution_count": 42,
   "metadata": {},
   "outputs": [],
   "source": [
    "# Transform the train corpus\n",
    "X_train = cvec.transform(X_train)\n",
    "#X2_train = cvec2.transform(X2_train)"
   ]
  },
  {
   "cell_type": "code",
   "execution_count": 43,
   "metadata": {},
   "outputs": [],
   "source": [
    "# Transform test corpus\n",
    "X_test = cvec.transform(X_test)\n",
    "#X2_test = cvec2.transform(X2_test)"
   ]
  },
  {
   "cell_type": "code",
   "execution_count": 13,
   "metadata": {},
   "outputs": [
    {
     "ename": "AttributeError",
     "evalue": "'CountVectorizer' object has no attribute 'score'",
     "output_type": "error",
     "traceback": [
      "\u001b[1;31m---------------------------------------------------------------------------\u001b[0m",
      "\u001b[1;31mAttributeError\u001b[0m                            Traceback (most recent call last)",
      "\u001b[1;32m<ipython-input-13-b7fd6e74380e>\u001b[0m in \u001b[0;36m<module>\u001b[1;34m\u001b[0m\n\u001b[0;32m      1\u001b[0m \u001b[1;31m# Training scores\u001b[0m\u001b[1;33m\u001b[0m\u001b[1;33m\u001b[0m\u001b[1;33m\u001b[0m\u001b[0m\n\u001b[1;32m----> 2\u001b[1;33m \u001b[0mX_train_score\u001b[0m \u001b[1;33m=\u001b[0m \u001b[0mcvec\u001b[0m\u001b[1;33m.\u001b[0m\u001b[0mscore\u001b[0m\u001b[1;33m(\u001b[0m\u001b[0mX_train\u001b[0m\u001b[1;33m,\u001b[0m \u001b[0my_train\u001b[0m\u001b[1;33m)\u001b[0m\u001b[1;33m\u001b[0m\u001b[1;33m\u001b[0m\u001b[0m\n\u001b[0m\u001b[0;32m      3\u001b[0m \u001b[1;31m#X2_train_score = cvec2.score(X2_train, y2_train)\u001b[0m\u001b[1;33m\u001b[0m\u001b[1;33m\u001b[0m\u001b[1;33m\u001b[0m\u001b[0m\n\u001b[0;32m      4\u001b[0m \u001b[1;33m\u001b[0m\u001b[0m\n\u001b[0;32m      5\u001b[0m \u001b[0mprint\u001b[0m\u001b[1;33m(\u001b[0m\u001b[1;34mf'Training Scores:\\n\\tX = {round(X_train_score*100,3)}%'\u001b[0m\u001b[1;33m)\u001b[0m\u001b[1;31m#\\n\\tX2  = {round(X2_train_score*100,3)}%')\u001b[0m\u001b[1;33m\u001b[0m\u001b[1;33m\u001b[0m\u001b[0m\n",
      "\u001b[1;31mAttributeError\u001b[0m: 'CountVectorizer' object has no attribute 'score'"
     ]
    }
   ],
   "source": [
    "# Training scores\n",
    "X_train_score = cvec.score(X_train, y_train)\n",
    "#X2_train_score = cvec2.score(X2_train, y2_train)\n",
    "\n",
    "print(f'Training Scores:\\n\\tX = {round(X_train_score*100,3)}%')#\\n\\tX2  = {round(X2_train_score*100,3)}%')"
   ]
  },
  {
   "cell_type": "code",
   "execution_count": null,
   "metadata": {},
   "outputs": [],
   "source": [
    "# Test scores\n",
    "cvec_test_score = pipe_cvec.score(X_test, y_test)\n",
    "#tvec_test_score = pipe_tvec.score(X_test, y_test)\n",
    "\n",
    "print(f'Test Scores:\\n\\tCount-V = {round(cvec_test_score*100,3)}%')#\\n\\tTF-IDF  = {round(tvec_test_score*100,3)}%')"
   ]
  },
  {
   "cell_type": "markdown",
   "metadata": {},
   "source": [
    "##### STOP WORDS"
   ]
  },
  {
   "cell_type": "code",
   "execution_count": 44,
   "metadata": {},
   "outputs": [
    {
     "data": {
      "image/png": "[encoded data removed]",
      "text/plain": [
       "<Figure size 1440x936 with 1 Axes>"
      ]
     },
     "metadata": {
      "needs_background": "light"
     },
     "output_type": "display_data"
    }
   ],
   "source": [
    "# convert training data to dataframe\n",
    "X_train_df = pd.DataFrame(X_train.todense(), \n",
    "                          columns=cvec.get_feature_names())\n",
    "\n",
    "# plot top occuring words\n",
    "X_train_df.sum().sort_values(ascending=False).head(40).plot(kind='barh',figsize=(20,13));\n",
    "plt.axvline(x=X_train_df.sum().sort_values().quantile(q=0.964),c='r');\n",
    "# Let's look at sklearn's stopwords.\n",
    "#print(CountVectorizer(stop_words = 'english').get_stop_words())"
   ]
  },
  {
   "cell_type": "markdown",
   "metadata": {},
   "source": [
    "### Fig. 01  \n",
    "***Notice the 97th quantile (red line) is right on the boundary of introducing 'want to', the 2-gram with the highest document frequency. I like this to be my first guess for a cut-off max_df because n-grams are one of the few ways that this model will account for the contextual meaning typically present in language. There are uninteresting tokens, both more and less frequent, but tokens more frequently occurring in the data will be designated as Stop-Words for initial model tuning.***"
   ]
  },
  {
   "cell_type": "code",
   "execution_count": 45,
   "metadata": {},
   "outputs": [
    {
     "name": "stdout",
     "output_type": "stream",
     "text": [
      "(125100, 10000)\n"
     ]
    }
   ],
   "source": [
    "# Verify No. of columns are max_features\n",
    "print(X_train.shape)"
   ]
  },
  {
   "cell_type": "code",
   "execution_count": 46,
   "metadata": {},
   "outputs": [
    {
     "name": "stdout",
     "output_type": "stream",
     "text": [
      "8621.556000000004\n"
     ]
    },
    {
     "data": {
      "text/plain": [
       "individual     378\n",
       "improvement    378\n",
       "former         378\n",
       "dtype: int64"
      ]
     },
     "execution_count": 46,
     "metadata": {},
     "output_type": "execute_result"
    }
   ],
   "source": [
    "# Notice the 97th quantile is right on the boundary of introducing the most frequent 2-gram.\n",
    "print(X_train_df.sum().sort_values().quantile(q=0.964))\n",
    "X_train_df.sum().sort_values()[962:965]"
   ]
  },
  {
   "cell_type": "code",
   "execution_count": 47,
   "metadata": {},
   "outputs": [
    {
     "data": {
      "text/plain": [
       "improvement    0.003\n",
       "dtype: float64"
      ]
     },
     "execution_count": 47,
     "metadata": {},
     "output_type": "execute_result"
    }
   ],
   "source": [
    "# % of documents in X_train with 2-gram 'want to' \n",
    "round(X_train_df.sum().sort_values()[963:964]/X_train.shape[0],3)"
   ]
  },
  {
   "cell_type": "code",
   "execution_count": 48,
   "metadata": {},
   "outputs": [],
   "source": [
    "# Inspect tokens in corpus\n",
    "cvec.get_feature_names()[800:900];"
   ]
  },
  {
   "cell_type": "code",
   "execution_count": 49,
   "metadata": {},
   "outputs": [
    {
     "data": {
      "text/plain": [
       "10000"
      ]
     },
     "execution_count": 49,
     "metadata": {},
     "output_type": "execute_result"
    }
   ],
   "source": [
    "len(cvec.vocabulary_)"
   ]
  },
  {
   "cell_type": "code",
   "execution_count": null,
   "metadata": {},
   "outputs": [],
   "source": [
    "cvec.stop_words_;"
   ]
  },
  {
   "cell_type": "code",
   "execution_count": null,
   "metadata": {},
   "outputs": [],
   "source": [
    "cvec.vocabulary_;"
   ]
  },
  {
   "cell_type": "code",
   "execution_count": null,
   "metadata": {},
   "outputs": [],
   "source": [
    "cvec.get_feature_names();"
   ]
  },
  {
   "cell_type": "code",
   "execution_count": 50,
   "metadata": {},
   "outputs": [
    {
     "data": {
      "text/plain": [
       "318"
      ]
     },
     "execution_count": 50,
     "metadata": {},
     "output_type": "execute_result"
    }
   ],
   "source": [
    "stops = list(CountVectorizer(stop_words = 'english').get_stop_words())\n",
    "len(stops)"
   ]
  },
  {
   "cell_type": "code",
   "execution_count": 52,
   "metadata": {},
   "outputs": [
    {
     "data": {
      "text/plain": [
       "10000"
      ]
     },
     "execution_count": 52,
     "metadata": {},
     "output_type": "execute_result"
    }
   ],
   "source": [
    "tops = X_train_df.sum().sort_values(ascending=False)[:10000].index.tolist()\n",
    "len(tops)"
   ]
  },
  {
   "cell_type": "code",
   "execution_count": 83,
   "metadata": {},
   "outputs": [
    {
     "name": "stderr",
     "output_type": "stream",
     "text": [
      "C:\\Users\\bgrif\\anaconda3\\lib\\site-packages\\pandas\\core\\internals\\blocks.py:382: FutureWarning: in the future negative indices will not be ignored by `numpy.delete`.\n",
      "  self.values = np.delete(self.values, loc, 0)\n",
      "C:\\Users\\bgrif\\anaconda3\\lib\\site-packages\\pandas\\core\\internals\\blocks.py:383: FutureWarning: in the future negative indices will not be ignored by `numpy.delete`.\n",
      "  self.mgr_locs = self.mgr_locs.delete(loc)\n"
     ]
    }
   ],
   "source": [
    "sub = pd.DataFrame(y_train)\n",
    "X_train_df['subreddit'] = y_train"
   ]
  },
  {
   "cell_type": "code",
   "execution_count": 91,
   "metadata": {},
   "outputs": [
    {
     "data": {
      "text/plain": [
       "0    123890\n",
       "1      1210\n",
       "Name: subreddit, dtype: int64"
      ]
     },
     "execution_count": 91,
     "metadata": {},
     "output_type": "execute_result"
    }
   ],
   "source": [
    "X_train_df['subreddit'].value_counts()"
   ]
  },
  {
   "cell_type": "code",
   "execution_count": 53,
   "metadata": {},
   "outputs": [
    {
     "data": {
      "text/plain": [
       "255"
      ]
     },
     "execution_count": 53,
     "metadata": {},
     "output_type": "execute_result"
    }
   ],
   "source": [
    "text_and_subredditwords = []\n",
    "maybes =[]\n",
    "for word in tops:\n",
    "    if word in stops:\n",
    "        my_stop_words.append(word)\n",
    "    else:\n",
    "        maybes.append(word)\n",
    "len(my_stop_words)\n",
    "#print(maybes)"
   ]
  },
  {
   "cell_type": "code",
   "execution_count": null,
   "metadata": {},
   "outputs": [],
   "source": []
  },
  {
   "cell_type": "code",
   "execution_count": 72,
   "metadata": {},
   "outputs": [
    {
     "data": {
      "text/plain": [
       "['may',\n",
       " 'me',\n",
       " 'meanwhile',\n",
       " 'might',\n",
       " 'mine',\n",
       " 'more',\n",
       " 'most',\n",
       " 'mostly',\n",
       " 'move',\n",
       " 'much',\n",
       " 'must',\n",
       " 'my',\n",
       " 'myself',\n",
       " 'name',\n",
       " 'neither',\n",
       " 'never',\n",
       " 'next',\n",
       " 'no',\n",
       " 'nobody',\n",
       " 'none']"
      ]
     },
     "execution_count": 72,
     "metadata": {},
     "output_type": "execute_result"
    }
   ],
   "source": [
    "my_stop_words[120:140]"
   ]
  },
  {
   "cell_type": "code",
   "execution_count": null,
   "metadata": {},
   "outputs": [],
   "source": []
  },
  {
   "cell_type": "code",
   "execution_count": null,
   "metadata": {},
   "outputs": [],
   "source": []
  },
  {
   "cell_type": "code",
   "execution_count": null,
   "metadata": {},
   "outputs": [],
   "source": [
    "my_stop_words.remove(['after',\n",
    "                      'afterwards',\n",
    "                      'again',\n",
    "                      'against',\n",
    "                      'alone',\n",
    "                      'another',\n",
    "                      'anyone',\n",
    "                      'anything',\n",
    "                      'anywhere',\n",
    "                      'below',\n",
    "                      'beyond',\n",
    "                      'bottom',\n",
    "                      'call',\n",
    "                      'cannot',\n",
    "                      'cant',\n",
    "                      'couldnt',\n",
    "                      'cry',\n",
    "                      'done',\n",
    "                      'down',\n",
    "                      'else',\n",
    "                      'empty',\n",
    "                      'enough',\n",
    "                      'everyone',\n",
    "                      'everything',\n",
    "                      'everywhere',\n",
    "                      'fire',\n",
    "                      'further',\n",
    "                      'give',\n",
    "                      'herself',\n",
    "                      'keep',\n",
    "                      'last',\n",
    "                      'least',\n",
    "                      'less',\n",
    "                      'may',\n",
    " 'me',\n",
    " 'most',\n",
    " 'mostly',\n",
    " 'move',\n",
    " 'must',\n",
    " 'myself',\n",
    " 'never',\n",
    " 'no',\n",
    " 'nobody',\n",
    " 'none'\n"
   ]
  },
  {
   "cell_type": "code",
   "execution_count": 56,
   "metadata": {},
   "outputs": [
    {
     "name": "stdout",
     "output_type": "stream",
     "text": [
      "255\n"
     ]
    }
   ],
   "source": [
    "print(len(my_stop_words))"
   ]
  },
  {
   "cell_type": "code",
   "execution_count": 5,
   "metadata": {},
   "outputs": [
    {
     "data": {
      "text/plain": [
       "7"
      ]
     },
     "execution_count": 5,
     "metadata": {},
     "output_type": "execute_result"
    }
   ],
   "source": [
    "%store -r my_stop_words\n",
    "len(my_stop_words)"
   ]
  },
  {
   "cell_type": "code",
   "execution_count": 30,
   "metadata": {},
   "outputs": [
    {
     "name": "stdout",
     "output_type": "stream",
     "text": [
      "Stored 'my_stop_words' (list)\n"
     ]
    }
   ],
   "source": [
    "\n",
    "for word in ['just', 'like', 'don','ve', 'things', 'in my', 'of my']:\n",
    "    my_stop_words.append(word)\n",
    "%store my_stop_words"
   ]
  },
  {
   "cell_type": "code",
   "execution_count": 31,
   "metadata": {},
   "outputs": [
    {
     "name": "stdout",
     "output_type": "stream",
     "text": [
      "['just', 'like', 'don', 've', 'things', 'in my', 'of my']\n"
     ]
    }
   ],
   "source": [
    "print(my_stop_words)"
   ]
  },
  {
   "cell_type": "code",
   "execution_count": 32,
   "metadata": {},
   "outputs": [
    {
     "data": {
      "image/png": "[encoded data removed]",
      "text/plain": [
       "<Figure size 720x936 with 1 Axes>"
      ]
     },
     "metadata": {
      "needs_background": "light"
     },
     "output_type": "display_data"
    }
   ],
   "source": [
    "# STOP WORDS\n",
    "\n",
    "# Convert training data to dataframe\n",
    "X2_train_df = pd.DataFrame(X2_train.todense(), \n",
    "                          columns=cvec2.get_feature_names())\n",
    "\n",
    "# plot top occuring words\n",
    "X2_train_df.sum().sort_values(ascending=False).head(40).plot(kind='barh',figsize=(10,13));\n",
    "plt.axvline(x=X2_train_df.sum().sort_values().quantile(q=0.964),c='r');\n",
    "# Let's look at sklearn's stopwords.\n",
    "#print(CountVectorizer(stop_words = 'english').get_stop_words())"
   ]
  },
  {
   "cell_type": "code",
   "execution_count": 33,
   "metadata": {},
   "outputs": [],
   "source": [
    "# Redefine training and testing sets.\n",
    "X_train, X_test, y_train, y_test = train_test_split(X,\n",
    "                                                    y,\n",
    "                                                    stratify=y,\n",
    "                                                    random_state=86)"
   ]
  },
  {
   "cell_type": "code",
   "execution_count": 34,
   "metadata": {},
   "outputs": [],
   "source": [
    "# Pipeline Set-Up:\n",
    "# Stage 1. CountVectorizer (transformer)\n",
    "# Stage 2. Multinomial Naive Bayes (estimator)\n",
    "pipe_cvec = Pipeline([\n",
    "    ('cvec', CountVectorizer()),\n",
    "    ('nb', MultinomialNB())\n",
    "])\n",
    "\n",
    "pipe_tvec = Pipeline([\n",
    "    ('tvec', TfidfVectorizer()),\n",
    "    ('nb', MultinomialNB())\n",
    "])"
   ]
  },
  {
   "cell_type": "code",
   "execution_count": null,
   "metadata": {},
   "outputs": [],
   "source": [
    "# Estimate performance of models on unseen data\n",
    "cvec_cv_score = cross_val_score(pipe_cvec, X_train, y_train, cv=3).mean() \n",
    "tvec_cv_score = cross_val_score(pipe_tvec, X_train, y_train, cv=3).mean() \n",
    "\n",
    "print(f'Cross-Val Scores:\\n\\tCount-V = {round(cvec_cv_score*100,3)}%\\n\\tTF-IDF  = {round(tvec_cv_score*100,3)}%')"
   ]
  },
  {
   "cell_type": "code",
   "execution_count": null,
   "metadata": {},
   "outputs": [],
   "source": [
    "# Fit the models with default parameters\n",
    "pipe_cvec.fit(X_train, y_train)\n",
    "pipe_tvec.fit(X_train, y_train)"
   ]
  },
  {
   "cell_type": "code",
   "execution_count": null,
   "metadata": {},
   "outputs": [],
   "source": [
    "# Training scores\n",
    "cvec_train_score = pipe_cvec.score(X_train, y_train)\n",
    "tvec_train_score = pipe_tvec.score(X_train, y_train)\n",
    "\n",
    "print(f'Training Scores:\\n\\tCount-V = {round(cvec_train_score*100,3)}%\\n\\tTF-IDF  = {round(tvec_train_score*100,3)}%')"
   ]
  },
  {
   "cell_type": "code",
   "execution_count": null,
   "metadata": {},
   "outputs": [],
   "source": [
    "# Test scores\n",
    "cvec_test_score = pipe_cvec.score(X_test, y_test)\n",
    "tvec_test_score = pipe_tvec.score(X_test, y_test)\n",
    "\n",
    "print(f'Test Scores:\\n\\tCount-V = {round(cvec_test_score*100,3)}%\\n\\tTF-IDF  = {round(tvec_test_score*100,3)}%')"
   ]
  },
  {
   "cell_type": "code",
   "execution_count": null,
   "metadata": {},
   "outputs": [],
   "source": []
  }
 ],
 "metadata": {
  "kernelspec": {
   "display_name": "Python 3",
   "language": "python",
   "name": "python3"
  },
  "language_info": {
   "codemirror_mode": {
    "name": "ipython",
    "version": 3
   },
   "file_extension": ".py",
   "mimetype": "text/x-python",
   "name": "python",
   "nbconvert_exporter": "python",
   "pygments_lexer": "ipython3",
   "version": "3.8.3"
  }
 },
 "nbformat": 4,
 "nbformat_minor": 4
}
