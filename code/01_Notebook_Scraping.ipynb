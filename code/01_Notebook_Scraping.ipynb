{
 "cells": [
  {
   "cell_type": "code",
   "execution_count": 8,
   "metadata": {},
   "outputs": [],
   "source": [
    "# Imports\n",
    "import pandas as pd\n",
    "import requests\n",
    "\n",
    "# Parsing Library: Beautiful Soup\n",
    "from bs4 import BeautifulSoup\n",
    "\n",
    "# Built-in Time Access and Conversions Module\n",
    "import time"
   ]
  },
  {
   "cell_type": "code",
   "execution_count": 9,
   "metadata": {},
   "outputs": [],
   "source": [
    "# Setup url as a string for API call\n",
    "url = 'https://api.pushshift.io'\n",
    "submission_url = '/reddit/search/submission'\n",
    "comment_url = '/reddit/search/comment'"
   ]
  },
  {
   "cell_type": "code",
   "execution_count": 15,
   "metadata": {},
   "outputs": [],
   "source": [
    "# Setup df list\n",
    "tech = []       # Initialize empty list to append with data\n",
    "oldest = 0      # Establish time-zero to reference submissions chronologically\n",
    "num_reqs = 0    # No. of requests to Reddit server\n",
    "max_reqs = 1#000 # Maximum No. of requests to be made to Reddit server\n",
    "sub = 1         # 0 for 'depression', 1 for 'SuicideWatch'\n",
    "subreddit = ['depression','SuicideWatch']"
   ]
  },
  {
   "cell_type": "code",
   "execution_count": 16,
   "metadata": {},
   "outputs": [
    {
     "data": {
      "text/plain": [
       "'depression'"
      ]
     },
     "execution_count": 16,
     "metadata": {},
     "output_type": "execute_result"
    }
   ],
   "source": [
    "# Verify subreddit before sending request\n",
    "subreddit[sub]"
   ]
  },
  {
   "cell_type": "code",
   "execution_count": 17,
   "metadata": {},
   "outputs": [
    {
     "name": "stdout",
     "output_type": "stream",
     "text": [
      "1\n",
      "No. of Get requests: 1\n",
      "\n",
      "No. of Get requests: 2\n",
      "\n"
     ]
    }
   ],
   "source": [
    "# Obtain 100,000 subreddit submissions by making 1,000 requests of 100 submissions each\n",
    "while num_reqs <= max_reqs:\n",
    "    \n",
    "    # Setup parameters for initial request\n",
    "    if oldest == 0:\n",
    "        req_params = {\n",
    "            'subreddit': subreddit[sub], # ID the subreddit of interest\n",
    "            'size': 100 # Maximum submissions allowed by Reddit\n",
    "        }\n",
    "    # Setup params for all subsequent requests\n",
    "    else:\n",
    "        req_params = {\n",
    "            'subreddit': subreddit[sub],\n",
    "            'size': 100,\n",
    "            'before': oldest # Only 'get' submissions older than prev req\n",
    "        } \n",
    "        \n",
    "    # GET-request\n",
    "    #   -Submits an http request from browser to server\n",
    "    #   -Response contains:\n",
    "    #        1. Status info about the request(response code)\n",
    "    #        2. Requested content (sequence of bytes)\n",
    "    # Get request-response\n",
    "    req = requests.get(url+submission_url, req_params)\n",
    "    \n",
    "    # Keep track of No. of requests\n",
    "    num_reqs += 1\n",
    "    \n",
    "    # Store json form of response-content as dict w/ one-key: 'data'\n",
    "    data_100 = req.json()\n",
    "\n",
    "    # Name List of 100 submissions 'subs_100'\n",
    "    subs_100 = data_100['data'] # Dict key-'data': value-'subs_100' \n",
    "\n",
    "    # Create DataFrame from list of 100 dictionaries\n",
    "    tech_100 = pd.DataFrame(subs_100)\n",
    "    \n",
    "    # Prepare initial request-response for concatenation\n",
    "    if num_reqs == 1:\n",
    "        print(num_reqs)\n",
    "        submission = tech_100.copy()\n",
    "        \n",
    "    # Concatinate intitial response with subsequent responses\n",
    "    else:\n",
    "        submission = pd.concat([submission, tech_100], ignore_index=True)\n",
    "\n",
    "    # ID oldest post in request\n",
    "    oldest = subs_100[99]['created_utc']\n",
    "     \n",
    "    #Slow down the pace of scrapping per Reddit TOU\n",
    "    time.sleep(1)\n",
    "    \n",
    "    # Display status of while loop\n",
    "    print(f'No. of Get requests: {num_reqs}\\n')\n",
    "    #print(submission.title.value_counts()[:10])\n",
    "    # Code of response request, as an integer\n",
    "    #r.status_code"
   ]
  },
  {
   "cell_type": "code",
   "execution_count": 36,
   "metadata": {},
   "outputs": [],
   "source": [
    "# Parameters of interest for NLP, defined in Reddit API Documentation\n",
    "reddit_params = ['subreddit','author', 'selftext', 'title', 'num_comments', 'created_utc']"
   ]
  },
  {
   "cell_type": "code",
   "execution_count": 21,
   "metadata": {},
   "outputs": [
    {
     "data": {
      "text/plain": [
       "(200, 59)"
      ]
     },
     "execution_count": 21,
     "metadata": {},
     "output_type": "execute_result"
    }
   ],
   "source": [
    "# Verify row-dimension of submission-data equals 100*max_reqs\n",
    "submission.shape"
   ]
  },
  {
   "cell_type": "code",
   "execution_count": 26,
   "metadata": {},
   "outputs": [
    {
     "name": "stdout",
     "output_type": "stream",
     "text": [
      "depression    200\n",
      "Name: subreddit, dtype: int64\n"
     ]
    }
   ],
   "source": [
    "# Check that all submission-data is from selected subreddit\n",
    "print(submission.subreddit.value_counts())"
   ]
  },
  {
   "cell_type": "code",
   "execution_count": 32,
   "metadata": {},
   "outputs": [
    {
     "name": "stdout",
     "output_type": "stream",
     "text": [
      "self.depression    200\n",
      "Name: domain, dtype: int64\n"
     ]
    }
   ],
   "source": [
    "# Check domain(s) of all submission-data\n",
    "print(submission.domain.value_counts()) # Some subreddits have domain beyond 'self'"
   ]
  },
  {
   "cell_type": "code",
   "execution_count": 34,
   "metadata": {},
   "outputs": [
    {
     "name": "stdout",
     "output_type": "stream",
     "text": [
      "<class 'pandas.core.frame.DataFrame'>\n",
      "RangeIndex: 200 entries, 0 to 199\n",
      "Data columns (total 5 columns):\n",
      " #   Column        Non-Null Count  Dtype \n",
      "---  ------        --------------  ----- \n",
      " 0   subreddit     200 non-null    object\n",
      " 1   author        200 non-null    object\n",
      " 2   selftext      200 non-null    object\n",
      " 3   title         200 non-null    object\n",
      " 4   num_comments  200 non-null    int64 \n",
      "dtypes: int64(1), object(4)\n",
      "memory usage: 7.9+ KB\n"
     ]
    }
   ],
   "source": [
    "# Check that all is copacetic\n",
    "submission[reddit_params].info()"
   ]
  },
  {
   "cell_type": "code",
   "execution_count": 37,
   "metadata": {},
   "outputs": [
    {
     "data": {
      "text/html": [
       "<div>\n",
       "<style scoped>\n",
       "    .dataframe tbody tr th:only-of-type {\n",
       "        vertical-align: middle;\n",
       "    }\n",
       "\n",
       "    .dataframe tbody tr th {\n",
       "        vertical-align: top;\n",
       "    }\n",
       "\n",
       "    .dataframe thead th {\n",
       "        text-align: right;\n",
       "    }\n",
       "</style>\n",
       "<table border=\"1\" class=\"dataframe\">\n",
       "  <thead>\n",
       "    <tr style=\"text-align: right;\">\n",
       "      <th></th>\n",
       "      <th>subreddit</th>\n",
       "      <th>author</th>\n",
       "      <th>selftext</th>\n",
       "      <th>title</th>\n",
       "      <th>num_comments</th>\n",
       "      <th>created_utc</th>\n",
       "    </tr>\n",
       "  </thead>\n",
       "  <tbody>\n",
       "    <tr>\n",
       "      <th>0</th>\n",
       "      <td>depression</td>\n",
       "      <td>Gang2020Yang</td>\n",
       "      <td>So many things have gone wrong recently and I ...</td>\n",
       "      <td>I just feel numb</td>\n",
       "      <td>0</td>\n",
       "      <td>1602967887</td>\n",
       "    </tr>\n",
       "    <tr>\n",
       "      <th>1</th>\n",
       "      <td>depression</td>\n",
       "      <td>SadiSuto1</td>\n",
       "      <td>Born 20 years ago as a broken condom and faile...</td>\n",
       "      <td>My life in a summary... I need to rant as it i...</td>\n",
       "      <td>0</td>\n",
       "      <td>1602967807</td>\n",
       "    </tr>\n",
       "    <tr>\n",
       "      <th>2</th>\n",
       "      <td>depression</td>\n",
       "      <td>NF4Life44</td>\n",
       "      <td>Not 1 good reason for me to live. I'll be ment...</td>\n",
       "      <td>Fuck I just wanna die</td>\n",
       "      <td>0</td>\n",
       "      <td>1602967790</td>\n",
       "    </tr>\n",
       "    <tr>\n",
       "      <th>3</th>\n",
       "      <td>depression</td>\n",
       "      <td>mememememememdmd</td>\n",
       "      <td>I feel tainted, like im now not only suicidal ...</td>\n",
       "      <td>Im going to kill myself bc of my sister that c...</td>\n",
       "      <td>0</td>\n",
       "      <td>1602967714</td>\n",
       "    </tr>\n",
       "    <tr>\n",
       "      <th>4</th>\n",
       "      <td>depression</td>\n",
       "      <td>jimmyneutron0212</td>\n",
       "      <td>My friends have been telling me I should see a...</td>\n",
       "      <td>Should I seek help?</td>\n",
       "      <td>0</td>\n",
       "      <td>1602967582</td>\n",
       "    </tr>\n",
       "    <tr>\n",
       "      <th>...</th>\n",
       "      <td>...</td>\n",
       "      <td>...</td>\n",
       "      <td>...</td>\n",
       "      <td>...</td>\n",
       "      <td>...</td>\n",
       "      <td>...</td>\n",
       "    </tr>\n",
       "    <tr>\n",
       "      <th>195</th>\n",
       "      <td>depression</td>\n",
       "      <td>risingpulsar</td>\n",
       "      <td>Really have been struggling with existing late...</td>\n",
       "      <td>Celexa and Wellbutrin</td>\n",
       "      <td>4</td>\n",
       "      <td>1602937260</td>\n",
       "    </tr>\n",
       "    <tr>\n",
       "      <th>196</th>\n",
       "      <td>depression</td>\n",
       "      <td>smolbean20</td>\n",
       "      <td>i'm on my third year of college, and it's like...</td>\n",
       "      <td>what am i supposed to do to calm myself down???</td>\n",
       "      <td>0</td>\n",
       "      <td>1602936964</td>\n",
       "    </tr>\n",
       "    <tr>\n",
       "      <th>197</th>\n",
       "      <td>depression</td>\n",
       "      <td>tiiamannix</td>\n",
       "      <td>I'm posting this because I want to be honest a...</td>\n",
       "      <td>After 3 suicide attempts in a year and pills t...</td>\n",
       "      <td>28</td>\n",
       "      <td>1602936637</td>\n",
       "    </tr>\n",
       "    <tr>\n",
       "      <th>198</th>\n",
       "      <td>depression</td>\n",
       "      <td>mrsruffin38</td>\n",
       "      <td>[removed]</td>\n",
       "      <td>Dealing With Depression</td>\n",
       "      <td>0</td>\n",
       "      <td>1602935853</td>\n",
       "    </tr>\n",
       "    <tr>\n",
       "      <th>199</th>\n",
       "      <td>depression</td>\n",
       "      <td>uniborthwick</td>\n",
       "      <td>I'm 21, diagnosed with bipolar disorder, obses...</td>\n",
       "      <td>I think I was born with pain built in.</td>\n",
       "      <td>0</td>\n",
       "      <td>1602935845</td>\n",
       "    </tr>\n",
       "  </tbody>\n",
       "</table>\n",
       "<p>200 rows × 6 columns</p>\n",
       "</div>"
      ],
      "text/plain": [
       "      subreddit            author  \\\n",
       "0    depression      Gang2020Yang   \n",
       "1    depression         SadiSuto1   \n",
       "2    depression         NF4Life44   \n",
       "3    depression  mememememememdmd   \n",
       "4    depression  jimmyneutron0212   \n",
       "..          ...               ...   \n",
       "195  depression      risingpulsar   \n",
       "196  depression        smolbean20   \n",
       "197  depression        tiiamannix   \n",
       "198  depression       mrsruffin38   \n",
       "199  depression      uniborthwick   \n",
       "\n",
       "                                              selftext  \\\n",
       "0    So many things have gone wrong recently and I ...   \n",
       "1    Born 20 years ago as a broken condom and faile...   \n",
       "2    Not 1 good reason for me to live. I'll be ment...   \n",
       "3    I feel tainted, like im now not only suicidal ...   \n",
       "4    My friends have been telling me I should see a...   \n",
       "..                                                 ...   \n",
       "195  Really have been struggling with existing late...   \n",
       "196  i'm on my third year of college, and it's like...   \n",
       "197  I'm posting this because I want to be honest a...   \n",
       "198                                          [removed]   \n",
       "199  I'm 21, diagnosed with bipolar disorder, obses...   \n",
       "\n",
       "                                                 title  num_comments  \\\n",
       "0                                     I just feel numb             0   \n",
       "1    My life in a summary... I need to rant as it i...             0   \n",
       "2                                Fuck I just wanna die             0   \n",
       "3    Im going to kill myself bc of my sister that c...             0   \n",
       "4                                  Should I seek help?             0   \n",
       "..                                                 ...           ...   \n",
       "195                              Celexa and Wellbutrin             4   \n",
       "196    what am i supposed to do to calm myself down???             0   \n",
       "197  After 3 suicide attempts in a year and pills t...            28   \n",
       "198                            Dealing With Depression             0   \n",
       "199             I think I was born with pain built in.             0   \n",
       "\n",
       "     created_utc  \n",
       "0     1602967887  \n",
       "1     1602967807  \n",
       "2     1602967790  \n",
       "3     1602967714  \n",
       "4     1602967582  \n",
       "..           ...  \n",
       "195   1602937260  \n",
       "196   1602936964  \n",
       "197   1602936637  \n",
       "198   1602935853  \n",
       "199   1602935845  \n",
       "\n",
       "[200 rows x 6 columns]"
      ]
     },
     "execution_count": 37,
     "metadata": {},
     "output_type": "execute_result"
    }
   ],
   "source": [
    "# Check that all is copacetic\n",
    "submission[reddit_params]"
   ]
  },
  {
   "cell_type": "code",
   "execution_count": 13,
   "metadata": {},
   "outputs": [],
   "source": [
    "# Save only columns with useful data for NLP classification modeling and analysis\n",
    "submission[reddit_params].to_csv('./data/rename.csv')"
   ]
  },
  {
   "cell_type": "code",
   "execution_count": null,
   "metadata": {},
   "outputs": [],
   "source": []
  }
 ],
 "metadata": {
  "kernelspec": {
   "display_name": "Python 3",
   "language": "python",
   "name": "python3"
  },
  "language_info": {
   "codemirror_mode": {
    "name": "ipython",
    "version": 3
   },
   "file_extension": ".py",
   "mimetype": "text/x-python",
   "name": "python",
   "nbconvert_exporter": "python",
   "pygments_lexer": "ipython3",
   "version": "3.8.3"
  }
 },
 "nbformat": 4,
 "nbformat_minor": 4
}
