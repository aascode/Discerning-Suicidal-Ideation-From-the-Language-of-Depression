{
 "cells": [
  {
   "cell_type": "code",
   "execution_count": 462,
   "metadata": {},
   "outputs": [],
   "source": [
    "# Imports\n",
    "import pandas as pd\n",
    "import requests"
   ]
  },
  {
   "cell_type": "code",
   "execution_count": 463,
   "metadata": {},
   "outputs": [],
   "source": [
    "# Read in the data csv's with only the 6-Reddit Params identified as useful for NLP\n",
    "suicide_OG = pd.read_csv('./data/suicide_watch_6.csv')\n",
    "depression_OG = pd.read_csv('./data/depression_6.csv')"
   ]
  },
  {
   "cell_type": "code",
   "execution_count": 464,
   "metadata": {},
   "outputs": [],
   "source": [
    "# Column names associated with 6 Reddit Parameters identified as useful for NLP\n",
    "reddit_params = ['subreddit','author','selftext', 'title', 'num_comments', 'created_utc']"
   ]
  },
  {
   "cell_type": "markdown",
   "metadata": {},
   "source": [
    "## EDA\n",
    "\n",
    "### A.) r/suicide_watch Data"
   ]
  },
  {
   "cell_type": "code",
   "execution_count": 465,
   "metadata": {},
   "outputs": [],
   "source": [
    "# Keep an unclean copy for future reference\n",
    "suicide_df = suicide_OG.copy()"
   ]
  },
  {
   "cell_type": "code",
   "execution_count": 466,
   "metadata": {},
   "outputs": [
    {
     "data": {
      "text/plain": [
       "SuicideWatch    100100\n",
       "Name: subreddit, dtype: int64"
      ]
     },
     "execution_count": 466,
     "metadata": {},
     "output_type": "execute_result"
    }
   ],
   "source": [
    "# Every single entry has a properly labeled tag for the subreddit: 'SuicideWatch'\n",
    "suicide_df.subreddit.value_counts()"
   ]
  },
  {
   "cell_type": "code",
   "execution_count": 467,
   "metadata": {},
   "outputs": [],
   "source": [
    "# Reassign for simplicity\n",
    "suicide_df['subreddit'] = 1"
   ]
  },
  {
   "cell_type": "code",
   "execution_count": 468,
   "metadata": {},
   "outputs": [
    {
     "data": {
      "text/plain": [
       "subreddit        int64\n",
       "author          object\n",
       "selftext        object\n",
       "title           object\n",
       "num_comments     int64\n",
       "created_utc      int64\n",
       "dtype: object"
      ]
     },
     "execution_count": 468,
     "metadata": {},
     "output_type": "execute_result"
    }
   ],
   "source": [
    "# Check for proper data types, all looks correct\n",
    "suicide_df.dtypes"
   ]
  },
  {
   "cell_type": "code",
   "execution_count": 469,
   "metadata": {},
   "outputs": [
    {
     "data": {
      "text/plain": [
       "subreddit          0\n",
       "author             0\n",
       "selftext        6249\n",
       "title              2\n",
       "num_comments       0\n",
       "created_utc        0\n",
       "dtype: int64"
      ]
     },
     "execution_count": 469,
     "metadata": {},
     "output_type": "execute_result"
    }
   ],
   "source": [
    "# Notice 2-titles are null and 6,249-'selftext' entries are null\n",
    "suicide_df.isnull().sum()"
   ]
  },
  {
   "cell_type": "code",
   "execution_count": 470,
   "metadata": {},
   "outputs": [
    {
     "data": {
      "text/plain": [
       "63974    Nobody really cares unless you have a reason o...\n",
       "75035    I’ve been feeling pretty empty these past few ...\n",
       "Name: selftext, dtype: object"
      ]
     },
     "execution_count": 470,
     "metadata": {},
     "output_type": "execute_result"
    }
   ],
   "source": [
    "# After a closer look at null 'title' entries, the 'selftext' data are worth keeping\n",
    "suicide_df[suicide_df['title'].isnull()==True].selftext"
   ]
  },
  {
   "cell_type": "code",
   "execution_count": 471,
   "metadata": {},
   "outputs": [
    {
     "data": {
      "text/plain": [
       "83446"
      ]
     },
     "execution_count": 471,
     "metadata": {},
     "output_type": "execute_result"
    }
   ],
   "source": [
    "# 6,093 [removed] 'selftext' entries\n",
    "# 2,628 [deleted] 'selftext' entries\n",
    "\n",
    "# 83,446 + 619 = 84,065 unique 'selftext' entries\n",
    "suicide_df.selftext.value_counts()[618:].sum()"
   ]
  },
  {
   "cell_type": "code",
   "execution_count": 472,
   "metadata": {},
   "outputs": [
    {
     "data": {
      "text/plain": [
       ".                        310\n",
       "Help                     272\n",
       "I want to die            194\n",
       "I need help              153\n",
       "Goodbye                  105\n",
       "I'm done                  98\n",
       "I’m done                  91\n",
       "help                      88\n",
       "Please help me            70\n",
       "I want to kill myself     66\n",
       "Name: title, dtype: int64"
      ]
     },
     "execution_count": 472,
     "metadata": {},
     "output_type": "execute_result"
    }
   ],
   "source": [
    "# There are 86,389 unique titles \n",
    "# Consider how to ID duplicates to drop\n",
    "suicide_df.title.value_counts()[:10]"
   ]
  },
  {
   "cell_type": "code",
   "execution_count": 473,
   "metadata": {},
   "outputs": [
    {
     "data": {
      "text/plain": [
       "[deleted]             3077\n",
       "NightAir_              133\n",
       "cornrain               121\n",
       "darkpols368            102\n",
       "Throwawayiguess457     102\n",
       "                      ... \n",
       "RastGG                   1\n",
       "Emilister05              1\n",
       "shindjkkb                1\n",
       "justadumbhoe             1\n",
       "exhoesbrokemyheart       1\n",
       "Name: author, Length: 54682, dtype: int64"
      ]
     },
     "execution_count": 473,
     "metadata": {},
     "output_type": "execute_result"
    }
   ],
   "source": [
    "# There are 54,682 unique authors contributing\n",
    "# There are 3,077 author names [deleted]\n",
    "suicide_df.author.value_counts()"
   ]
  },
  {
   "cell_type": "code",
   "execution_count": 474,
   "metadata": {},
   "outputs": [
    {
     "data": {
      "text/plain": [
       "0    24.89\n",
       "1    20.68\n",
       "2    14.40\n",
       "3     9.18\n",
       "4     6.57\n",
       "Name: num_comments, dtype: float64"
      ]
     },
     "execution_count": 474,
     "metadata": {},
     "output_type": "execute_result"
    }
   ],
   "source": [
    "# 24.89% have zero comments\n",
    "# ~60% have 2 comments or less\n",
    "round(suicide_df.num_comments.value_counts(normalize=True)[:5]*100,2)"
   ]
  },
  {
   "cell_type": "markdown",
   "metadata": {},
   "source": [
    "***SUMMARY OF EDA FINDINGS***\n",
    "\n",
    "1. selftext\n",
    "    * 6,249 NaN\n",
    "    * 6,093 '[removed]'\n",
    "    * 2,628 '[deleted]'\n",
    "    * 619 w/ at least 1 duplicate\n",
    "2. title\n",
    "    * 2 NaN\n",
    "    * 86,389 unique\n",
    "3. author\n",
    "    * 3,077 '[deleted]'\n",
    "    * 54,682 unique"
   ]
  },
  {
   "cell_type": "markdown",
   "metadata": {},
   "source": [
    "## Cleaning Data\n",
    "\n",
    "### A.) r/suicide_watch"
   ]
  },
  {
   "cell_type": "code",
   "execution_count": 475,
   "metadata": {},
   "outputs": [
    {
     "data": {
      "text/plain": [
       "subreddit       0\n",
       "author          0\n",
       "selftext        0\n",
       "title           0\n",
       "num_comments    0\n",
       "created_utc     0\n",
       "dtype: int64"
      ]
     },
     "execution_count": 475,
     "metadata": {},
     "output_type": "execute_result"
    }
   ],
   "source": [
    "# Drop all 6,249 submissions with null 'selftext'\n",
    "suicide_df.dropna(inplace=True)\n",
    "suicide_df.isnull().sum()"
   ]
  },
  {
   "cell_type": "code",
   "execution_count": 476,
   "metadata": {},
   "outputs": [],
   "source": [
    "# ID indexes where selftext entries equal to either [deleted] or [removed]\n",
    "drop_rows = suicide_df[(suicide_df.selftext == '[deleted]') | \n",
    "                              (suicide_df.selftext == '[removed]')\n",
    "                             ].index.tolist()\n",
    "\n",
    "# Drop all 6,093-'[removed]' & 2,628-'[deleted]' selftext data\n",
    "suicide_df.drop(drop_rows,inplace=True)"
   ]
  },
  {
   "cell_type": "code",
   "execution_count": 477,
   "metadata": {},
   "outputs": [],
   "source": [
    "# Comments are not included in this analysis so,\n",
    "# posts where selftext AND title are duplicates should be dropped\n",
    "suicide_df.drop_duplicates(subset=['title','selftext'], \n",
    "                           keep='last', \n",
    "                           inplace=True, \n",
    "                           ignore_index=True)"
   ]
  },
  {
   "cell_type": "code",
   "execution_count": 478,
   "metadata": {},
   "outputs": [],
   "source": [
    "# The indices have no meaning so lets clean it up\n",
    "suicide_df.reset_index(drop=True, inplace=True)"
   ]
  },
  {
   "cell_type": "code",
   "execution_count": 479,
   "metadata": {},
   "outputs": [],
   "source": [
    "# Notice only 4 selftext/title duplicates were removed in cleaning\n",
    "suicide_df.selftext.value_counts()[615:];"
   ]
  },
  {
   "cell_type": "code",
   "execution_count": 480,
   "metadata": {},
   "outputs": [
    {
     "data": {
      "text/plain": [
       ".                                                                                                                                                                                                                                      26\n",
       "Please                                                                                                                                                                                                                                 18\n",
       "Title                                                                                                                                                                                                                                  17\n",
       "please                                                                                                                                                                                                                                 12\n",
       "...                                                                                                                                                                                                                                    10\n",
       "That’s all                                                                                                                                                                                                                              9\n",
       "I’m a fucking weirdo I’m a creep I just hate myself I mean I just think I deserve a bullet in my head because I really am a creep I think tonight should be my last night I’m just sorry to everyone I’ve ever disappointed or hurt     8\n",
       "Title says it all.                                                                                                                                                                                                                      8\n",
       ":(                                                                                                                                                                                                                                      8\n",
       "Fuck                                                                                                                                                                                                                                    7\n",
       "Name: selftext, dtype: int64"
      ]
     },
     "execution_count": 480,
     "metadata": {},
     "output_type": "execute_result"
    }
   ],
   "source": [
    "# Notice that we still have 73,325 unique title entries after cleaning\n",
    "suicide_df.selftext.value_counts()[:10]"
   ]
  },
  {
   "cell_type": "code",
   "execution_count": 481,
   "metadata": {},
   "outputs": [
    {
     "data": {
      "text/plain": [
       "71"
      ]
     },
     "execution_count": 481,
     "metadata": {},
     "output_type": "execute_result"
    }
   ],
   "source": [
    "# NOTE: I did not directly drop [deleted] authors, but now there are over 3,000 fewer\n",
    "len(suicide_df[suicide_df['author']=='[deleted]'])"
   ]
  },
  {
   "cell_type": "code",
   "execution_count": 482,
   "metadata": {},
   "outputs": [
    {
     "data": {
      "text/plain": [
       "1    21.72\n",
       "0    20.64\n",
       "2    15.07\n",
       "3     9.80\n",
       "4     6.98\n",
       "Name: num_comments, dtype: float64"
      ]
     },
     "execution_count": 482,
     "metadata": {},
     "output_type": "execute_result"
    }
   ],
   "source": [
    "# 20.64% have zero comments\n",
    "# 57.43% have 2 comments or less\n",
    "round(suicide_df.num_comments.value_counts(normalize=True)[:5]*100,2)"
   ]
  },
  {
   "cell_type": "markdown",
   "metadata": {},
   "source": [
    "## EDA\n",
    "\n",
    "### B.) r/depression Data"
   ]
  },
  {
   "cell_type": "code",
   "execution_count": 483,
   "metadata": {},
   "outputs": [],
   "source": [
    "# Keep an unclean copy for future reference\n",
    "depression_df = depression_OG.copy()"
   ]
  },
  {
   "cell_type": "code",
   "execution_count": 484,
   "metadata": {},
   "outputs": [
    {
     "data": {
      "text/plain": [
       "depression    100100\n",
       "Name: subreddit, dtype: int64"
      ]
     },
     "execution_count": 484,
     "metadata": {},
     "output_type": "execute_result"
    }
   ],
   "source": [
    "# Every single entry has a properly labeled tag for the subreddit: 'depression'\n",
    "depression_df.subreddit.value_counts()"
   ]
  },
  {
   "cell_type": "code",
   "execution_count": 485,
   "metadata": {},
   "outputs": [],
   "source": [
    "# Reassign for simplicity\n",
    "depression_df['subreddit'] = 0"
   ]
  },
  {
   "cell_type": "code",
   "execution_count": 486,
   "metadata": {},
   "outputs": [
    {
     "data": {
      "text/plain": [
       "subreddit        int64\n",
       "author          object\n",
       "selftext        object\n",
       "title           object\n",
       "num_comments     int64\n",
       "created_utc      int64\n",
       "dtype: object"
      ]
     },
     "execution_count": 486,
     "metadata": {},
     "output_type": "execute_result"
    }
   ],
   "source": [
    "# Check for proper data types, all looks correct\n",
    "depression_df.dtypes"
   ]
  },
  {
   "cell_type": "code",
   "execution_count": 487,
   "metadata": {},
   "outputs": [
    {
     "data": {
      "text/plain": [
       "subreddit          0\n",
       "author             0\n",
       "selftext        1309\n",
       "title              0\n",
       "num_comments       0\n",
       "created_utc        0\n",
       "dtype: int64"
      ]
     },
     "execution_count": 487,
     "metadata": {},
     "output_type": "execute_result"
    }
   ],
   "source": [
    "# Notice 1,309 entries in 'selftext' are null\n",
    "depression_df.isnull().sum()"
   ]
  },
  {
   "cell_type": "code",
   "execution_count": 488,
   "metadata": {},
   "outputs": [
    {
     "data": {
      "text/plain": [
       "81542"
      ]
     },
     "execution_count": 488,
     "metadata": {},
     "output_type": "execute_result"
    }
   ],
   "source": [
    "# 14,189 [removed] selftext\n",
    "# 2,163 [deleted] selftext\n",
    "\n",
    "# 81,542 + 410 = 81,951 unique 'selftext' entries\n",
    "depression_df.selftext.value_counts()[409:].sum()"
   ]
  },
  {
   "cell_type": "code",
   "execution_count": 489,
   "metadata": {},
   "outputs": [
    {
     "data": {
      "text/plain": [
       "Help                                                                      160\n",
       "I need help                                                               109\n",
       ".                                                                         106\n",
       "AIs from AI Dungeon 2 to sexy to funny and one based wholly on Reddit!     91\n",
       "I hate myself                                                              80\n",
       "I want to die                                                              77\n",
       "...                                                                        69\n",
       "I don't know what to do                                                    63\n",
       "Am I depressed?                                                            61\n",
       "Depression                                                                 61\n",
       "Name: title, dtype: int64"
      ]
     },
     "execution_count": 489,
     "metadata": {},
     "output_type": "execute_result"
    }
   ],
   "source": [
    "# There are 89,999 unique titles \n",
    "# Consider how to ID duplicates to drop\n",
    "depression_df.title.value_counts()[:10]"
   ]
  },
  {
   "cell_type": "code",
   "execution_count": 490,
   "metadata": {},
   "outputs": [
    {
     "data": {
      "text/plain": [
       "[deleted]         3004\n",
       "HypeToHype         122\n",
       "h3xadecimal2        91\n",
       "lifeishard99        78\n",
       "_ChilledVibez       77\n",
       "                  ... \n",
       "rosesandlillys       1\n",
       "thebigsadlol         1\n",
       "Meeboi009            1\n",
       "cheap_dates          1\n",
       "jacob_juno_69        1\n",
       "Name: author, Length: 59130, dtype: int64"
      ]
     },
     "execution_count": 490,
     "metadata": {},
     "output_type": "execute_result"
    }
   ],
   "source": [
    "# There are 59,130 unique authors contributing\n",
    "# There are 3,004 author names [deleted]\n",
    "depression_df.author.value_counts()"
   ]
  },
  {
   "cell_type": "code",
   "execution_count": 491,
   "metadata": {},
   "outputs": [
    {
     "data": {
      "text/plain": [
       "0    43.52\n",
       "1    16.68\n",
       "2    11.91\n",
       "3     7.11\n",
       "4     5.12\n",
       "Name: num_comments, dtype: float64"
      ]
     },
     "execution_count": 491,
     "metadata": {},
     "output_type": "execute_result"
    }
   ],
   "source": [
    "# 43.52% have zero comments\n",
    "# ~72% have 2 comments or less\n",
    "round(depression_df.num_comments.value_counts(normalize=True)[:5]*100,2)"
   ]
  },
  {
   "cell_type": "markdown",
   "metadata": {},
   "source": [
    "## Cleaning Data\n",
    "\n",
    "### B.) r/depression"
   ]
  },
  {
   "cell_type": "code",
   "execution_count": 492,
   "metadata": {},
   "outputs": [
    {
     "data": {
      "text/plain": [
       "subreddit       0\n",
       "author          0\n",
       "selftext        0\n",
       "title           0\n",
       "num_comments    0\n",
       "created_utc     0\n",
       "dtype: int64"
      ]
     },
     "execution_count": 492,
     "metadata": {},
     "output_type": "execute_result"
    }
   ],
   "source": [
    "# Drop all 1,309 submissions with null 'selftext'\n",
    "depression_df.dropna(inplace=True)\n",
    "depression_df.isnull().sum()"
   ]
  },
  {
   "cell_type": "code",
   "execution_count": 493,
   "metadata": {},
   "outputs": [],
   "source": [
    "# ID indexes where selftext entries equal to either [deleted] or [removed]\n",
    "drop_rows = depression_df[(depression_df.selftext == '[deleted]') | \n",
    "                              (depression_df.selftext == '[removed]')\n",
    "                             ].index.tolist()\n",
    "\n",
    "# Drop all 14,189-'[removed]' & 2,163-'[deleted]' selftext data\n",
    "depression_df.drop(drop_rows,inplace=True)"
   ]
  },
  {
   "cell_type": "code",
   "execution_count": 494,
   "metadata": {},
   "outputs": [],
   "source": [
    "# Comments are not included in this analysis so,\n",
    "# posts with duplicate selftext AND title submissions should be dropped\n",
    "depression_df.drop_duplicates(subset=['title','selftext'], \n",
    "                           keep='last', \n",
    "                           inplace=True, \n",
    "                           ignore_index=True)"
   ]
  },
  {
   "cell_type": "code",
   "execution_count": 495,
   "metadata": {},
   "outputs": [],
   "source": [
    "# The indices have no meaning so lets clean it up\n",
    "depression_df.reset_index(drop=True, inplace=True)"
   ]
  },
  {
   "cell_type": "code",
   "execution_count": 496,
   "metadata": {},
   "outputs": [],
   "source": [
    "# Notice 194 selftext/title duplicates were removed in cleaning\n",
    "# We still have 81,949 unique selftext entries\n",
    "depression_df.selftext.value_counts()[215:];"
   ]
  },
  {
   "cell_type": "code",
   "execution_count": 497,
   "metadata": {},
   "outputs": [
    {
     "data": {
      "text/plain": [
       "Help                                                                                 145\n",
       "I need help                                                                           98\n",
       ".                                                                                     93\n",
       "I hate myself                                                                         68\n",
       "...                                                                                   67\n",
       "                                                                                    ... \n",
       "I Can't Even... Why Me!?! Fucking Hell Why Me!!!                                       1\n",
       "I have trouble making close, meaningful connections with others                        1\n",
       "Forgiving                                                                              1\n",
       "\"I'm worried about you\" How do I respond?                                              1\n",
       "Why is guilt-tripping such a common method for ppl to try to make you stay alive.      1\n",
       "Name: title, Length: 74111, dtype: int64"
      ]
     },
     "execution_count": 497,
     "metadata": {},
     "output_type": "execute_result"
    }
   ],
   "source": [
    "# 74,111 unique title submissions remain after cleaning\n",
    "depression_df.title.value_counts()"
   ]
  },
  {
   "cell_type": "code",
   "execution_count": 498,
   "metadata": {},
   "outputs": [
    {
     "data": {
      "text/plain": [
       "26"
      ]
     },
     "execution_count": 498,
     "metadata": {},
     "output_type": "execute_result"
    }
   ],
   "source": [
    "# NOTE: I did not directly drop [deleted] authors, but now there are nearly 3,000 fewer\n",
    "len(depression_df[depression_df['author']=='[deleted]'])"
   ]
  },
  {
   "cell_type": "code",
   "execution_count": 499,
   "metadata": {},
   "outputs": [
    {
     "data": {
      "text/plain": [
       "HypeToHype              117\n",
       "lifeishard99             64\n",
       "SniperNoSwiper           61\n",
       "TehDarkLorde             59\n",
       "Random_Doggo_            58\n",
       "                       ... \n",
       "sponsoredbyrazer          1\n",
       "maru_chou                 1\n",
       "Explanation-Upstairs      1\n",
       "Someselfhelpcrap          1\n",
       "jacob_juno_69             1\n",
       "Name: author, Length: 52522, dtype: int64"
      ]
     },
     "execution_count": 499,
     "metadata": {},
     "output_type": "execute_result"
    }
   ],
   "source": [
    "depression_df.author.value_counts()"
   ]
  },
  {
   "cell_type": "code",
   "execution_count": 500,
   "metadata": {},
   "outputs": [
    {
     "data": {
      "text/plain": [
       "0    35.50\n",
       "1    18.61\n",
       "2    13.50\n",
       "3     8.21\n",
       "4     5.92\n",
       "Name: num_comments, dtype: float64"
      ]
     },
     "execution_count": 500,
     "metadata": {},
     "output_type": "execute_result"
    }
   ],
   "source": [
    "# 35.5% have zero comments\n",
    "# 67.61% have 2 comments or less\n",
    "round(depression_df.num_comments.value_counts(normalize=True)[:5]*100,2)"
   ]
  },
  {
   "cell_type": "markdown",
   "metadata": {},
   "source": [
    "***OVERVIEW OF EDA AND CLEANING***\n",
    "\n",
    "1. suicide_watch: selftext\n",
    "    * 6,249 NaN         --> 0 (after cleaning)\n",
    "    * 6,093 '[removed]' --> 0 (after cleaning)\n",
    "    * 2,628 '[deleted]' --> 0 (after cleaning)\n",
    "    * 619 with more than 1 duplicate --> 615 (after cleaning)\n",
    "    * 84,064 --> 84, 060 (after cleaning)\n",
    "2. suicide_watch: title\n",
    "    * 2 NaN --> 0 (after cleaning)\n",
    "    * 86,389 unique --> 73,325 (after cleaning)\n",
    "3. suicide_watch: author\n",
    "    * 3,077 '[deleted]' --> 71(after cleaning)\n",
    "    * 54,682 unique --> 50,469(after cleaning)\n",
    "4. suicide_watch: comments\n",
    "    * ~25% have 0 comments --> ~21%(after cleaning)\n",
    "    * ~60% have 2 comments or less --> ~57% (after cleaning)\n",
    "---\n",
    "\n",
    "1. depression: selftext\n",
    "    * 1,309 NaN          --> 0 (after cleaning)\n",
    "    * 14,189 '[removed]' --> 0 (after cleaning)\n",
    "    * 2,163 '[deleted]'  --> 0 (after cleaning)\n",
    "    * 410 w/ at least 1 duplicate --> 216 (after cleaning)\n",
    "    * 81,951 unique submissions --> 81,949 (after cleaning)\n",
    "2. depression: title\n",
    "    * 2 NaN   --> 0 (after cleaning)\n",
    "    * 89,999 unique --> 74,111 (after cleaning)\n",
    "3. depression: author\n",
    "    * 3,004 '[deleted]' --> 26(after cleaning)\n",
    "    * 59,130 unique     --> 52,522(after cleaning)\n",
    "4. depression: comments\n",
    "    * ~43.5% have 0 comments --> ~35.5%(after cleaning)\n",
    "    * ~72% have 2 comments or less --> ~67% (after cleaning)"
   ]
  },
  {
   "cell_type": "code",
   "execution_count": 502,
   "metadata": {},
   "outputs": [],
   "source": [
    "# Save only columns with useful data for NLP classification modeling and analysis\n",
    "suicide_df.to_csv('./data/suicide_clean.csv',index=False)\n",
    "depression_df.to_csv('./data/depression_clean.csv',index=False)"
   ]
  },
  {
   "cell_type": "code",
   "execution_count": null,
   "metadata": {},
   "outputs": [],
   "source": []
  }
 ],
 "metadata": {
  "kernelspec": {
   "display_name": "Python 3",
   "language": "python",
   "name": "python3"
  },
  "language_info": {
   "codemirror_mode": {
    "name": "ipython",
    "version": 3
   },
   "file_extension": ".py",
   "mimetype": "text/x-python",
   "name": "python",
   "nbconvert_exporter": "python",
   "pygments_lexer": "ipython3",
   "version": "3.8.3"
  }
 },
 "nbformat": 4,
 "nbformat_minor": 4
}
