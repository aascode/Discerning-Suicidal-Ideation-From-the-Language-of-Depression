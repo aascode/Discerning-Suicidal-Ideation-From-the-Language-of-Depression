{
 "cells": [
  {
   "cell_type": "code",
   "execution_count": 61,
   "metadata": {},
   "outputs": [],
   "source": [
    "# Imports\n",
    "import numpy as np\n",
    "import pandas as pd\n",
    "import matplotlib.pyplot as plt\n",
    "import seaborn as sns\n",
    "\n",
    "from sklearn.model_selection import train_test_split, cross_val_score, GridSearchCV\n",
    "from sklearn.preprocessing import StandardScaler\n",
    "from sklearn.pipeline import Pipeline\n",
    "\n",
    "from sklearn.metrics import confusion_matrix, plot_confusion_matrix\n",
    "\n",
    "# Import CountVectorizer and TFIDFVectorizer from feature_extraction.text\n",
    "from sklearn.feature_extraction.text import CountVectorizer\n",
    "\n",
    "# Import Classifiers\n",
    "from sklearn.linear_model import LogisticRegression\n",
    "from sklearn.naive_bayes import MultinomialNB\n",
    "from sklearn.ensemble import RandomForestClassifier\n",
    "from sklearn.svm import SVC"
   ]
  },
  {
   "cell_type": "code",
   "execution_count": 35,
   "metadata": {},
   "outputs": [],
   "source": [
    "# Set-up DataFrame for NLP\n",
    "subreddits = pd.read_csv('../data/subreddits_clean.csv')"
   ]
  },
  {
   "cell_type": "markdown",
   "metadata": {},
   "source": [
    "#### Run ONLY when all bugs are fixed"
   ]
  },
  {
   "cell_type": "code",
   "execution_count": 100,
   "metadata": {},
   "outputs": [],
   "source": [
    "#Set-up X- and y-variables\n",
    "# NOTE: cvec needs a vector(Series), not a matrix(DataFrame)\n",
    "X = subreddits['submission_text']\n",
    "y = subreddits['subreddit']"
   ]
  },
  {
   "cell_type": "code",
   "execution_count": 73,
   "metadata": {},
   "outputs": [
    {
     "name": "stdout",
     "output_type": "stream",
     "text": [
      "Fitting 5 folds for each of 18 candidates, totalling 90 fits\n"
     ]
    },
    {
     "name": "stderr",
     "output_type": "stream",
     "text": [
      "[Parallel(n_jobs=-2)]: Using backend LokyBackend with 11 concurrent workers.\n",
      "[Parallel(n_jobs=-2)]: Done  19 tasks      | elapsed:   25.8s\n",
      "[Parallel(n_jobs=-2)]: Done  90 out of  90 | elapsed:  2.3min finished\n"
     ]
    }
   ],
   "source": [
    "# Pipeline Set-Up: \n",
    "forest_pipe = Pipeline([('cvec', CountVectorizer(stop_words = 'english')), # Stage 1. Count Vectorizer (Transformer)\n",
    "                        ('rf',   RandomForestClassifier(random_state=86))  # Stage 2. Random Forest (Estimator)\n",
    "                       ])\n",
    "\n",
    "# Hyperparameter Search:\n",
    "forest_pipe_params = {'rf__n_estimators':[75, 100, 125], 'rf__max_depth': (4, 5, 6),\n",
    "                     'cvec__ngram_range': [(1,2), (2,3)]} # Check (individual tokens) and also check (individual tokens and 2-grams)\n",
    "\n",
    "# Instantiate GridSearchCV object\n",
    "forest_gs = GridSearchCV(forest_pipe, # estimator in pipeline object\n",
    "                  forest_pipe_params,\n",
    "                  cv = 5, # Five-fold cross validation\n",
    "                  n_jobs = -2, # \n",
    "                  verbose = 2 #\n",
    "                 )\n",
    "\n",
    "# Fit the GridSearchCV object to the data.\n",
    "forest_gs.fit(X_train, y_train);"
   ]
  },
  {
   "cell_type": "code",
   "execution_count": 75,
   "metadata": {},
   "outputs": [
    {
     "name": "stdout",
     "output_type": "stream",
     "text": [
      "Training Score:   0.687\n",
      "Validation Score: 0.6388\n"
     ]
    }
   ],
   "source": [
    "# Save validation score\n",
    "forest_train_score = forest_gs.score(X_train, y_train)\n",
    "\n",
    "# Save validation score\n",
    "forest_validation_score = forest_gs.score(X_test, y_test)\n",
    "\n",
    "# Display scores for quick and easy comparison\n",
    "print('Training Score:   {}\\nValidation Score: {}'.format(forest_train_score, forest_validation_score))"
   ]
  },
  {
   "cell_type": "markdown",
   "metadata": {},
   "source": [
    "## RUN FIRST!"
   ]
  },
  {
   "cell_type": "code",
   "execution_count": 77,
   "metadata": {},
   "outputs": [],
   "source": [
    "# To streamline process of stop word identification a random subset of the data, more manageable in size, is introduced here\n",
    "a = list(np.sort(np.random.choice(list(subreddits.index), size=20000)))\n",
    "subreddits_a = subreddits.loc[a,['submission_text','subreddit']]\n",
    "\n",
    "X = subreddits_a['submission_text']\n",
    "y = subreddits_a['subreddit']"
   ]
  },
  {
   "cell_type": "code",
   "execution_count": 78,
   "metadata": {},
   "outputs": [],
   "source": [
    "# Redefine training and testing sets.\n",
    "X_train, X_test, y_train, y_test = train_test_split(X,\n",
    "                                                    y,\n",
    "                                                    stratify=y, # ALthough data is very well split b/w y-categories, ensure test/train evenly split\n",
    "                                                    random_state=86)"
   ]
  },
  {
   "cell_type": "code",
   "execution_count": 79,
   "metadata": {},
   "outputs": [
    {
     "name": "stdout",
     "output_type": "stream",
     "text": [
      "Fitting 5 folds for each of 1 candidates, totalling 5 fits\n"
     ]
    },
    {
     "name": "stderr",
     "output_type": "stream",
     "text": [
      "[Parallel(n_jobs=-1)]: Using backend LokyBackend with 12 concurrent workers.\n",
      "[Parallel(n_jobs=-1)]: Done   3 out of   5 | elapsed:    5.1s remaining:    3.3s\n",
      "[Parallel(n_jobs=-1)]: Done   5 out of   5 | elapsed:    5.1s finished\n"
     ]
    },
    {
     "name": "stdout",
     "output_type": "stream",
     "text": [
      "Multinomial NB\n",
      "\tTraining Score:   0.7254666666666667\n",
      "\tValidation Score: 0.706\n",
      "Fitting 5 folds for each of 5 candidates, totalling 25 fits\n"
     ]
    },
    {
     "name": "stderr",
     "output_type": "stream",
     "text": [
      "[Parallel(n_jobs=-1)]: Using backend LokyBackend with 12 concurrent workers.\n",
      "[Parallel(n_jobs=-1)]: Done  15 out of  25 | elapsed:   14.7s remaining:    9.8s\n",
      "[Parallel(n_jobs=-1)]: Done  25 out of  25 | elapsed:   18.6s finished\n"
     ]
    },
    {
     "name": "stdout",
     "output_type": "stream",
     "text": [
      "LogReg\n",
      "\tTraining Score:   0.7467333333333334\n",
      "\tValidation Score: 0.7206\n",
      "Fitting 5 folds for each of 5 candidates, totalling 25 fits\n"
     ]
    },
    {
     "name": "stderr",
     "output_type": "stream",
     "text": [
      "[Parallel(n_jobs=-1)]: Using backend LokyBackend with 12 concurrent workers.\n",
      "[Parallel(n_jobs=-1)]: Done  15 out of  25 | elapsed:  3.7min remaining:  2.5min\n",
      "[Parallel(n_jobs=-1)]: Done  25 out of  25 | elapsed:  5.5min finished\n"
     ]
    },
    {
     "name": "stdout",
     "output_type": "stream",
     "text": [
      "SVM\n",
      "\tTraining Score:   0.8794666666666666\n",
      "\tValidation Score: 0.7082\n"
     ]
    }
   ],
   "source": [
    "# Consider four classifiers to model the subreddit submission text\n",
    "model_names = [\n",
    "               'Multinomial NB',\n",
    "               'LogReg',\n",
    "               'SVM'\n",
    "              ]\n",
    "\n",
    "# Prepare SciKestimators for instantiation\n",
    "model_classifiers = [\n",
    "                     MultinomialNB(),\n",
    "                     LogisticRegression(max_iter=200,random_state=86),\n",
    "                     SVC(random_state=86)\n",
    "                    ]\n",
    "\n",
    "\n",
    "# Choosing only limited No. of hyperparameters to GridSearch over to identify top estimator\n",
    "# NOTICE: All estimators chosen with 1,2 n-grams\n",
    "model_params = [ \n",
    "                {'est__alpha': [0.01]}, # Multinomial Naive Bayes params: smoothing parameter 0 < alpha < one, 0.01 was best\n",
    "                # Logistic Regression params: lambda is 1/C\n",
    "                {'est__C': (np.logspace(-5, 1, 5))},\n",
    "                # Support Vector Machine Params: Lambda is 1/C\n",
    "                 {'est__C': (np.logspace(-5, 1, 5))}\n",
    "                ]\n",
    "\n",
    "# This clever way of looping though a pipline to GridSearch estimators taken from @montxe on StackOverflow, so cool!\n",
    "# https://stackoverflow.com/questions/38555650/try-multiple-estimator-in-one-grid-search\n",
    "for name, estimator, params in zip(model_names, model_classifiers, model_params):\n",
    "    # Instantiate the pipline: Stage 1: instantiate transformer Stage 2. instantiate all 4 classification estimators\n",
    "    est_pipe = Pipeline([('cvec', CountVectorizer(max_features = 1000, stop_words='english', ngram_range=(1,2))),\n",
    "                         #('ss', StandardScaler(with_mean=False)),\n",
    "                         ('est', estimator)\n",
    "                        ])\n",
    "\n",
    "    # Instantiate GridsearchCV Object\n",
    "    gs_est = GridSearchCV(est_pipe, param_grid=params, n_jobs=-1, verbose=2)\n",
    "    \n",
    "    # Fit GridSearchCV Object to training data\n",
    "    est = gs_est.fit(X_train, y_train)\n",
    "    \n",
    "    # Save validation score\n",
    "    train_score = est.score(X_train, y_train)\n",
    "    \n",
    "    # Save validation score\n",
    "    validation_score = est.score(X_test, y_test)\n",
    "    \n",
    "    # Display scores for quick and easy comparison\n",
    "    print('{}\\n\\tTraining Score:   {}\\n\\tValidation Score: {}'.format(name, train_score, validation_score))"
   ]
  },
  {
   "cell_type": "code",
   "execution_count": 108,
   "metadata": {},
   "outputs": [
    {
     "name": "stdout",
     "output_type": "stream",
     "text": [
      "Fitting 5 folds for each of 5 candidates, totalling 25 fits\n"
     ]
    },
    {
     "name": "stderr",
     "output_type": "stream",
     "text": [
      "[Parallel(n_jobs=-2)]: Using backend LokyBackend with 11 concurrent workers.\n",
      "[Parallel(n_jobs=-2)]: Done  17 out of  25 | elapsed:   16.5s remaining:    7.7s\n",
      "[Parallel(n_jobs=-2)]: Done  25 out of  25 | elapsed:   19.7s finished\n"
     ]
    }
   ],
   "source": [
    "# Pipeline Set-Up: \n",
    "logreg_pipe = Pipeline([('cvec', CountVectorizer(max_features=8000, ngram_range=(1,2),stop_words = 'english')), # Stage 1. Count Vectorizer (Transformer)\n",
    "                        ('logreg',   LogisticRegression(C=10, n_jobs=-2, random_state=86))  # Stage 2. Logistic Regression (Estimator)\n",
    "                       ])\n",
    "\n",
    "# Hyperparameter Search:\n",
    "logreg_pipe_params = {'logreg__C': (np.logspace(-5, 1, 5))}\n",
    "\n",
    "# Instantiate GridSearchCV object\n",
    "logreg_gs = GridSearchCV(logreg_pipe, # estimator in pipeline object\n",
    "                  logreg_pipe_params,\n",
    "                  cv = 5, # Five-fold cross validation\n",
    "                  n_jobs = -2, # \n",
    "                  verbose = 2 #\n",
    "                 )\n",
    "\n",
    "# Fit the GridSearchCV object to the data.\n",
    "logreg_gs.fit(X_train, y_train);"
   ]
  },
  {
   "cell_type": "code",
   "execution_count": null,
   "metadata": {},
   "outputs": [],
   "source": [
    "    # Save validation score\n",
    "    train_score = logreg_gs.score(X_train, y_train)\n",
    "    \n",
    "    # Save validation score\n",
    "    validation_score = logreg_gs.score(X_test, y_test)"
   ]
  },
  {
   "cell_type": "code",
   "execution_count": 111,
   "metadata": {},
   "outputs": [
    {
     "name": "stdout",
     "output_type": "stream",
     "text": [
      "{'logreg__C': 0.01}\n",
      "Pipeline(steps=[('cvec',\n",
      "                 CountVectorizer(max_features=8000, ngram_range=(1, 2),\n",
      "                                 stop_words='english')),\n",
      "                ('logreg',\n",
      "                 LogisticRegression(C=0.01, n_jobs=-2, random_state=86))])\n"
     ]
    },
    {
     "data": {
      "text/plain": [
       "{'cvec': CountVectorizer(max_features=8000, ngram_range=(1, 2), stop_words='english'),\n",
       " 'logreg': LogisticRegression(C=0.01, n_jobs=-2, random_state=86)}"
      ]
     },
     "execution_count": 111,
     "metadata": {},
     "output_type": "execute_result"
    }
   ],
   "source": [
    "# Consider the set of hyperparameters that acheived the best score\n",
    "print(logreg_gs.best_params_)\n",
    "\n",
    "#Consider\n",
    "print(logreg_gs.best_estimator_)\n",
    "# Consider dictionary 'named_steps' \n",
    "logreg_gs.best_estimator_.named_steps"
   ]
  },
  {
   "cell_type": "code",
   "execution_count": 94,
   "metadata": {},
   "outputs": [
    {
     "data": {
      "text/plain": [
       "0.7120666666666666"
      ]
     },
     "execution_count": 94,
     "metadata": {},
     "output_type": "execute_result"
    }
   ],
   "source": [
    "# Score model on training set.\n",
    "# from documentation: Mean cross-validated score of the best_estimator\n",
    "gs_est.best_score_"
   ]
  },
  {
   "cell_type": "code",
   "execution_count": 113,
   "metadata": {},
   "outputs": [
    {
     "name": "stdout",
     "output_type": "stream",
     "text": [
      "Training Score:\n",
      "\tCount-V  = 78.64%\n",
      "Test Score:\n",
      "\tCount-V  = 73.26%\n"
     ]
    }
   ],
   "source": [
    "# Training scores\n",
    "logreg_train_score = logreg_gs.score(X_train, y_train)\n",
    "\n",
    "# Test scores\n",
    "logreg_test_score = logreg_gs.score(X_test, y_test)\n",
    "\n",
    "print(f'Training Score:\\n\\tCount-V  = {round(logreg_train_score*100,3)}%')\n",
    "print(f'Test Score:\\n\\tCount-V  = {round(logreg_test_score*100,3)}%')"
   ]
  },
  {
   "cell_type": "code",
   "execution_count": 114,
   "metadata": {},
   "outputs": [
    {
     "data": {
      "text/plain": [
       "{'mean_fit_time': array([5.62597971, 5.60498433, 5.90355959, 6.2892128 , 4.40600915]),\n",
       " 'std_fit_time': array([0.06573567, 0.06681907, 0.1224386 , 0.12658392, 1.50129901]),\n",
       " 'mean_score_time': array([1.01972108, 1.01828403, 1.02342305, 0.94846148, 0.63766384]),\n",
       " 'std_score_time': array([0.03499063, 0.04658662, 0.0294691 , 0.06634973, 0.2006103 ]),\n",
       " 'param_logreg__C': masked_array(data=[1e-05, 0.00031622776601683794, 0.01,\n",
       "                    0.31622776601683794, 10.0],\n",
       "              mask=[False, False, False, False, False],\n",
       "        fill_value='?',\n",
       "             dtype=object),\n",
       " 'params': [{'logreg__C': 1e-05},\n",
       "  {'logreg__C': 0.00031622776601683794},\n",
       "  {'logreg__C': 0.01},\n",
       "  {'logreg__C': 0.31622776601683794},\n",
       "  {'logreg__C': 10.0}],\n",
       " 'split0_test_score': array([0.58166667, 0.706     , 0.722     , 0.70333333, 0.67766667]),\n",
       " 'split1_test_score': array([0.576     , 0.69433333, 0.71533333, 0.696     , 0.688     ]),\n",
       " 'split2_test_score': array([0.57766667, 0.701     , 0.726     , 0.69833333, 0.67366667]),\n",
       " 'split3_test_score': array([0.56533333, 0.70633333, 0.73266667, 0.70566667, 0.68266667]),\n",
       " 'split4_test_score': array([0.573     , 0.69533333, 0.72366667, 0.694     , 0.66933333]),\n",
       " 'mean_test_score': array([0.57473333, 0.7006    , 0.72393333, 0.69946667, 0.67826667]),\n",
       " 'std_test_score': array([0.00547073, 0.00508331, 0.00562692, 0.00439495, 0.00656387]),\n",
       " 'rank_test_score': array([5, 2, 1, 3, 4])}"
      ]
     },
     "execution_count": 114,
     "metadata": {},
     "output_type": "execute_result"
    }
   ],
   "source": [
    "logreg_gs.cv_results_"
   ]
  },
  {
   "cell_type": "code",
   "execution_count": 121,
   "metadata": {},
   "outputs": [
    {
     "data": {
      "image/png": "[encoded data removed]",
      "text/plain": [
       "<Figure size 432x288 with 2 Axes>"
      ]
     },
     "metadata": {
      "needs_background": "light"
     },
     "output_type": "display_data"
    }
   ],
   "source": [
    "# Get predictions\n",
    "logreg_preds = logreg_gs.predict(X_test)\n",
    "\n",
    "# Save confusion matrix values\n",
    "tn, fp, fn, tp = confusion_matrix(y_test, logreg_preds).ravel()\n",
    "\n",
    "# View confusion matrix\n",
    "plot_confusion_matrix(logreg_gs, X_test, y_test, cmap='Blues', values_format='d',\n",
    "                     display_labels=['depression','suicide']);"
   ]
  },
  {
   "cell_type": "markdown",
   "metadata": {},
   "source": [
    "### Figure 03\n",
    "\n",
    "***Confusion Matrix***  illustative of the predictive power of the logistic regression in the model selected above."
   ]
  },
  {
   "cell_type": "code",
   "execution_count": 117,
   "metadata": {},
   "outputs": [
    {
     "name": "stdout",
     "output_type": "stream",
     "text": [
      "0.7556346381969158\n"
     ]
    }
   ],
   "source": [
    "# Calculate the sensitivity (recall)\n",
    "print(tp / (tp + fn))"
   ]
  },
  {
   "cell_type": "code",
   "execution_count": 118,
   "metadata": {},
   "outputs": [
    {
     "name": "stdout",
     "output_type": "stream",
     "text": [
      "0.7090246863617968\n"
     ]
    }
   ],
   "source": [
    "# Calculate the specificity\n",
    "print(tn / (tn + fp))"
   ]
  },
  {
   "cell_type": "code",
   "execution_count": 119,
   "metadata": {},
   "outputs": [
    {
     "name": "stdout",
     "output_type": "stream",
     "text": [
      "0.726615969581749\n"
     ]
    }
   ],
   "source": [
    "# Calculate the precision\n",
    "print(tp/ (tp+fp))"
   ]
  },
  {
   "cell_type": "code",
   "execution_count": 153,
   "metadata": {},
   "outputs": [
    {
     "data": {
      "image/png": "[encoded data removed]",
      "text/plain": [
       "<Figure size 864x360 with 1 Axes>"
      ]
     },
     "metadata": {
      "needs_background": "light"
     },
     "output_type": "display_data"
    }
   ],
   "source": [
    "# Visualize the predicted values and the actual values\n",
    "# 1. The true values of our test set\n",
    "# 2. The predicted probabilities based on our model\n",
    "\n",
    "logreg_pred_df = pd.DataFrame({'actual_values': y_test,\n",
    "                        'pred_probs': logreg_gs.predict_proba(X_test)[:,1]})\n",
    "\n",
    "plt.figure(figsize = (12, 5))\n",
    "\n",
    "# plot distributions of predicted probabilities by actual values\n",
    "for group in logreg_pred_df.groupby('actual_values'):\n",
    "    sns.distplot(group[1], kde = False, bins = 20, label = f'Actual Outcome = {group[0]}')\n",
    "    \n",
    "# Add cutoff line\n",
    "plt.axvline(0.39, color = 'black', linestyle = '--')\n",
    "plt.xlabel('Predicted Probability of Suicidal Ideation P(Y=1)' )\n",
    "plt.legend();"
   ]
  },
  {
   "cell_type": "markdown",
   "metadata": {},
   "source": [
    "#### Fig. 04\n",
    "\n",
    "This is a distribution of probabilities that complements ***Fig. 02*** in Notebook 03 well. We have a long drawn out spread of features that contribute to a competition between False Positives or False Negatives and overlapping."
   ]
  },
  {
   "cell_type": "code",
   "execution_count": null,
   "metadata": {},
   "outputs": [],
   "source": [
    "def get_preds(predicted_probs, threshold):\n",
    "    return [0 if prob < threshold else 1 for prob in predicted_probs]\n",
    "get_preds(logreg_gs.predict_proba(X_test)[:,1], .3);"
   ]
  },
  {
   "cell_type": "code",
   "execution_count": 151,
   "metadata": {},
   "outputs": [
    {
     "data": {
      "image/png": "[encoded data removed]",
      "text/plain": [
       "<Figure size 432x288 with 2 Axes>"
      ]
     },
     "metadata": {
      "needs_background": "light"
     },
     "output_type": "display_data"
    }
   ],
   "source": [
    "# Get predictions\n",
    "logreg_preds2 = get_preds(logreg_gs.predict_proba(X_test)[:,1], .39)\n",
    "\n",
    "# Save confusion matrix values\n",
    "tn, fp, fn, tp = confusion_matrix(y_test, logreg_preds2).ravel()\n",
    "\n",
    "# View confusion matrix\n",
    "plot_confusion_matrix(logreg_gs, X_test, y_test, cmap='Purples', values_format='d',\n",
    "                     display_labels=['depression','suicide']);"
   ]
  },
  {
   "cell_type": "code",
   "execution_count": 152,
   "metadata": {},
   "outputs": [
    {
     "name": "stdout",
     "output_type": "stream",
     "text": [
      "0.8975879794385132\n"
     ]
    }
   ],
   "source": [
    "# Calculate the sensitivity (recall)\n",
    "print(tp / (tp + fn))"
   ]
  },
  {
   "cell_type": "code",
   "execution_count": 154,
   "metadata": {},
   "outputs": [
    {
     "name": "stdout",
     "output_type": "stream",
     "text": [
      "0.6397970687711386\n"
     ]
    }
   ],
   "source": [
    "# Calculate the precision\n",
    "print(tp/ (tp+fp))"
   ]
  },
  {
   "cell_type": "code",
   "execution_count": 93,
   "metadata": {},
   "outputs": [
    {
     "data": {
      "text/plain": [
       "{'memory': None,\n",
       " 'steps': [('cvec', CountVectorizer()), ('nb', MultinomialNB())],\n",
       " 'verbose': False,\n",
       " 'cvec': CountVectorizer(),\n",
       " 'nb': MultinomialNB(),\n",
       " 'cvec__analyzer': 'word',\n",
       " 'cvec__binary': False,\n",
       " 'cvec__decode_error': 'strict',\n",
       " 'cvec__dtype': numpy.int64,\n",
       " 'cvec__encoding': 'utf-8',\n",
       " 'cvec__input': 'content',\n",
       " 'cvec__lowercase': True,\n",
       " 'cvec__max_df': 1.0,\n",
       " 'cvec__max_features': None,\n",
       " 'cvec__min_df': 1,\n",
       " 'cvec__ngram_range': (1, 1),\n",
       " 'cvec__preprocessor': None,\n",
       " 'cvec__stop_words': None,\n",
       " 'cvec__strip_accents': None,\n",
       " 'cvec__token_pattern': '(?u)\\\\b\\\\w\\\\w+\\\\b',\n",
       " 'cvec__tokenizer': None,\n",
       " 'cvec__vocabulary': None,\n",
       " 'nb__alpha': 1.0,\n",
       " 'nb__class_prior': None,\n",
       " 'nb__fit_prior': True}"
      ]
     },
     "execution_count": 93,
     "metadata": {},
     "output_type": "execute_result"
    }
   ],
   "source": [
    "# What other parameters might make an improvement\n",
    "pipe.get_params()"
   ]
  },
  {
   "cell_type": "code",
   "execution_count": null,
   "metadata": {},
   "outputs": [],
   "source": []
  }
 ],
 "metadata": {
  "kernelspec": {
   "display_name": "Python 3",
   "language": "python",
   "name": "python3"
  },
  "language_info": {
   "codemirror_mode": {
    "name": "ipython",
    "version": 3
   },
   "file_extension": ".py",
   "mimetype": "text/x-python",
   "name": "python",
   "nbconvert_exporter": "python",
   "pygments_lexer": "ipython3",
   "version": "3.8.3"
  }
 },
 "nbformat": 4,
 "nbformat_minor": 4
}
